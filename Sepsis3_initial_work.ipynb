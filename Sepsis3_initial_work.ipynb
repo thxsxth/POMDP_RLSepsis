{
  "nbformat": 4,
  "nbformat_minor": 0,
  "metadata": {
    "colab": {
      "name": "Sepsis3_initial_work.ipynb",
      "provenance": [],
      "collapsed_sections": [],
      "mount_file_id": "1R29nEsfv_hy-TFo1lbRolSW0LVK9PhUw",
      "authorship_tag": "ABX9TyPb2tn9LlEOFJREEOrd3dvj",
      "include_colab_link": true
    },
    "kernelspec": {
      "name": "python3",
      "display_name": "Python 3"
    }
  },
  "cells": [
    {
      "cell_type": "markdown",
      "metadata": {
        "id": "view-in-github",
        "colab_type": "text"
      },
      "source": [
        "<a href=\"https://colab.research.google.com/github/thxsxth/RLMimic/blob/master/Sepsis3_initial_work.ipynb\" target=\"_parent\"><img src=\"https://colab.research.google.com/assets/colab-badge.svg\" alt=\"Open In Colab\"/></a>"
      ]
    },
    {
      "cell_type": "code",
      "metadata": {
        "id": "cSRJZLP1gVv4",
        "colab_type": "code",
        "outputId": "a5e06048-2928-43b5-945c-478fc760aa9e",
        "colab": {
          "base_uri": "https://localhost:8080/",
          "height": 51
        }
      },
      "source": [
        "cd 'drive/My Drive/sepsis3-cohort'"
      ],
      "execution_count": 103,
      "outputs": [
        {
          "output_type": "stream",
          "text": [
            "[Errno 2] No such file or directory: 'drive/My Drive/sepsis3-cohort'\n",
            "/content/drive/My Drive/sepsis3-cohort\n"
          ],
          "name": "stdout"
        }
      ]
    },
    {
      "cell_type": "markdown",
      "metadata": {
        "id": "ywMYH-p784oL",
        "colab_type": "text"
      },
      "source": [
        "# This Notebook presents the interative (rough) work done when deifining cohorts, there was errors and included to show the mistakes that were done\n",
        "The csv files were derived using GCP Big Query, and SQL and Amazon AWS Athena, Some cohort analysis codes were  from https://github.com/alistairewj/sepsis3-mimic/tree/master/query "
      ]
    },
    {
      "cell_type": "code",
      "metadata": {
        "id": "Ed_gcGRrgefo",
        "colab_type": "code",
        "colab": {}
      },
      "source": [
        "import pandas as pd\n",
        "import numpy as np"
      ],
      "execution_count": 0,
      "outputs": []
    },
    {
      "cell_type": "code",
      "metadata": {
        "id": "0GPM15V9gts4",
        "colab_type": "code",
        "colab": {}
      },
      "source": [
        "df=pd.read_csv('sepsis3-cohort.csv')"
      ],
      "execution_count": 0,
      "outputs": []
    },
    {
      "cell_type": "code",
      "metadata": {
        "id": "ihGFzMgogub6",
        "colab_type": "code",
        "outputId": "ab716c6e-2ba2-4af5-dd4f-bd14affef279",
        "colab": {
          "base_uri": "https://localhost:8080/",
          "height": 394
        }
      },
      "source": [
        "df.head()"
      ],
      "execution_count": 0,
      "outputs": [
        {
          "output_type": "execute_result",
          "data": {
            "text/html": [
              "<div>\n",
              "<style scoped>\n",
              "    .dataframe tbody tr th:only-of-type {\n",
              "        vertical-align: middle;\n",
              "    }\n",
              "\n",
              "    .dataframe tbody tr th {\n",
              "        vertical-align: top;\n",
              "    }\n",
              "\n",
              "    .dataframe thead th {\n",
              "        text-align: right;\n",
              "    }\n",
              "</style>\n",
              "<table border=\"1\" class=\"dataframe\">\n",
              "  <thead>\n",
              "    <tr style=\"text-align: right;\">\n",
              "      <th></th>\n",
              "      <th>icustay_id</th>\n",
              "      <th>hadm_id</th>\n",
              "      <th>excluded</th>\n",
              "      <th>intime</th>\n",
              "      <th>outtime</th>\n",
              "      <th>dbsource</th>\n",
              "      <th>suspected_infection_time_poe</th>\n",
              "      <th>suspected_infection_time_poe_days</th>\n",
              "      <th>specimen_poe</th>\n",
              "      <th>positiveculture_poe</th>\n",
              "      <th>antibiotic_time_poe</th>\n",
              "      <th>blood_culture_time</th>\n",
              "      <th>blood_culture_positive</th>\n",
              "      <th>age</th>\n",
              "      <th>gender</th>\n",
              "      <th>is_male</th>\n",
              "      <th>ethnicity</th>\n",
              "      <th>race_white</th>\n",
              "      <th>race_black</th>\n",
              "      <th>race_hispanic</th>\n",
              "      <th>race_other</th>\n",
              "      <th>Height</th>\n",
              "      <th>Weight</th>\n",
              "      <th>bmi</th>\n",
              "      <th>first_service</th>\n",
              "      <th>HOSPITAL_EXPIRE_FLAG</th>\n",
              "      <th>THIRTYDAY_EXPIRE_FLAG</th>\n",
              "      <th>icu_los</th>\n",
              "      <th>hosp_los</th>\n",
              "      <th>sepsis_angus</th>\n",
              "      <th>sepsis_martin</th>\n",
              "      <th>sepsis_explicit</th>\n",
              "      <th>septic_shock_explicit</th>\n",
              "      <th>severe_sepsis_explicit</th>\n",
              "      <th>sepsis_nqf</th>\n",
              "      <th>sepsis_cdc</th>\n",
              "      <th>sepsis_cdc_simple</th>\n",
              "      <th>vent</th>\n",
              "      <th>sofa</th>\n",
              "      <th>lods</th>\n",
              "      <th>sirs</th>\n",
              "      <th>qsofa</th>\n",
              "      <th>qsofa_sysbp_score</th>\n",
              "      <th>qsofa_gcs_score</th>\n",
              "      <th>qsofa_resprate_score</th>\n",
              "    </tr>\n",
              "  </thead>\n",
              "  <tbody>\n",
              "    <tr>\n",
              "      <th>0</th>\n",
              "      <td>200001</td>\n",
              "      <td>152234</td>\n",
              "      <td>1</td>\n",
              "      <td>2181-11-25 19:06:12</td>\n",
              "      <td>2181-11-28 20:59:25</td>\n",
              "      <td>metavision</td>\n",
              "      <td>NaN</td>\n",
              "      <td>NaN</td>\n",
              "      <td>NaN</td>\n",
              "      <td>NaN</td>\n",
              "      <td>2181-11-23 00:00:00</td>\n",
              "      <td>2181-11-24 00:12:00</td>\n",
              "      <td>1</td>\n",
              "      <td>61.0</td>\n",
              "      <td>F</td>\n",
              "      <td>0</td>\n",
              "      <td>ASIAN - ASIAN INDIAN</td>\n",
              "      <td>0</td>\n",
              "      <td>0</td>\n",
              "      <td>0</td>\n",
              "      <td>1</td>\n",
              "      <td>170.180000</td>\n",
              "      <td>61.0</td>\n",
              "      <td>21.062640</td>\n",
              "      <td>MED</td>\n",
              "      <td>0</td>\n",
              "      <td>0</td>\n",
              "      <td>3.0786</td>\n",
              "      <td>16</td>\n",
              "      <td>0</td>\n",
              "      <td>0</td>\n",
              "      <td>0</td>\n",
              "      <td>0</td>\n",
              "      <td>0</td>\n",
              "      <td>0</td>\n",
              "      <td>0</td>\n",
              "      <td>0</td>\n",
              "      <td>0</td>\n",
              "      <td>6</td>\n",
              "      <td>7</td>\n",
              "      <td>3</td>\n",
              "      <td>2</td>\n",
              "      <td>1.0</td>\n",
              "      <td>NaN</td>\n",
              "      <td>1.0</td>\n",
              "    </tr>\n",
              "    <tr>\n",
              "      <th>1</th>\n",
              "      <td>200003</td>\n",
              "      <td>163557</td>\n",
              "      <td>1</td>\n",
              "      <td>2199-08-02 19:50:04</td>\n",
              "      <td>2199-08-08 17:09:18</td>\n",
              "      <td>carevue</td>\n",
              "      <td>NaN</td>\n",
              "      <td>NaN</td>\n",
              "      <td>NaN</td>\n",
              "      <td>NaN</td>\n",
              "      <td>2199-08-02 00:00:00</td>\n",
              "      <td>2199-08-02 21:02:00</td>\n",
              "      <td>1</td>\n",
              "      <td>48.0</td>\n",
              "      <td>M</td>\n",
              "      <td>1</td>\n",
              "      <td>WHITE</td>\n",
              "      <td>1</td>\n",
              "      <td>0</td>\n",
              "      <td>0</td>\n",
              "      <td>0</td>\n",
              "      <td>177.800000</td>\n",
              "      <td>77.0</td>\n",
              "      <td>24.357192</td>\n",
              "      <td>SURG</td>\n",
              "      <td>0</td>\n",
              "      <td>0</td>\n",
              "      <td>5.8884</td>\n",
              "      <td>20</td>\n",
              "      <td>1</td>\n",
              "      <td>1</td>\n",
              "      <td>0</td>\n",
              "      <td>0</td>\n",
              "      <td>0</td>\n",
              "      <td>1</td>\n",
              "      <td>0</td>\n",
              "      <td>0</td>\n",
              "      <td>0</td>\n",
              "      <td>4</td>\n",
              "      <td>4</td>\n",
              "      <td>4</td>\n",
              "      <td>2</td>\n",
              "      <td>1.0</td>\n",
              "      <td>0.0</td>\n",
              "      <td>1.0</td>\n",
              "    </tr>\n",
              "    <tr>\n",
              "      <th>2</th>\n",
              "      <td>200006</td>\n",
              "      <td>189514</td>\n",
              "      <td>1</td>\n",
              "      <td>2159-09-03 11:28:14</td>\n",
              "      <td>2159-09-04 19:08:10</td>\n",
              "      <td>carevue</td>\n",
              "      <td>NaN</td>\n",
              "      <td>NaN</td>\n",
              "      <td>NaN</td>\n",
              "      <td>NaN</td>\n",
              "      <td>NaN</td>\n",
              "      <td>2159-09-03 09:00:00</td>\n",
              "      <td>1</td>\n",
              "      <td>54.0</td>\n",
              "      <td>M</td>\n",
              "      <td>1</td>\n",
              "      <td>OTHER</td>\n",
              "      <td>0</td>\n",
              "      <td>0</td>\n",
              "      <td>0</td>\n",
              "      <td>1</td>\n",
              "      <td>168.002857</td>\n",
              "      <td>82.4</td>\n",
              "      <td>29.194018</td>\n",
              "      <td>MED</td>\n",
              "      <td>0</td>\n",
              "      <td>0</td>\n",
              "      <td>1.3194</td>\n",
              "      <td>2</td>\n",
              "      <td>0</td>\n",
              "      <td>0</td>\n",
              "      <td>0</td>\n",
              "      <td>0</td>\n",
              "      <td>0</td>\n",
              "      <td>0</td>\n",
              "      <td>0</td>\n",
              "      <td>0</td>\n",
              "      <td>0</td>\n",
              "      <td>1</td>\n",
              "      <td>2</td>\n",
              "      <td>2</td>\n",
              "      <td>2</td>\n",
              "      <td>1.0</td>\n",
              "      <td>0.0</td>\n",
              "      <td>1.0</td>\n",
              "    </tr>\n",
              "    <tr>\n",
              "      <th>3</th>\n",
              "      <td>200007</td>\n",
              "      <td>129310</td>\n",
              "      <td>1</td>\n",
              "      <td>2109-02-17 10:03:37</td>\n",
              "      <td>2109-02-18 17:03:12</td>\n",
              "      <td>carevue</td>\n",
              "      <td>NaN</td>\n",
              "      <td>NaN</td>\n",
              "      <td>NaN</td>\n",
              "      <td>NaN</td>\n",
              "      <td>NaN</td>\n",
              "      <td>NaN</td>\n",
              "      <td>0</td>\n",
              "      <td>44.0</td>\n",
              "      <td>M</td>\n",
              "      <td>1</td>\n",
              "      <td>WHITE</td>\n",
              "      <td>1</td>\n",
              "      <td>0</td>\n",
              "      <td>0</td>\n",
              "      <td>0</td>\n",
              "      <td>177.800000</td>\n",
              "      <td>126.0</td>\n",
              "      <td>39.857223</td>\n",
              "      <td>CMED</td>\n",
              "      <td>0</td>\n",
              "      <td>0</td>\n",
              "      <td>1.2914</td>\n",
              "      <td>3</td>\n",
              "      <td>0</td>\n",
              "      <td>0</td>\n",
              "      <td>0</td>\n",
              "      <td>0</td>\n",
              "      <td>0</td>\n",
              "      <td>0</td>\n",
              "      <td>0</td>\n",
              "      <td>0</td>\n",
              "      <td>0</td>\n",
              "      <td>1</td>\n",
              "      <td>2</td>\n",
              "      <td>2</td>\n",
              "      <td>2</td>\n",
              "      <td>1.0</td>\n",
              "      <td>0.0</td>\n",
              "      <td>1.0</td>\n",
              "    </tr>\n",
              "    <tr>\n",
              "      <th>4</th>\n",
              "      <td>200009</td>\n",
              "      <td>129607</td>\n",
              "      <td>1</td>\n",
              "      <td>2189-11-30 10:34:32</td>\n",
              "      <td>2189-12-02 14:17:37</td>\n",
              "      <td>carevue</td>\n",
              "      <td>NaN</td>\n",
              "      <td>NaN</td>\n",
              "      <td>NaN</td>\n",
              "      <td>NaN</td>\n",
              "      <td>2189-12-01 00:00:00</td>\n",
              "      <td>NaN</td>\n",
              "      <td>0</td>\n",
              "      <td>47.0</td>\n",
              "      <td>F</td>\n",
              "      <td>0</td>\n",
              "      <td>WHITE</td>\n",
              "      <td>1</td>\n",
              "      <td>0</td>\n",
              "      <td>0</td>\n",
              "      <td>0</td>\n",
              "      <td>161.290000</td>\n",
              "      <td>87.2</td>\n",
              "      <td>33.519814</td>\n",
              "      <td>CSURG</td>\n",
              "      <td>0</td>\n",
              "      <td>0</td>\n",
              "      <td>2.1549</td>\n",
              "      <td>6</td>\n",
              "      <td>0</td>\n",
              "      <td>0</td>\n",
              "      <td>0</td>\n",
              "      <td>0</td>\n",
              "      <td>0</td>\n",
              "      <td>0</td>\n",
              "      <td>0</td>\n",
              "      <td>0</td>\n",
              "      <td>0</td>\n",
              "      <td>3</td>\n",
              "      <td>4</td>\n",
              "      <td>4</td>\n",
              "      <td>2</td>\n",
              "      <td>1.0</td>\n",
              "      <td>0.0</td>\n",
              "      <td>1.0</td>\n",
              "    </tr>\n",
              "  </tbody>\n",
              "</table>\n",
              "</div>"
            ],
            "text/plain": [
              "   icustay_id  hadm_id  ...  qsofa_gcs_score qsofa_resprate_score\n",
              "0      200001   152234  ...              NaN                  1.0\n",
              "1      200003   163557  ...              0.0                  1.0\n",
              "2      200006   189514  ...              0.0                  1.0\n",
              "3      200007   129310  ...              0.0                  1.0\n",
              "4      200009   129607  ...              0.0                  1.0\n",
              "\n",
              "[5 rows x 45 columns]"
            ]
          },
          "metadata": {
            "tags": []
          },
          "execution_count": 26
        }
      ]
    },
    {
      "cell_type": "code",
      "metadata": {
        "id": "hpzs2n5pg1bl",
        "colab_type": "code",
        "outputId": "40876c23-afdc-4864-daa7-1470b91180ab",
        "colab": {
          "base_uri": "https://localhost:8080/",
          "height": 34
        }
      },
      "source": [
        "df[df.excluded==0].shape"
      ],
      "execution_count": 0,
      "outputs": [
        {
          "output_type": "execute_result",
          "data": {
            "text/plain": [
              "(12965, 45)"
            ]
          },
          "metadata": {
            "tags": []
          },
          "execution_count": 4
        }
      ]
    },
    {
      "cell_type": "code",
      "metadata": {
        "id": "Dm9IqyXegegF",
        "colab_type": "code",
        "outputId": "81f95140-26ea-4690-fc53-cd9b7aa836d0",
        "colab": {
          "base_uri": "https://localhost:8080/",
          "height": 221
        }
      },
      "source": [
        "df['suspected_infection_time_poe'].notnull()"
      ],
      "execution_count": 0,
      "outputs": [
        {
          "output_type": "execute_result",
          "data": {
            "text/plain": [
              "0        False\n",
              "1        False\n",
              "2        False\n",
              "3        False\n",
              "4        False\n",
              "         ...  \n",
              "61527    False\n",
              "61528     True\n",
              "61529    False\n",
              "61530    False\n",
              "61531    False\n",
              "Name: suspected_infection_time_poe, Length: 61532, dtype: bool"
            ]
          },
          "metadata": {
            "tags": []
          },
          "execution_count": 15
        }
      ]
    },
    {
      "cell_type": "code",
      "metadata": {
        "id": "tTKRTd-yhF6C",
        "colab_type": "code",
        "outputId": "9e774e26-ca56-4c0e-da10-9a0f0c6a0945",
        "colab": {
          "base_uri": "https://localhost:8080/",
          "height": 34
        }
      },
      "source": [
        "np.sum(df['sofa']>2), np.sum(df['suspected_infection_time_poe'].notnull())"
      ],
      "execution_count": 0,
      "outputs": [
        {
          "output_type": "execute_result",
          "data": {
            "text/plain": [
              "(36926, 9754)"
            ]
          },
          "metadata": {
            "tags": []
          },
          "execution_count": 18
        }
      ]
    },
    {
      "cell_type": "code",
      "metadata": {
        "id": "yJbzHkrvhRQ1",
        "colab_type": "code",
        "outputId": "300378b4-4ebc-4dc7-8e64-d8830425aab6",
        "colab": {
          "base_uri": "https://localhost:8080/",
          "height": 34
        }
      },
      "source": [
        "np.sum(df[df['sofa']>2]['suspected_infection_time_poe'].notnull())"
      ],
      "execution_count": 0,
      "outputs": [
        {
          "output_type": "execute_result",
          "data": {
            "text/plain": [
              "6525"
            ]
          },
          "metadata": {
            "tags": []
          },
          "execution_count": 21
        }
      ]
    },
    {
      "cell_type": "code",
      "metadata": {
        "id": "g2oep5a5h1WM",
        "colab_type": "code",
        "outputId": "03b808a5-1275-4afc-91f0-a3c028929b41",
        "colab": {
          "base_uri": "https://localhost:8080/",
          "height": 799
        }
      },
      "source": [
        "df[df.sepsis_explicit==1].count()"
      ],
      "execution_count": 0,
      "outputs": [
        {
          "output_type": "execute_result",
          "data": {
            "text/plain": [
              "icustay_id                           4734\n",
              "hadm_id                              4734\n",
              "excluded                             4734\n",
              "intime                               4734\n",
              "outtime                              4734\n",
              "dbsource                             4734\n",
              "suspected_infection_time_poe         1007\n",
              "suspected_infection_time_poe_days    1007\n",
              "specimen_poe                         1007\n",
              "positiveculture_poe                  1007\n",
              "antibiotic_time_poe                  4681\n",
              "blood_culture_time                   4558\n",
              "blood_culture_positive               4734\n",
              "age                                  4734\n",
              "gender                               4734\n",
              "is_male                              4734\n",
              "ethnicity                            4734\n",
              "race_white                           4734\n",
              "race_black                           4734\n",
              "race_hispanic                        4734\n",
              "race_other                           4734\n",
              "Height                               3450\n",
              "Weight                               4314\n",
              "bmi                                  3251\n",
              "first_service                        4733\n",
              "HOSPITAL_EXPIRE_FLAG                 4734\n",
              "THIRTYDAY_EXPIRE_FLAG                4734\n",
              "icu_los                              4734\n",
              "hosp_los                             4734\n",
              "sepsis_angus                         4734\n",
              "sepsis_martin                        4734\n",
              "sepsis_explicit                      4734\n",
              "septic_shock_explicit                4734\n",
              "severe_sepsis_explicit               4734\n",
              "sepsis_nqf                           4734\n",
              "sepsis_cdc                           4734\n",
              "sepsis_cdc_simple                    4734\n",
              "vent                                 4734\n",
              "sofa                                 4734\n",
              "lods                                 4734\n",
              "sirs                                 4734\n",
              "qsofa                                4734\n",
              "qsofa_sysbp_score                    4647\n",
              "qsofa_gcs_score                      2267\n",
              "qsofa_resprate_score                 4652\n",
              "dtype: int64"
            ]
          },
          "metadata": {
            "tags": []
          },
          "execution_count": 5
        }
      ]
    },
    {
      "cell_type": "code",
      "metadata": {
        "id": "Ua4nxvwhhCX4",
        "colab_type": "code",
        "colab": {}
      },
      "source": [
        ""
      ],
      "execution_count": 0,
      "outputs": []
    },
    {
      "cell_type": "code",
      "metadata": {
        "id": "O_BcGBrzgbZn",
        "colab_type": "code",
        "colab": {}
      },
      "source": [
        ""
      ],
      "execution_count": 0,
      "outputs": []
    },
    {
      "cell_type": "code",
      "metadata": {
        "id": "SQ8AqL7hh8PW",
        "colab_type": "code",
        "colab": {}
      },
      "source": [
        "co=pd.read_csv('Sepsis3_with_exclusions.csv')"
      ],
      "execution_count": 0,
      "outputs": []
    },
    {
      "cell_type": "code",
      "metadata": {
        "id": "cqKsLcgRnoXV",
        "colab_type": "code",
        "outputId": "c4c36cd9-53ef-4949-917c-7abd1f2d3f88",
        "colab": {
          "base_uri": "https://localhost:8080/",
          "height": 170
        }
      },
      "source": [
        "\n",
        "# print out the exclusions\n",
        "print('Cohort - initial size: {} ICU stays'.format(co.shape[0]))\n",
        "idxRem = np.zeros(co.shape[0])\n",
        "for c in co.columns:\n",
        "    if c.startswith('exclusion_'):\n",
        "        print('  {:5g} ({:2.2f}%) - {}'.format(np.sum(co[c]),np.mean(co[c])*100.0, c))\n",
        "        idxRem[co[c].values==1] = 1\n",
        "        \n",
        "print('Final cohort size: {} ICU stays ({:2.2f}%).'.format(co.shape[0] - np.sum(idxRem), (1-np.mean(idxRem))*100.0))"
      ],
      "execution_count": 0,
      "outputs": [
        {
          "output_type": "stream",
          "text": [
            "Cohort - initial size: 61532 ICU stays\n",
            "    491 (0.80%) - exclusion_bad_data\n",
            "   1087 (1.77%) - exclusion_late_suspicion\n",
            "  15056 (24.47%) - exclusion_secondarystay\n",
            "   8119 (13.19%) - exclusion_nonadult\n",
            "   7343 (11.93%) - exclusion_csurg\n",
            "  37912 (61.61%) - exclusion_carevue\n",
            "   1988 (3.23%) - exclusion_early_suspicion\n",
            "Final cohort size: 12965.0 ICU stays (21.07%).\n"
          ],
          "name": "stdout"
        }
      ]
    },
    {
      "cell_type": "code",
      "metadata": {
        "id": "kNQ2Ul3kytXG",
        "colab_type": "code",
        "outputId": "fd634050-211d-4bfc-da0f-c5ce2a94897d",
        "colab": {
          "base_uri": "https://localhost:8080/",
          "height": 544
        }
      },
      "source": [
        "# print out the exclusions *SEQUENTIALLY* - i.e. if already excluded, don't re-print\n",
        "print('Cohort - initial size: {} ICU stays'.format(co.shape[0]))\n",
        "\n",
        "COL_REM = ['exclusion_nonadult', 'exclusion_secondarystay','exclusion_carevue',\n",
        "           'exclusion_csurg',\n",
        "           'exclusion_early_suspicion', 'exclusion_late_suspicion', 'exclusion_bad_data']\n",
        "\n",
        "idxRem = np.zeros(co.shape[0])\n",
        "for c in COL_REM:\n",
        "    N_REM = np.sum( (idxRem == 0) & (co[c].values==1) )\n",
        "    print('  {:5g} ({:2.2f}%) - {}'.format(N_REM,N_REM*100.0/co.shape[0], c))\n",
        "    idxRem[co[c].values==1] = 1\n",
        "        \n",
        "print('Final non-suspected cohort size: {:g} ICU stays ({:2.2f}%).'.format(co.shape[0] - np.sum(idxRem), (1-np.mean(idxRem))*100.0))\n",
        "print('Of these patients...')\n",
        "c='suspected_infection_time_poe'\n",
        "N_REM = np.sum( (idxRem) & (co[c].notna()) )\n",
        "print('  {:5g} ({:2.2f}%) - {}'.format(N_REM, N_REM*100.0/ (co.shape[0] - np.sum(idxRem)), c))\n",
        "d='suspected_infection_time_poe_days'\n",
        "N_REM = np.sum( (idxRem) & (co[d].notna()) )\n",
        "print('  {:5g} ({:2.2f}%) - {}'.format(N_REM, N_REM*100.0/ (co.shape[0] - np.sum(idxRem)), d))\n",
        "\n",
        "\n",
        "print()\n",
        "# define idxRem to exclude non-metavision admissions initially\n",
        "print('=============================')\n",
        "print('====== METAVISION ONLY ======')\n",
        "print(' Patients admitted 2008-2012 ')\n",
        "print('=============================')\n",
        "print()\n",
        "\n",
        "idxRem = co['dbsource']!='metavision'\n",
        "N = np.sum(~idxRem)\n",
        "N_IGNORE = np.sum(idxRem)\n",
        "\n",
        "# print out the exclusions *SEQUENTIALLY* - i.e. if already excluded, don't re-print\n",
        "print('Cohort - initial size: {} ICU stays'.format(N))\n",
        "\n",
        "for c in COL_REM:\n",
        "    N_REM = np.sum( (idxRem == 0) & (co[c].values==1) )\n",
        "    print('  {:5g} ({:2.2f}%) - {}'.format(N_REM,N_REM*100.0/N, c))\n",
        "    idxRem[co[c].values==1] = True\n",
        "        \n",
        "print('Final non-suspected cohort size: {}/{} ICU stays ({:2.2f}%).'.format(\n",
        "        np.sum(~idxRem), N, np.sum(~idxRem)*100.0/N))\n",
        "print('')\n",
        "\n",
        "print('Of these patients...')\n",
        "for c in ['suspected_infection_time_poe','suspected_infection_time_poe_days']:\n",
        "  N_REM = np.sum( (~idxRem) & (co[c].notna()) )\n",
        "  print('  {:5g} ({:2.2f}%) - {}'.format(N_REM, N_REM*100.0/ np.sum(~idxRem), c))"
      ],
      "execution_count": 0,
      "outputs": [
        {
          "output_type": "stream",
          "text": [
            "Cohort - initial size: 61532 ICU stays\n",
            "   8119 (13.19%) - exclusion_nonadult\n",
            "  14826 (24.09%) - exclusion_secondarystay\n",
            "  22508 (36.58%) - exclusion_carevue\n",
            "   2298 (3.73%) - exclusion_csurg\n",
            "    485 (0.79%) - exclusion_early_suspicion\n",
            "    310 (0.50%) - exclusion_late_suspicion\n",
            "     21 (0.03%) - exclusion_bad_data\n",
            "Final non-suspected cohort size: 12965 ICU stays (21.07%).\n",
            "Of these patients...\n",
            "   7509 (57.92%) - suspected_infection_time_poe\n",
            "   7509 (57.92%) - suspected_infection_time_poe_days\n",
            "\n",
            "=============================\n",
            "====== METAVISION ONLY ======\n",
            " Patients admitted 2008-2012 \n",
            "=============================\n",
            "\n",
            "Cohort - initial size: 23620 ICU stays\n",
            "      5 (0.02%) - exclusion_nonadult\n",
            "   7536 (31.91%) - exclusion_secondarystay\n",
            "      0 (0.00%) - exclusion_carevue\n",
            "   2298 (9.73%) - exclusion_csurg\n",
            "    485 (2.05%) - exclusion_early_suspicion\n",
            "    310 (1.31%) - exclusion_late_suspicion\n",
            "     21 (0.09%) - exclusion_bad_data\n",
            "Final non-suspected cohort size: 12965/23620 ICU stays (54.89%).\n",
            "\n",
            "Of these patients...\n",
            "   2245 (17.32%) - suspected_infection_time_poe\n",
            "   2245 (17.32%) - suspected_infection_time_poe_days\n"
          ],
          "name": "stdout"
        }
      ]
    },
    {
      "cell_type": "code",
      "metadata": {
        "id": "h0lJ8pNzy8fM",
        "colab_type": "code",
        "outputId": "96b50401-6c3d-4afd-c38f-2869a5a3d4be",
        "colab": {
          "base_uri": "https://localhost:8080/",
          "height": 289
        }
      },
      "source": [
        "co.columns"
      ],
      "execution_count": 0,
      "outputs": [
        {
          "output_type": "execute_result",
          "data": {
            "text/plain": [
              "Index(['icustay_id', 'hadm_id', 'excluded', 'intime', 'outtime', 'dbsource',\n",
              "       'suspected_infection_time_poe', 'suspected_infection_time_poe_days',\n",
              "       'specimen_poe', 'positiveculture_poe', 'antibiotic_time_poe',\n",
              "       'blood_culture_time', 'blood_culture_positive', 'age', 'gender',\n",
              "       'is_male', 'ethnicity', 'exclusion_bad_data',\n",
              "       'exclusion_late_suspicion', 'exclusion_secondarystay',\n",
              "       'exclusion_nonadult', 'exclusion_csurg', 'exclusion_carevue',\n",
              "       'exclusion_early_suspicion', 'race_white', 'race_black',\n",
              "       'race_hispanic', 'race_other', 'Height', 'Weight', 'bmi',\n",
              "       'first_service', 'HOSPITAL_EXPIRE_FLAG', 'THIRTYDAY_EXPIRE_FLAG',\n",
              "       'icu_los', 'hosp_los', 'sepsis_angus', 'sepsis_martin',\n",
              "       'sepsis_explicit', 'septic_shock_explicit', 'severe_sepsis_explicit',\n",
              "       'sepsis_nqf', 'sepsis_cdc', 'sepsis_cdc_simple', 'vent', 'sofa', 'lods',\n",
              "       'sirs', 'qsofa', 'qsofa_sysbp_score', 'qsofa_gcs_score',\n",
              "       'qsofa_resprate_score'],\n",
              "      dtype='object')"
            ]
          },
          "metadata": {
            "tags": []
          },
          "execution_count": 14
        }
      ]
    },
    {
      "cell_type": "code",
      "metadata": {
        "id": "AG2MJ8Yozsox",
        "colab_type": "code",
        "colab": {}
      },
      "source": [
        "# colours for prettier plots\n",
        "import matplotlib\n",
        "import matplotlib.pyplot as plt\n",
        "import colorsys\n",
        "def gg_color_hue(n):\n",
        "    hues = np.linspace(15, 375, n)\n",
        "    hsv_tuples = [(x*1.0/360.0, 0.5, 0.8) for x in hues]\n",
        "    rgb_tuples = map(lambda x: colorsys.hsv_to_rgb(*x), hsv_tuples)\n",
        "    return rgb_tuples\n",
        "\n",
        "marker = ['v','o','d','^','s','o','+']\n",
        "ls = ['-','-','-','-','-','s','--','--']\n",
        "\n",
        "# plot settings\n",
        "%matplotlib inline\n",
        "plt.style.use('ggplot')\n",
        "font = {'size'   : 20}\n",
        "matplotlib.rc('font', **font)"
      ],
      "execution_count": 0,
      "outputs": []
    },
    {
      "cell_type": "markdown",
      "metadata": {
        "id": "jRVr74rBxVFA",
        "colab_type": "text"
      },
      "source": [
        "#### Let's compare Sepsis 3 cohorts of Big Query and Athena (These should be the same)"
      ]
    },
    {
      "cell_type": "code",
      "metadata": {
        "id": "CsBWM4bn8Fkw",
        "colab_type": "code",
        "colab": {}
      },
      "source": [
        "df_athena=pd.read_csv('sepsis3-cohort_athena.csv' )"
      ],
      "execution_count": 0,
      "outputs": []
    },
    {
      "cell_type": "code",
      "metadata": {
        "id": "5QUxCSHRxfs0",
        "colab_type": "code",
        "outputId": "e5e4ba42-5316-496f-82bf-9999fe738209",
        "colab": {
          "base_uri": "https://localhost:8080/",
          "height": 411
        }
      },
      "source": [
        "df_athena.head()"
      ],
      "execution_count": 104,
      "outputs": [
        {
          "output_type": "execute_result",
          "data": {
            "text/html": [
              "<div>\n",
              "<style scoped>\n",
              "    .dataframe tbody tr th:only-of-type {\n",
              "        vertical-align: middle;\n",
              "    }\n",
              "\n",
              "    .dataframe tbody tr th {\n",
              "        vertical-align: top;\n",
              "    }\n",
              "\n",
              "    .dataframe thead th {\n",
              "        text-align: right;\n",
              "    }\n",
              "</style>\n",
              "<table border=\"1\" class=\"dataframe\">\n",
              "  <thead>\n",
              "    <tr style=\"text-align: right;\">\n",
              "      <th></th>\n",
              "      <th>Unnamed: 0</th>\n",
              "      <th>hadm_id</th>\n",
              "      <th>icustay_id</th>\n",
              "      <th>intime</th>\n",
              "      <th>outtime</th>\n",
              "      <th>age</th>\n",
              "      <th>gender</th>\n",
              "      <th>ethnicity</th>\n",
              "      <th>first_service</th>\n",
              "      <th>dbsource</th>\n",
              "      <th>suspected_of_infection_poe</th>\n",
              "      <th>suspected_infection_time_poe</th>\n",
              "      <th>suspected_infection_time_poe_days</th>\n",
              "      <th>specimen_poe</th>\n",
              "      <th>positiveculture_poe</th>\n",
              "      <th>antibiotic_time_poe</th>\n",
              "      <th>exclusion_secondarystay</th>\n",
              "      <th>exclusion_nonadult</th>\n",
              "      <th>exclusion_csurg</th>\n",
              "      <th>exclusion_carevue</th>\n",
              "      <th>exclusion_early_suspicion</th>\n",
              "      <th>exclusion_late_suspicion</th>\n",
              "      <th>exclusion_bad_data</th>\n",
              "      <th>excluded</th>\n",
              "    </tr>\n",
              "  </thead>\n",
              "  <tbody>\n",
              "    <tr>\n",
              "      <th>0</th>\n",
              "      <td>0</td>\n",
              "      <td>152234</td>\n",
              "      <td>200001</td>\n",
              "      <td>2181-11-25 19:06:12</td>\n",
              "      <td>2181-11-28 20:59:25</td>\n",
              "      <td>-61.0</td>\n",
              "      <td>F</td>\n",
              "      <td>ASIAN - ASIAN INDIAN</td>\n",
              "      <td>MED</td>\n",
              "      <td>metavision</td>\n",
              "      <td>1</td>\n",
              "      <td>2181-11-18 00:00:00</td>\n",
              "      <td>7.795972</td>\n",
              "      <td>BLOOD CULTURE</td>\n",
              "      <td>0.0</td>\n",
              "      <td>2181-11-18 00:00:00</td>\n",
              "      <td>1</td>\n",
              "      <td>1</td>\n",
              "      <td>0</td>\n",
              "      <td>0</td>\n",
              "      <td>1</td>\n",
              "      <td>0</td>\n",
              "      <td>0</td>\n",
              "      <td>1</td>\n",
              "    </tr>\n",
              "    <tr>\n",
              "      <th>1</th>\n",
              "      <td>1</td>\n",
              "      <td>163557</td>\n",
              "      <td>200003</td>\n",
              "      <td>2199-08-02 19:50:04</td>\n",
              "      <td>2199-08-08 17:09:18</td>\n",
              "      <td>-48.0</td>\n",
              "      <td>M</td>\n",
              "      <td>WHITE</td>\n",
              "      <td>SURG</td>\n",
              "      <td>carevue</td>\n",
              "      <td>1</td>\n",
              "      <td>2199-08-02 00:00:00</td>\n",
              "      <td>0.826435</td>\n",
              "      <td>BLOOD CULTURE</td>\n",
              "      <td>1.0</td>\n",
              "      <td>2199-08-02 00:00:00</td>\n",
              "      <td>0</td>\n",
              "      <td>1</td>\n",
              "      <td>0</td>\n",
              "      <td>1</td>\n",
              "      <td>0</td>\n",
              "      <td>0</td>\n",
              "      <td>0</td>\n",
              "      <td>1</td>\n",
              "    </tr>\n",
              "    <tr>\n",
              "      <th>2</th>\n",
              "      <td>2</td>\n",
              "      <td>189514</td>\n",
              "      <td>200006</td>\n",
              "      <td>2159-09-03 11:28:14</td>\n",
              "      <td>2159-09-04 19:08:10</td>\n",
              "      <td>-54.0</td>\n",
              "      <td>M</td>\n",
              "      <td>OTHER</td>\n",
              "      <td>MED</td>\n",
              "      <td>carevue</td>\n",
              "      <td>0</td>\n",
              "      <td>NaN</td>\n",
              "      <td>NaN</td>\n",
              "      <td>NaN</td>\n",
              "      <td>NaN</td>\n",
              "      <td>NaN</td>\n",
              "      <td>1</td>\n",
              "      <td>1</td>\n",
              "      <td>0</td>\n",
              "      <td>1</td>\n",
              "      <td>0</td>\n",
              "      <td>0</td>\n",
              "      <td>0</td>\n",
              "      <td>1</td>\n",
              "    </tr>\n",
              "    <tr>\n",
              "      <th>3</th>\n",
              "      <td>3</td>\n",
              "      <td>129310</td>\n",
              "      <td>200007</td>\n",
              "      <td>2109-02-17 10:03:37</td>\n",
              "      <td>2109-02-18 17:03:12</td>\n",
              "      <td>-43.0</td>\n",
              "      <td>M</td>\n",
              "      <td>WHITE</td>\n",
              "      <td>CMED</td>\n",
              "      <td>carevue</td>\n",
              "      <td>0</td>\n",
              "      <td>NaN</td>\n",
              "      <td>NaN</td>\n",
              "      <td>NaN</td>\n",
              "      <td>NaN</td>\n",
              "      <td>NaN</td>\n",
              "      <td>0</td>\n",
              "      <td>1</td>\n",
              "      <td>0</td>\n",
              "      <td>1</td>\n",
              "      <td>0</td>\n",
              "      <td>0</td>\n",
              "      <td>0</td>\n",
              "      <td>1</td>\n",
              "    </tr>\n",
              "    <tr>\n",
              "      <th>4</th>\n",
              "      <td>4</td>\n",
              "      <td>129607</td>\n",
              "      <td>200009</td>\n",
              "      <td>2189-11-30 10:34:32</td>\n",
              "      <td>2189-12-02 14:17:37</td>\n",
              "      <td>-47.0</td>\n",
              "      <td>F</td>\n",
              "      <td>WHITE</td>\n",
              "      <td>CSURG</td>\n",
              "      <td>carevue</td>\n",
              "      <td>1</td>\n",
              "      <td>2189-11-30 00:00:00</td>\n",
              "      <td>0.440648</td>\n",
              "      <td>NaN</td>\n",
              "      <td>NaN</td>\n",
              "      <td>2189-11-30 00:00:00</td>\n",
              "      <td>0</td>\n",
              "      <td>1</td>\n",
              "      <td>1</td>\n",
              "      <td>1</td>\n",
              "      <td>0</td>\n",
              "      <td>0</td>\n",
              "      <td>0</td>\n",
              "      <td>1</td>\n",
              "    </tr>\n",
              "  </tbody>\n",
              "</table>\n",
              "</div>"
            ],
            "text/plain": [
              "   Unnamed: 0  hadm_id  ...  exclusion_bad_data excluded\n",
              "0           0   152234  ...                   0        1\n",
              "1           1   163557  ...                   0        1\n",
              "2           2   189514  ...                   0        1\n",
              "3           3   129310  ...                   0        1\n",
              "4           4   129607  ...                   0        1\n",
              "\n",
              "[5 rows x 24 columns]"
            ]
          },
          "metadata": {
            "tags": []
          },
          "execution_count": 104
        }
      ]
    },
    {
      "cell_type": "code",
      "metadata": {
        "id": "skqbmDscyF8s",
        "colab_type": "code",
        "outputId": "20f17888-2984-4af5-c649-9a6bab749622",
        "colab": {
          "base_uri": "https://localhost:8080/",
          "height": 442
        }
      },
      "source": [
        "df_athena.count()"
      ],
      "execution_count": 0,
      "outputs": [
        {
          "output_type": "execute_result",
          "data": {
            "text/plain": [
              "Unnamed: 0                           61532\n",
              "hadm_id                              61532\n",
              "icustay_id                           61532\n",
              "intime                               61532\n",
              "outtime                              61522\n",
              "age                                  61532\n",
              "gender                               61532\n",
              "ethnicity                            61532\n",
              "first_service                        61512\n",
              "dbsource                             61532\n",
              "suspected_of_infection_poe           61532\n",
              "suspected_infection_time_poe         41068\n",
              "suspected_infection_time_poe_days    41068\n",
              "specimen_poe                         31290\n",
              "positiveculture_poe                  31290\n",
              "antibiotic_time_poe                  41068\n",
              "exclusion_secondarystay              61532\n",
              "exclusion_nonadult                   61532\n",
              "exclusion_csurg                      61532\n",
              "exclusion_carevue                    61532\n",
              "exclusion_early_suspicion            61532\n",
              "exclusion_late_suspicion             61532\n",
              "exclusion_bad_data                   61532\n",
              "excluded                             61532\n",
              "dtype: int64"
            ]
          },
          "metadata": {
            "tags": []
          },
          "execution_count": 35
        }
      ]
    },
    {
      "cell_type": "code",
      "metadata": {
        "id": "5BT7g0gFxgIM",
        "colab_type": "code",
        "colab": {}
      },
      "source": [
        "df_bq=pd.read_csv('Sepsis3_bq.csv')"
      ],
      "execution_count": 0,
      "outputs": []
    },
    {
      "cell_type": "code",
      "metadata": {
        "id": "yai1jc5axo88",
        "colab_type": "code",
        "outputId": "02bb28ed-4fde-449f-dbbc-e4015a0d1519",
        "colab": {
          "base_uri": "https://localhost:8080/",
          "height": 394
        }
      },
      "source": [
        "df_bq.head()"
      ],
      "execution_count": 0,
      "outputs": [
        {
          "output_type": "execute_result",
          "data": {
            "text/html": [
              "<div>\n",
              "<style scoped>\n",
              "    .dataframe tbody tr th:only-of-type {\n",
              "        vertical-align: middle;\n",
              "    }\n",
              "\n",
              "    .dataframe tbody tr th {\n",
              "        vertical-align: top;\n",
              "    }\n",
              "\n",
              "    .dataframe thead th {\n",
              "        text-align: right;\n",
              "    }\n",
              "</style>\n",
              "<table border=\"1\" class=\"dataframe\">\n",
              "  <thead>\n",
              "    <tr style=\"text-align: right;\">\n",
              "      <th></th>\n",
              "      <th>hadm_id</th>\n",
              "      <th>icustay_id</th>\n",
              "      <th>intime</th>\n",
              "      <th>outtime</th>\n",
              "      <th>age</th>\n",
              "      <th>gender</th>\n",
              "      <th>ethnicity</th>\n",
              "      <th>first_service</th>\n",
              "      <th>dbsource</th>\n",
              "      <th>suspected_of_infection_poe</th>\n",
              "      <th>suspected_infection_time_poe</th>\n",
              "      <th>suspected_infection_time_poe_days</th>\n",
              "      <th>specimen_poe</th>\n",
              "      <th>positiveculture_poe</th>\n",
              "      <th>antibiotic_time_poe</th>\n",
              "      <th>exclusion_secondarystay</th>\n",
              "      <th>exclusion_nonadult</th>\n",
              "      <th>exclusion_csurg</th>\n",
              "      <th>exclusion_carevue</th>\n",
              "      <th>exclusion_early_suspicion</th>\n",
              "      <th>exclusion_late_suspicion</th>\n",
              "      <th>exclusion_bad_data</th>\n",
              "      <th>excluded</th>\n",
              "    </tr>\n",
              "  </thead>\n",
              "  <tbody>\n",
              "    <tr>\n",
              "      <th>0</th>\n",
              "      <td>152234</td>\n",
              "      <td>200001</td>\n",
              "      <td>2181-11-25 19:06:12</td>\n",
              "      <td>2181-11-28 20:59:25</td>\n",
              "      <td>61.0</td>\n",
              "      <td>F</td>\n",
              "      <td>ASIAN - ASIAN INDIAN</td>\n",
              "      <td>MED</td>\n",
              "      <td>metavision</td>\n",
              "      <td>0</td>\n",
              "      <td>NaN</td>\n",
              "      <td>NaN</td>\n",
              "      <td>NaN</td>\n",
              "      <td>NaN</td>\n",
              "      <td>2181-11-23 00:00:00</td>\n",
              "      <td>1</td>\n",
              "      <td>0</td>\n",
              "      <td>0</td>\n",
              "      <td>0</td>\n",
              "      <td>0</td>\n",
              "      <td>0</td>\n",
              "      <td>0</td>\n",
              "      <td>1</td>\n",
              "    </tr>\n",
              "    <tr>\n",
              "      <th>1</th>\n",
              "      <td>163557</td>\n",
              "      <td>200003</td>\n",
              "      <td>2199-08-02 19:50:04</td>\n",
              "      <td>2199-08-08 17:09:18</td>\n",
              "      <td>48.0</td>\n",
              "      <td>M</td>\n",
              "      <td>WHITE</td>\n",
              "      <td>SURG</td>\n",
              "      <td>carevue</td>\n",
              "      <td>0</td>\n",
              "      <td>NaN</td>\n",
              "      <td>NaN</td>\n",
              "      <td>NaN</td>\n",
              "      <td>NaN</td>\n",
              "      <td>2199-08-02 00:00:00</td>\n",
              "      <td>0</td>\n",
              "      <td>0</td>\n",
              "      <td>0</td>\n",
              "      <td>1</td>\n",
              "      <td>0</td>\n",
              "      <td>0</td>\n",
              "      <td>0</td>\n",
              "      <td>1</td>\n",
              "    </tr>\n",
              "    <tr>\n",
              "      <th>2</th>\n",
              "      <td>189514</td>\n",
              "      <td>200006</td>\n",
              "      <td>2159-09-03 11:28:14</td>\n",
              "      <td>2159-09-04 19:08:10</td>\n",
              "      <td>54.0</td>\n",
              "      <td>M</td>\n",
              "      <td>OTHER</td>\n",
              "      <td>MED</td>\n",
              "      <td>carevue</td>\n",
              "      <td>0</td>\n",
              "      <td>NaN</td>\n",
              "      <td>NaN</td>\n",
              "      <td>NaN</td>\n",
              "      <td>NaN</td>\n",
              "      <td>NaN</td>\n",
              "      <td>1</td>\n",
              "      <td>0</td>\n",
              "      <td>0</td>\n",
              "      <td>1</td>\n",
              "      <td>0</td>\n",
              "      <td>0</td>\n",
              "      <td>0</td>\n",
              "      <td>1</td>\n",
              "    </tr>\n",
              "    <tr>\n",
              "      <th>3</th>\n",
              "      <td>129310</td>\n",
              "      <td>200007</td>\n",
              "      <td>2109-02-17 10:03:37</td>\n",
              "      <td>2109-02-18 17:03:12</td>\n",
              "      <td>44.0</td>\n",
              "      <td>M</td>\n",
              "      <td>WHITE</td>\n",
              "      <td>CMED</td>\n",
              "      <td>carevue</td>\n",
              "      <td>0</td>\n",
              "      <td>NaN</td>\n",
              "      <td>NaN</td>\n",
              "      <td>NaN</td>\n",
              "      <td>NaN</td>\n",
              "      <td>NaN</td>\n",
              "      <td>0</td>\n",
              "      <td>0</td>\n",
              "      <td>0</td>\n",
              "      <td>1</td>\n",
              "      <td>0</td>\n",
              "      <td>0</td>\n",
              "      <td>0</td>\n",
              "      <td>1</td>\n",
              "    </tr>\n",
              "    <tr>\n",
              "      <th>4</th>\n",
              "      <td>129607</td>\n",
              "      <td>200009</td>\n",
              "      <td>2189-11-30 10:34:32</td>\n",
              "      <td>2189-12-02 14:17:37</td>\n",
              "      <td>47.0</td>\n",
              "      <td>F</td>\n",
              "      <td>WHITE</td>\n",
              "      <td>CSURG</td>\n",
              "      <td>carevue</td>\n",
              "      <td>0</td>\n",
              "      <td>NaN</td>\n",
              "      <td>NaN</td>\n",
              "      <td>NaN</td>\n",
              "      <td>NaN</td>\n",
              "      <td>2189-12-01 00:00:00</td>\n",
              "      <td>0</td>\n",
              "      <td>0</td>\n",
              "      <td>1</td>\n",
              "      <td>1</td>\n",
              "      <td>0</td>\n",
              "      <td>0</td>\n",
              "      <td>0</td>\n",
              "      <td>1</td>\n",
              "    </tr>\n",
              "  </tbody>\n",
              "</table>\n",
              "</div>"
            ],
            "text/plain": [
              "   hadm_id  icustay_id  ... exclusion_bad_data excluded\n",
              "0   152234      200001  ...                  0        1\n",
              "1   163557      200003  ...                  0        1\n",
              "2   189514      200006  ...                  0        1\n",
              "3   129310      200007  ...                  0        1\n",
              "4   129607      200009  ...                  0        1\n",
              "\n",
              "[5 rows x 23 columns]"
            ]
          },
          "metadata": {
            "tags": []
          },
          "execution_count": 34
        }
      ]
    },
    {
      "cell_type": "code",
      "metadata": {
        "id": "xQZrlxHVxvQ-",
        "colab_type": "code",
        "outputId": "2c5d4a92-da15-4844-d6bb-fece2b1a1119",
        "colab": {
          "base_uri": "https://localhost:8080/",
          "height": 425
        }
      },
      "source": [
        "df_bq.count()"
      ],
      "execution_count": 0,
      "outputs": [
        {
          "output_type": "execute_result",
          "data": {
            "text/plain": [
              "hadm_id                              61532\n",
              "icustay_id                           61532\n",
              "intime                               61532\n",
              "outtime                              61522\n",
              "age                                  61532\n",
              "gender                               61532\n",
              "ethnicity                            61532\n",
              "first_service                        61512\n",
              "dbsource                             61532\n",
              "suspected_of_infection_poe           61532\n",
              "suspected_infection_time_poe          9754\n",
              "suspected_infection_time_poe_days     9754\n",
              "specimen_poe                          9754\n",
              "positiveculture_poe                   9754\n",
              "antibiotic_time_poe                  40972\n",
              "exclusion_secondarystay              61532\n",
              "exclusion_nonadult                   61532\n",
              "exclusion_csurg                      61532\n",
              "exclusion_carevue                    61532\n",
              "exclusion_early_suspicion            61532\n",
              "exclusion_late_suspicion             61532\n",
              "exclusion_bad_data                   61532\n",
              "excluded                             61532\n",
              "dtype: int64"
            ]
          },
          "metadata": {
            "tags": []
          },
          "execution_count": 37
        }
      ]
    },
    {
      "cell_type": "code",
      "metadata": {
        "id": "fhY-jVZryPtA",
        "colab_type": "code",
        "outputId": "a5b6c925-4170-4ec8-865a-b4b0c903bc89",
        "colab": {
          "base_uri": "https://localhost:8080/",
          "height": 317
        }
      },
      "source": [
        "df_bq.describe()"
      ],
      "execution_count": 0,
      "outputs": [
        {
          "output_type": "execute_result",
          "data": {
            "text/html": [
              "<div>\n",
              "<style scoped>\n",
              "    .dataframe tbody tr th:only-of-type {\n",
              "        vertical-align: middle;\n",
              "    }\n",
              "\n",
              "    .dataframe tbody tr th {\n",
              "        vertical-align: top;\n",
              "    }\n",
              "\n",
              "    .dataframe thead th {\n",
              "        text-align: right;\n",
              "    }\n",
              "</style>\n",
              "<table border=\"1\" class=\"dataframe\">\n",
              "  <thead>\n",
              "    <tr style=\"text-align: right;\">\n",
              "      <th></th>\n",
              "      <th>hadm_id</th>\n",
              "      <th>icustay_id</th>\n",
              "      <th>age</th>\n",
              "      <th>suspected_of_infection_poe</th>\n",
              "      <th>suspected_infection_time_poe_days</th>\n",
              "      <th>positiveculture_poe</th>\n",
              "      <th>exclusion_secondarystay</th>\n",
              "      <th>exclusion_nonadult</th>\n",
              "      <th>exclusion_csurg</th>\n",
              "      <th>exclusion_carevue</th>\n",
              "      <th>exclusion_early_suspicion</th>\n",
              "      <th>exclusion_late_suspicion</th>\n",
              "      <th>exclusion_bad_data</th>\n",
              "      <th>excluded</th>\n",
              "    </tr>\n",
              "  </thead>\n",
              "  <tbody>\n",
              "    <tr>\n",
              "      <th>count</th>\n",
              "      <td>61532.000000</td>\n",
              "      <td>61532.000000</td>\n",
              "      <td>61532.000000</td>\n",
              "      <td>61532.000000</td>\n",
              "      <td>9754.000000</td>\n",
              "      <td>9754.00000</td>\n",
              "      <td>61532.000000</td>\n",
              "      <td>61532.000000</td>\n",
              "      <td>61532.000000</td>\n",
              "      <td>61532.000000</td>\n",
              "      <td>61532.000000</td>\n",
              "      <td>61532.000000</td>\n",
              "      <td>61532.000000</td>\n",
              "      <td>61532.000000</td>\n",
              "    </tr>\n",
              "    <tr>\n",
              "      <th>mean</th>\n",
              "      <td>149954.470649</td>\n",
              "      <td>249962.710248</td>\n",
              "      <td>55.635107</td>\n",
              "      <td>0.158519</td>\n",
              "      <td>0.542034</td>\n",
              "      <td>0.18413</td>\n",
              "      <td>0.244686</td>\n",
              "      <td>0.131948</td>\n",
              "      <td>0.119336</td>\n",
              "      <td>0.616135</td>\n",
              "      <td>0.032308</td>\n",
              "      <td>0.017666</td>\n",
              "      <td>0.007980</td>\n",
              "      <td>0.789297</td>\n",
              "    </tr>\n",
              "    <tr>\n",
              "      <th>std</th>\n",
              "      <td>28898.895904</td>\n",
              "      <td>28890.574867</td>\n",
              "      <td>27.006630</td>\n",
              "      <td>0.365230</td>\n",
              "      <td>4.029844</td>\n",
              "      <td>0.38761</td>\n",
              "      <td>0.429904</td>\n",
              "      <td>0.338437</td>\n",
              "      <td>0.324186</td>\n",
              "      <td>0.486330</td>\n",
              "      <td>0.176819</td>\n",
              "      <td>0.131734</td>\n",
              "      <td>0.088972</td>\n",
              "      <td>0.407811</td>\n",
              "    </tr>\n",
              "    <tr>\n",
              "      <th>min</th>\n",
              "      <td>100001.000000</td>\n",
              "      <td>200001.000000</td>\n",
              "      <td>0.000000</td>\n",
              "      <td>0.000000</td>\n",
              "      <td>-48.000000</td>\n",
              "      <td>0.00000</td>\n",
              "      <td>0.000000</td>\n",
              "      <td>0.000000</td>\n",
              "      <td>0.000000</td>\n",
              "      <td>0.000000</td>\n",
              "      <td>0.000000</td>\n",
              "      <td>0.000000</td>\n",
              "      <td>0.000000</td>\n",
              "      <td>0.000000</td>\n",
              "    </tr>\n",
              "    <tr>\n",
              "      <th>25%</th>\n",
              "      <td>124933.750000</td>\n",
              "      <td>224935.500000</td>\n",
              "      <td>44.000000</td>\n",
              "      <td>0.000000</td>\n",
              "      <td>0.000000</td>\n",
              "      <td>0.00000</td>\n",
              "      <td>0.000000</td>\n",
              "      <td>0.000000</td>\n",
              "      <td>0.000000</td>\n",
              "      <td>0.000000</td>\n",
              "      <td>0.000000</td>\n",
              "      <td>0.000000</td>\n",
              "      <td>0.000000</td>\n",
              "      <td>1.000000</td>\n",
              "    </tr>\n",
              "    <tr>\n",
              "      <th>50%</th>\n",
              "      <td>149911.500000</td>\n",
              "      <td>249940.000000</td>\n",
              "      <td>62.000000</td>\n",
              "      <td>0.000000</td>\n",
              "      <td>0.000000</td>\n",
              "      <td>0.00000</td>\n",
              "      <td>0.000000</td>\n",
              "      <td>0.000000</td>\n",
              "      <td>0.000000</td>\n",
              "      <td>1.000000</td>\n",
              "      <td>0.000000</td>\n",
              "      <td>0.000000</td>\n",
              "      <td>0.000000</td>\n",
              "      <td>1.000000</td>\n",
              "    </tr>\n",
              "    <tr>\n",
              "      <th>75%</th>\n",
              "      <td>174997.250000</td>\n",
              "      <td>274972.500000</td>\n",
              "      <td>76.000000</td>\n",
              "      <td>0.000000</td>\n",
              "      <td>1.000000</td>\n",
              "      <td>0.00000</td>\n",
              "      <td>0.000000</td>\n",
              "      <td>0.000000</td>\n",
              "      <td>0.000000</td>\n",
              "      <td>1.000000</td>\n",
              "      <td>0.000000</td>\n",
              "      <td>0.000000</td>\n",
              "      <td>0.000000</td>\n",
              "      <td>1.000000</td>\n",
              "    </tr>\n",
              "    <tr>\n",
              "      <th>max</th>\n",
              "      <td>199999.000000</td>\n",
              "      <td>299999.000000</td>\n",
              "      <td>91.400000</td>\n",
              "      <td>1.000000</td>\n",
              "      <td>70.000000</td>\n",
              "      <td>1.00000</td>\n",
              "      <td>1.000000</td>\n",
              "      <td>1.000000</td>\n",
              "      <td>1.000000</td>\n",
              "      <td>1.000000</td>\n",
              "      <td>1.000000</td>\n",
              "      <td>1.000000</td>\n",
              "      <td>1.000000</td>\n",
              "      <td>1.000000</td>\n",
              "    </tr>\n",
              "  </tbody>\n",
              "</table>\n",
              "</div>"
            ],
            "text/plain": [
              "             hadm_id     icustay_id  ...  exclusion_bad_data      excluded\n",
              "count   61532.000000   61532.000000  ...        61532.000000  61532.000000\n",
              "mean   149954.470649  249962.710248  ...            0.007980      0.789297\n",
              "std     28898.895904   28890.574867  ...            0.088972      0.407811\n",
              "min    100001.000000  200001.000000  ...            0.000000      0.000000\n",
              "25%    124933.750000  224935.500000  ...            0.000000      1.000000\n",
              "50%    149911.500000  249940.000000  ...            0.000000      1.000000\n",
              "75%    174997.250000  274972.500000  ...            0.000000      1.000000\n",
              "max    199999.000000  299999.000000  ...            1.000000      1.000000\n",
              "\n",
              "[8 rows x 14 columns]"
            ]
          },
          "metadata": {
            "tags": []
          },
          "execution_count": 38
        }
      ]
    },
    {
      "cell_type": "code",
      "metadata": {
        "id": "uFPlaj3QyThz",
        "colab_type": "code",
        "outputId": "eef49e4c-6474-446c-bae9-0e77d230e14e",
        "colab": {
          "base_uri": "https://localhost:8080/",
          "height": 317
        }
      },
      "source": [
        "df_athena.describe()"
      ],
      "execution_count": 0,
      "outputs": [
        {
          "output_type": "execute_result",
          "data": {
            "text/html": [
              "<div>\n",
              "<style scoped>\n",
              "    .dataframe tbody tr th:only-of-type {\n",
              "        vertical-align: middle;\n",
              "    }\n",
              "\n",
              "    .dataframe tbody tr th {\n",
              "        vertical-align: top;\n",
              "    }\n",
              "\n",
              "    .dataframe thead th {\n",
              "        text-align: right;\n",
              "    }\n",
              "</style>\n",
              "<table border=\"1\" class=\"dataframe\">\n",
              "  <thead>\n",
              "    <tr style=\"text-align: right;\">\n",
              "      <th></th>\n",
              "      <th>Unnamed: 0</th>\n",
              "      <th>hadm_id</th>\n",
              "      <th>icustay_id</th>\n",
              "      <th>age</th>\n",
              "      <th>suspected_of_infection_poe</th>\n",
              "      <th>suspected_infection_time_poe_days</th>\n",
              "      <th>positiveculture_poe</th>\n",
              "      <th>exclusion_secondarystay</th>\n",
              "      <th>exclusion_nonadult</th>\n",
              "      <th>exclusion_csurg</th>\n",
              "      <th>exclusion_carevue</th>\n",
              "      <th>exclusion_early_suspicion</th>\n",
              "      <th>exclusion_late_suspicion</th>\n",
              "      <th>exclusion_bad_data</th>\n",
              "      <th>excluded</th>\n",
              "    </tr>\n",
              "  </thead>\n",
              "  <tbody>\n",
              "    <tr>\n",
              "      <th>count</th>\n",
              "      <td>61532.000000</td>\n",
              "      <td>61532.000000</td>\n",
              "      <td>61532.000000</td>\n",
              "      <td>61532.000000</td>\n",
              "      <td>61532.000000</td>\n",
              "      <td>41068.000000</td>\n",
              "      <td>31290.000000</td>\n",
              "      <td>61532.000000</td>\n",
              "      <td>61532.0</td>\n",
              "      <td>61532.000000</td>\n",
              "      <td>61532.000000</td>\n",
              "      <td>61532.000000</td>\n",
              "      <td>61532.000000</td>\n",
              "      <td>61532.000000</td>\n",
              "      <td>61532.0</td>\n",
              "    </tr>\n",
              "    <tr>\n",
              "      <th>mean</th>\n",
              "      <td>30765.500000</td>\n",
              "      <td>149954.470649</td>\n",
              "      <td>249962.710248</td>\n",
              "      <td>-64.466912</td>\n",
              "      <td>0.667425</td>\n",
              "      <td>2.086798</td>\n",
              "      <td>0.170853</td>\n",
              "      <td>0.244686</td>\n",
              "      <td>1.0</td>\n",
              "      <td>0.119336</td>\n",
              "      <td>0.616135</td>\n",
              "      <td>0.155285</td>\n",
              "      <td>0.045619</td>\n",
              "      <td>0.007980</td>\n",
              "      <td>1.0</td>\n",
              "    </tr>\n",
              "    <tr>\n",
              "      <th>std</th>\n",
              "      <td>17762.902719</td>\n",
              "      <td>28898.895904</td>\n",
              "      <td>28890.574867</td>\n",
              "      <td>56.913506</td>\n",
              "      <td>0.471140</td>\n",
              "      <td>27.211112</td>\n",
              "      <td>0.376387</td>\n",
              "      <td>0.429904</td>\n",
              "      <td>0.0</td>\n",
              "      <td>0.324186</td>\n",
              "      <td>0.486330</td>\n",
              "      <td>0.362179</td>\n",
              "      <td>0.208658</td>\n",
              "      <td>0.088972</td>\n",
              "      <td>0.0</td>\n",
              "    </tr>\n",
              "    <tr>\n",
              "      <th>min</th>\n",
              "      <td>0.000000</td>\n",
              "      <td>100001.000000</td>\n",
              "      <td>200001.000000</td>\n",
              "      <td>-311.000000</td>\n",
              "      <td>0.000000</td>\n",
              "      <td>-163.045775</td>\n",
              "      <td>0.000000</td>\n",
              "      <td>0.000000</td>\n",
              "      <td>1.0</td>\n",
              "      <td>0.000000</td>\n",
              "      <td>0.000000</td>\n",
              "      <td>0.000000</td>\n",
              "      <td>0.000000</td>\n",
              "      <td>0.000000</td>\n",
              "      <td>1.0</td>\n",
              "    </tr>\n",
              "    <tr>\n",
              "      <th>25%</th>\n",
              "      <td>15382.750000</td>\n",
              "      <td>124933.750000</td>\n",
              "      <td>224935.500000</td>\n",
              "      <td>-76.000000</td>\n",
              "      <td>0.000000</td>\n",
              "      <td>0.072902</td>\n",
              "      <td>0.000000</td>\n",
              "      <td>0.000000</td>\n",
              "      <td>1.0</td>\n",
              "      <td>0.000000</td>\n",
              "      <td>0.000000</td>\n",
              "      <td>0.000000</td>\n",
              "      <td>0.000000</td>\n",
              "      <td>0.000000</td>\n",
              "      <td>1.0</td>\n",
              "    </tr>\n",
              "    <tr>\n",
              "      <th>50%</th>\n",
              "      <td>30765.500000</td>\n",
              "      <td>149911.500000</td>\n",
              "      <td>249940.000000</td>\n",
              "      <td>-62.000000</td>\n",
              "      <td>1.000000</td>\n",
              "      <td>0.508727</td>\n",
              "      <td>0.000000</td>\n",
              "      <td>0.000000</td>\n",
              "      <td>1.0</td>\n",
              "      <td>0.000000</td>\n",
              "      <td>1.000000</td>\n",
              "      <td>0.000000</td>\n",
              "      <td>0.000000</td>\n",
              "      <td>0.000000</td>\n",
              "      <td>1.0</td>\n",
              "    </tr>\n",
              "    <tr>\n",
              "      <th>75%</th>\n",
              "      <td>46148.250000</td>\n",
              "      <td>174997.250000</td>\n",
              "      <td>274972.500000</td>\n",
              "      <td>-44.000000</td>\n",
              "      <td>1.000000</td>\n",
              "      <td>0.911794</td>\n",
              "      <td>0.000000</td>\n",
              "      <td>0.000000</td>\n",
              "      <td>1.0</td>\n",
              "      <td>0.000000</td>\n",
              "      <td>1.000000</td>\n",
              "      <td>0.000000</td>\n",
              "      <td>0.000000</td>\n",
              "      <td>0.000000</td>\n",
              "      <td>1.0</td>\n",
              "    </tr>\n",
              "    <tr>\n",
              "      <th>max</th>\n",
              "      <td>61531.000000</td>\n",
              "      <td>199999.000000</td>\n",
              "      <td>299999.000000</td>\n",
              "      <td>0.000000</td>\n",
              "      <td>1.000000</td>\n",
              "      <td>3652.463032</td>\n",
              "      <td>1.000000</td>\n",
              "      <td>1.000000</td>\n",
              "      <td>1.0</td>\n",
              "      <td>1.000000</td>\n",
              "      <td>1.000000</td>\n",
              "      <td>1.000000</td>\n",
              "      <td>1.000000</td>\n",
              "      <td>1.000000</td>\n",
              "      <td>1.0</td>\n",
              "    </tr>\n",
              "  </tbody>\n",
              "</table>\n",
              "</div>"
            ],
            "text/plain": [
              "         Unnamed: 0        hadm_id  ...  exclusion_bad_data  excluded\n",
              "count  61532.000000   61532.000000  ...        61532.000000   61532.0\n",
              "mean   30765.500000  149954.470649  ...            0.007980       1.0\n",
              "std    17762.902719   28898.895904  ...            0.088972       0.0\n",
              "min        0.000000  100001.000000  ...            0.000000       1.0\n",
              "25%    15382.750000  124933.750000  ...            0.000000       1.0\n",
              "50%    30765.500000  149911.500000  ...            0.000000       1.0\n",
              "75%    46148.250000  174997.250000  ...            0.000000       1.0\n",
              "max    61531.000000  199999.000000  ...            1.000000       1.0\n",
              "\n",
              "[8 rows x 15 columns]"
            ]
          },
          "metadata": {
            "tags": []
          },
          "execution_count": 39
        }
      ]
    },
    {
      "cell_type": "markdown",
      "metadata": {
        "id": "T1iO4wR1zKDv",
        "colab_type": "text"
      },
      "source": [
        "#### Let's try to change suspected_of_infection_poe from Athena to BQ can see if it changes things"
      ]
    },
    {
      "cell_type": "code",
      "metadata": {
        "id": "SIOEEu_yyYRb",
        "colab_type": "code",
        "colab": {}
      },
      "source": [
        "co=pd.read_csv('Sepsis3_with_exclusions.csv')"
      ],
      "execution_count": 0,
      "outputs": []
    },
    {
      "cell_type": "code",
      "metadata": {
        "id": "G1krcVwdzfbY",
        "colab_type": "code",
        "outputId": "dea48d48-e4a6-41ed-8445-0de419fdc9f5",
        "colab": {
          "base_uri": "https://localhost:8080/",
          "height": 289
        }
      },
      "source": [
        "co.columns"
      ],
      "execution_count": 0,
      "outputs": [
        {
          "output_type": "execute_result",
          "data": {
            "text/plain": [
              "Index(['icustay_id', 'hadm_id', 'excluded', 'intime', 'outtime', 'dbsource',\n",
              "       'suspected_infection_time_poe', 'suspected_infection_time_poe_days',\n",
              "       'specimen_poe', 'positiveculture_poe', 'antibiotic_time_poe',\n",
              "       'blood_culture_time', 'blood_culture_positive', 'age', 'gender',\n",
              "       'is_male', 'ethnicity', 'exclusion_bad_data',\n",
              "       'exclusion_late_suspicion', 'exclusion_secondarystay',\n",
              "       'exclusion_nonadult', 'exclusion_csurg', 'exclusion_carevue',\n",
              "       'exclusion_early_suspicion', 'race_white', 'race_black',\n",
              "       'race_hispanic', 'race_other', 'Height', 'Weight', 'bmi',\n",
              "       'first_service', 'HOSPITAL_EXPIRE_FLAG', 'THIRTYDAY_EXPIRE_FLAG',\n",
              "       'icu_los', 'hosp_los', 'sepsis_angus', 'sepsis_martin',\n",
              "       'sepsis_explicit', 'septic_shock_explicit', 'severe_sepsis_explicit',\n",
              "       'sepsis_nqf', 'sepsis_cdc', 'sepsis_cdc_simple', 'vent', 'sofa', 'lods',\n",
              "       'sirs', 'qsofa', 'qsofa_sysbp_score', 'qsofa_gcs_score',\n",
              "       'qsofa_resprate_score'],\n",
              "      dtype='object')"
            ]
          },
          "metadata": {
            "tags": []
          },
          "execution_count": 43
        }
      ]
    },
    {
      "cell_type": "code",
      "metadata": {
        "id": "XiBuePbwziIi",
        "colab_type": "code",
        "colab": {}
      },
      "source": [
        "for column in ['suspected_infection_time_poe','suspected_infection_time_poe_days']:\n",
        "  co[column]=df_athena[column]"
      ],
      "execution_count": 0,
      "outputs": []
    },
    {
      "cell_type": "code",
      "metadata": {
        "id": "n_qe9Yq-z1il",
        "colab_type": "code",
        "colab": {}
      },
      "source": [
        ""
      ],
      "execution_count": 0,
      "outputs": []
    },
    {
      "cell_type": "code",
      "metadata": {
        "colab_type": "code",
        "outputId": "d1353a3c-b085-49bb-fc7c-a660f22f312a",
        "id": "85LZ7ioSz7b-",
        "colab": {
          "base_uri": "https://localhost:8080/",
          "height": 544
        }
      },
      "source": [
        "# print out the exclusions *SEQUENTIALLY* - i.e. if already excluded, don't re-print\n",
        "print('Cohort - initial size: {} ICU stays'.format(co.shape[0]))\n",
        "\n",
        "COL_REM = ['exclusion_nonadult', 'exclusion_secondarystay','exclusion_carevue',\n",
        "           'exclusion_csurg',\n",
        "           'exclusion_early_suspicion', 'exclusion_late_suspicion', 'exclusion_bad_data']\n",
        "\n",
        "idxRem = np.zeros(co.shape[0])\n",
        "for c in COL_REM:\n",
        "    N_REM = np.sum( (idxRem == 0) & (co[c].values==1) )\n",
        "    print('  {:5g} ({:2.2f}%) - {}'.format(N_REM,N_REM*100.0/co.shape[0], c))\n",
        "    idxRem[co[c].values==1] = 1\n",
        "        \n",
        "print('Final non-suspected cohort size: {:g} ICU stays ({:2.2f}%).'.format(co.shape[0] - np.sum(idxRem), (1-np.mean(idxRem))*100.0))\n",
        "print('Of these patients...')\n",
        "c='suspected_infection_time_poe'\n",
        "N_REM = np.sum( (idxRem) & (co[c].notna()) )\n",
        "print('  {:5g} ({:2.2f}%) - {}'.format(N_REM, N_REM*100.0/ (co.shape[0] - np.sum(idxRem)), c))\n",
        "d='suspected_infection_time_poe_days'\n",
        "N_REM = np.sum( (idxRem) & (co[d].notna()) )\n",
        "print('  {:5g} ({:2.2f}%) - {}'.format(N_REM, N_REM*100.0/ (co.shape[0] - np.sum(idxRem)), d))\n",
        "\n",
        "\n",
        "print()\n",
        "# define idxRem to exclude non-metavision admissions initially\n",
        "print('=============================')\n",
        "print('====== METAVISION ONLY ======')\n",
        "print(' Patients admitted 2008-2012 ')\n",
        "print('=============================')\n",
        "print()\n",
        "\n",
        "idxRem = co['dbsource']!='metavision'\n",
        "N = np.sum(~idxRem)\n",
        "N_IGNORE = np.sum(idxRem)\n",
        "\n",
        "# print out the exclusions *SEQUENTIALLY* - i.e. if already excluded, don't re-print\n",
        "print('Cohort - initial size: {} ICU stays'.format(N))\n",
        "\n",
        "for c in COL_REM:\n",
        "    N_REM = np.sum( (idxRem == 0) & (co[c].values==1) )\n",
        "    print('  {:5g} ({:2.2f}%) - {}'.format(N_REM,N_REM*100.0/N, c))\n",
        "    idxRem[co[c].values==1] = True\n",
        "        \n",
        "print('Final non-suspected cohort size: {}/{} ICU stays ({:2.2f}%).'.format(\n",
        "        np.sum(~idxRem), N, np.sum(~idxRem)*100.0/N))\n",
        "print('')\n",
        "\n",
        "print('Of these patients...')\n",
        "for c in ['suspected_infection_time_poe','suspected_infection_time_poe_days']:\n",
        "  N_REM = np.sum( (~idxRem) & (co[c].notna()) )\n",
        "  print('  {:5g} ({:2.2f}%) - {}'.format(N_REM, N_REM*100.0/ np.sum(~idxRem), c))"
      ],
      "execution_count": 0,
      "outputs": [
        {
          "output_type": "stream",
          "text": [
            "Cohort - initial size: 61532 ICU stays\n",
            "   8119 (13.19%) - exclusion_nonadult\n",
            "  14826 (24.09%) - exclusion_secondarystay\n",
            "  22508 (36.58%) - exclusion_carevue\n",
            "   2298 (3.73%) - exclusion_csurg\n",
            "    485 (0.79%) - exclusion_early_suspicion\n",
            "    310 (0.50%) - exclusion_late_suspicion\n",
            "     21 (0.03%) - exclusion_bad_data\n",
            "Final non-suspected cohort size: 12965 ICU stays (21.07%).\n",
            "Of these patients...\n",
            "  32357 (249.57%) - suspected_infection_time_poe\n",
            "  32357 (249.57%) - suspected_infection_time_poe_days\n",
            "\n",
            "=============================\n",
            "====== METAVISION ONLY ======\n",
            " Patients admitted 2008-2012 \n",
            "=============================\n",
            "\n",
            "Cohort - initial size: 23620 ICU stays\n",
            "      5 (0.02%) - exclusion_nonadult\n",
            "   7536 (31.91%) - exclusion_secondarystay\n",
            "      0 (0.00%) - exclusion_carevue\n",
            "   2298 (9.73%) - exclusion_csurg\n",
            "    485 (2.05%) - exclusion_early_suspicion\n",
            "    310 (1.31%) - exclusion_late_suspicion\n",
            "     21 (0.09%) - exclusion_bad_data\n",
            "Final non-suspected cohort size: 12965/23620 ICU stays (54.89%).\n",
            "\n",
            "Of these patients...\n",
            "   8711 (67.19%) - suspected_infection_time_poe\n",
            "   8711 (67.19%) - suspected_infection_time_poe_days\n"
          ],
          "name": "stdout"
        }
      ]
    },
    {
      "cell_type": "code",
      "metadata": {
        "id": "pgWB6I7Gz9AB",
        "colab_type": "code",
        "outputId": "378add33-31ed-40ea-9924-a0880ed64202",
        "colab": {
          "base_uri": "https://localhost:8080/",
          "height": 411
        }
      },
      "source": [
        "# generate exclusions *except* early/late suspicion\n",
        "COL_REM = ['exclusion_nonadult', 'exclusion_secondarystay',\n",
        "           'exclusion_csurg','exclusion_carevue',\n",
        "           #'exclusion_early_suspicion', 'exclusion_late_suspicion',\n",
        "           'exclusion_bad_data']\n",
        "idxRem = np.zeros(co.shape[0])\n",
        "\n",
        "for c in COL_REM:\n",
        "    N_REM = np.sum( (idxRem == 0) & (co[c].values==1) )\n",
        "    idxRem[co[c].values==1] = 1\n",
        "    \n",
        "idxRem = idxRem.astype(bool)\n",
        "\n",
        "# distribution of time of infection\n",
        "N_HR = 96\n",
        "xi = np.linspace(-N_HR, N_HR, N_HR*2+1)\n",
        "col = gg_color_hue(5)\n",
        "\n",
        "pretty_dict = {'suspected_infection_time_poe_days': 'Blood culture + ABX'}\n",
        "c = 'suspected_infection_time_poe_days'\n",
        "\n",
        "idxKeep = ~co[c].isnull()\n",
        "tmp = co.loc[~idxRem & idxKeep, c].values* 24.0\n",
        "N_firstday = sum( (tmp>-24) & (tmp<24) )\n",
        "# N_firstday = sum( (tmp>-1) & (tmp<1) )\n",
        "\n",
        "lbl_str = pretty_dict[c]\n",
        "lbl_str += '\\n' + '{:2.2f}% of grp >  24hr.'.format(sum(tmp>1)*100.0 / np.sum(~idxRem & idxKeep))\n",
        "lbl_str += '\\n' + '{:2.2f}% of grp  +-24hr.'.format(sum((tmp>=-1) & (tmp<=1))*100.0 / np.sum(~idxRem & idxKeep))\n",
        "lbl_str += '\\n' + '{:2.2f}% of grp < -24hr.'.format(sum(tmp<-1)*100.0 / np.sum(~idxRem & idxKeep))\n",
        "\n",
        "plt.figure(figsize=[14,6])\n",
        "plt.hist( tmp, bins=xi, label=lbl_str , density=True)\n",
        "plt.title('{} ({:2.2f}%) in [-24,24]. '.format(\n",
        "        N_firstday, N_firstday*100.0 / np.sum(~idxRem)))\n",
        "plt.legend(loc='upper left')\n",
        "    \n",
        "plt.show()"
      ],
      "execution_count": 0,
      "outputs": [
        {
          "output_type": "display_data",
          "data": {
            "image/png": "[encoded data removed]",
            "text/plain": [
              "<Figure size 1008x432 with 1 Axes>"
            ]
          },
          "metadata": {
            "tags": []
          }
        }
      ]
    },
    {
      "cell_type": "markdown",
      "metadata": {
        "id": "sZin1C4n1-aN",
        "colab_type": "text"
      },
      "source": [
        "### Let's try if we can get results from Sepsis 3 paper"
      ]
    },
    {
      "cell_type": "code",
      "metadata": {
        "id": "zQKsaHVF0Ow0",
        "colab_type": "code",
        "outputId": "d875603d-4c78-4e08-8e2d-6db47cb4ca2e",
        "colab": {
          "base_uri": "https://localhost:8080/",
          "height": 649
        }
      },
      "source": [
        "from collections import OrderedDict\n",
        "df=co[co['excluded']==0]\n",
        "df['composite_outcome'] = ( (df['HOSPITAL_EXPIRE_FLAG']==1) | (df['icu_los']>=3) ).astype(int)\n",
        "\n",
        "labels = OrderedDict([['suspicion_poe', 'BC + ABX (Prescribed)']])\n",
        "\n",
        "# add some other useful variables\n",
        "df['blood culture'] = (~df['blood_culture_time'].isnull())\n",
        "df['suspicion_poe'] = (~df['suspected_infection_time_poe_days'].isnull())\n",
        "\n",
        "df['abx_poe'] = (~df['antibiotic_time_poe'].isnull())\n",
        "\n",
        "df['sepsis-3'] = ((df['suspicion_poe']==1) & (df['sofa']>=2)).astype(int)\n",
        "df['sofa>=2'] = (df['sofa']>=2).astype(int)\n",
        "\n"
      ],
      "execution_count": 0,
      "outputs": [
        {
          "output_type": "stream",
          "text": [
            "/usr/local/lib/python3.6/dist-packages/ipykernel_launcher.py:3: SettingWithCopyWarning: \n",
            "A value is trying to be set on a copy of a slice from a DataFrame.\n",
            "Try using .loc[row_indexer,col_indexer] = value instead\n",
            "\n",
            "See the caveats in the documentation: https://pandas.pydata.org/pandas-docs/stable/user_guide/indexing.html#returning-a-view-versus-a-copy\n",
            "  This is separate from the ipykernel package so we can avoid doing imports until\n",
            "/usr/local/lib/python3.6/dist-packages/ipykernel_launcher.py:8: SettingWithCopyWarning: \n",
            "A value is trying to be set on a copy of a slice from a DataFrame.\n",
            "Try using .loc[row_indexer,col_indexer] = value instead\n",
            "\n",
            "See the caveats in the documentation: https://pandas.pydata.org/pandas-docs/stable/user_guide/indexing.html#returning-a-view-versus-a-copy\n",
            "  \n",
            "/usr/local/lib/python3.6/dist-packages/ipykernel_launcher.py:9: SettingWithCopyWarning: \n",
            "A value is trying to be set on a copy of a slice from a DataFrame.\n",
            "Try using .loc[row_indexer,col_indexer] = value instead\n",
            "\n",
            "See the caveats in the documentation: https://pandas.pydata.org/pandas-docs/stable/user_guide/indexing.html#returning-a-view-versus-a-copy\n",
            "  if __name__ == '__main__':\n",
            "/usr/local/lib/python3.6/dist-packages/ipykernel_launcher.py:11: SettingWithCopyWarning: \n",
            "A value is trying to be set on a copy of a slice from a DataFrame.\n",
            "Try using .loc[row_indexer,col_indexer] = value instead\n",
            "\n",
            "See the caveats in the documentation: https://pandas.pydata.org/pandas-docs/stable/user_guide/indexing.html#returning-a-view-versus-a-copy\n",
            "  # This is added back by InteractiveShellApp.init_path()\n",
            "/usr/local/lib/python3.6/dist-packages/ipykernel_launcher.py:13: SettingWithCopyWarning: \n",
            "A value is trying to be set on a copy of a slice from a DataFrame.\n",
            "Try using .loc[row_indexer,col_indexer] = value instead\n",
            "\n",
            "See the caveats in the documentation: https://pandas.pydata.org/pandas-docs/stable/user_guide/indexing.html#returning-a-view-versus-a-copy\n",
            "  del sys.path[0]\n",
            "/usr/local/lib/python3.6/dist-packages/ipykernel_launcher.py:14: SettingWithCopyWarning: \n",
            "A value is trying to be set on a copy of a slice from a DataFrame.\n",
            "Try using .loc[row_indexer,col_indexer] = value instead\n",
            "\n",
            "See the caveats in the documentation: https://pandas.pydata.org/pandas-docs/stable/user_guide/indexing.html#returning-a-view-versus-a-copy\n",
            "  \n"
          ],
          "name": "stderr"
        }
      ]
    },
    {
      "cell_type": "code",
      "metadata": {
        "id": "0--8o3iB2FH6",
        "colab_type": "code",
        "colab": {}
      },
      "source": [
        "\n",
        "for c in ['intime','outtime',\n",
        "          'suspected_infection_time_mv','suspected_infection_time',\n",
        "          'suspected_infection_time_poe', 'blood_culture_time']:\n",
        "    if c in df.columns:\n",
        "        if df[c].dtype == 'object':\n",
        "            df[c] = pd.to_datetime(df[c])\n",
        "\n",
        "# list of the sepsis definitions\n",
        "sepsis_list = ['sepsis_angus','sepsis_martin', 'sepsis_explicit',\n",
        "               'sepsis_cdc','sepsis_nqf',\n",
        "               'sepsis-3']"
      ],
      "execution_count": 0,
      "outputs": []
    },
    {
      "cell_type": "code",
      "metadata": {
        "id": "xuPIevD42_WX",
        "colab_type": "code",
        "outputId": "266371f9-9b79-47fe-ef22-985dd8b28371",
        "colab": {
          "base_uri": "https://localhost:8080/",
          "height": 221
        }
      },
      "source": [
        "print('{:5g} patients.'.format(df.shape[0]))\n",
        "\n",
        "print('{:5g} ({:2.0f}%) suspected of infection.'.format(\n",
        "        df['suspicion_poe'].sum(), df['suspicion_poe'].sum()*100.0/df.shape[0]))\n",
        "\n",
        "print('{:5g} ({:2.2f}%) have SOFA >= 2.'.format(\n",
        "    df['sofa>=2'].sum(),100.0*df['sofa>=2'].mean()))\n",
        "\n",
        "print('{:5g} ({:2.2f}%) have Sepsis-3 criteria (intersection of above two).'.format(\n",
        "    df['sepsis-3'].sum(),100.0*df['sepsis-3'].mean()))\n",
        "\n",
        "print('{:5g} ({:2.2f}%) have suspicion and SOFA < 2.'.format(\n",
        "        ((df['sofa>=2']==0) & (df['suspicion_poe']==1)).sum(),\n",
        "        ((df['sofa>=2']==0) & (df['suspicion_poe']==1)).sum()*100.0/df.shape[0]))\n",
        "\n",
        "for c in sepsis_list:\n",
        "    print('{:5g} ({:3.2f}%) - {}'.format(\n",
        "        df[c].sum(), df[c].sum()*100.0/df.shape[0], c))\n",
        "\n",
        "print('{:5g} ({:2.2f}%) have Sepsis-3 criteria but not Angus.'.format(\n",
        "        ((df['sepsis_angus']==0) & (df['sepsis-3']==1)).sum(),\n",
        "        ((df['sepsis_angus']==0) & (df['sepsis-3']==1)).sum()*100.0/df.shape[0]))\n",
        "\n",
        "\n",
        "np.random.seed(21381)\n",
        "# calpha = su.cronbach_alpha_table(df, sepsis_list)\n",
        "\n",
        "# # remove \"sepsis_\" prefix from columns/indices\n",
        "# calpha.columns = [x.replace('sepsis_','') for x in calpha.columns]\n",
        "# calpha.index = [x.replace('sepsis_','') for x in calpha.index]\n",
        "\n",
        "# print('\\n === Cronbach Alpha ===')\n",
        "# display(HTML(calpha.fillna('').to_html()))"
      ],
      "execution_count": 0,
      "outputs": [
        {
          "output_type": "stream",
          "text": [
            "12965 patients.\n",
            " 8711 (67%) suspected of infection.\n",
            " 9801 (75.60%) have SOFA >= 2.\n",
            " 6954 (53.64%) have Sepsis-3 criteria (intersection of above two).\n",
            " 1757 (13.55%) have suspicion and SOFA < 2.\n",
            " 4049 (31.23%) - sepsis_angus\n",
            " 2010 (15.50%) - sepsis_martin\n",
            " 1202 (9.27%) - sepsis_explicit\n",
            " 1404 (10.83%) - sepsis_cdc\n",
            " 1474 (11.37%) - sepsis_nqf\n",
            " 6954 (53.64%) - sepsis-3\n",
            " 3732 (28.79%) have Sepsis-3 criteria but not Angus.\n"
          ],
          "name": "stdout"
        }
      ]
    },
    {
      "cell_type": "markdown",
      "metadata": {
        "id": "8SzG15p54qwt",
        "colab_type": "text"
      },
      "source": [
        "#### Let's do without exclusions and see"
      ]
    },
    {
      "cell_type": "code",
      "metadata": {
        "id": "DgQMWIU_3Ip1",
        "colab_type": "code",
        "colab": {}
      },
      "source": [
        "from collections import OrderedDict\n",
        "df=co\n",
        "df['composite_outcome'] = ( (df['HOSPITAL_EXPIRE_FLAG']==1) | (df['icu_los']>=3) ).astype(int)\n",
        "\n",
        "labels = OrderedDict([['suspicion_poe', 'BC + ABX (Prescribed)']])\n",
        "\n",
        "# add some other useful variables\n",
        "df['blood culture'] = (~df['blood_culture_time'].isnull())\n",
        "df['suspicion_poe'] = (~df['suspected_infection_time_poe_days'].isnull())\n",
        "\n",
        "df['abx_poe'] = (~df['antibiotic_time_poe'].isnull())\n",
        "\n",
        "df['sepsis-3'] = ((df['suspicion_poe']==1) & (df['sofa']>=2)).astype(int)\n",
        "df['sofa>=2'] = (df['sofa']>=2).astype(int)\n"
      ],
      "execution_count": 0,
      "outputs": []
    },
    {
      "cell_type": "code",
      "metadata": {
        "id": "7TrnrimX42TO",
        "colab_type": "code",
        "colab": {}
      },
      "source": [
        "for c in ['intime','outtime',\n",
        "          'suspected_infection_time_mv','suspected_infection_time',\n",
        "          'suspected_infection_time_poe', 'blood_culture_time']:\n",
        "    if c in df.columns:\n",
        "        if df[c].dtype == 'object':\n",
        "            df[c] = pd.to_datetime(df[c])\n",
        "\n",
        "# list of the sepsis definitions\n",
        "sepsis_list = ['sepsis_angus','sepsis_martin', 'sepsis_explicit',\n",
        "               'sepsis_cdc','sepsis_nqf',\n",
        "               'sepsis-3']"
      ],
      "execution_count": 0,
      "outputs": []
    },
    {
      "cell_type": "code",
      "metadata": {
        "id": "tqvuF-bi44Wl",
        "colab_type": "code",
        "outputId": "4c6f162c-e65f-4bd8-afb3-f1762dda7097",
        "colab": {
          "base_uri": "https://localhost:8080/",
          "height": 221
        }
      },
      "source": [
        "print('{:5g} patients.'.format(df.shape[0]))\n",
        "\n",
        "print('{:5g} ({:2.0f}%) suspected of infection.'.format(\n",
        "        df['suspicion_poe'].sum(), df['suspicion_poe'].sum()*100.0/df.shape[0]))\n",
        "\n",
        "print('{:5g} ({:2.2f}%) have SOFA >= 2.'.format(\n",
        "    df['sofa>=2'].sum(),100.0*df['sofa>=2'].mean()))\n",
        "\n",
        "print('{:5g} ({:2.2f}%) have Sepsis-3 criteria (intersection of above two).'.format(\n",
        "    df['sepsis-3'].sum(),100.0*df['sepsis-3'].mean()))\n",
        "\n",
        "print('{:5g} ({:2.2f}%) have suspicion and SOFA < 2.'.format(\n",
        "        ((df['sofa>=2']==0) & (df['suspicion_poe']==1)).sum(),\n",
        "        ((df['sofa>=2']==0) & (df['suspicion_poe']==1)).sum()*100.0/df.shape[0]))\n",
        "\n",
        "for c in sepsis_list:\n",
        "    print('{:5g} ({:3.2f}%) - {}'.format(\n",
        "        df[c].sum(), df[c].sum()*100.0/df.shape[0], c))\n",
        "\n",
        "print('{:5g} ({:2.2f}%) have Sepsis-3 criteria but not Angus.'.format(\n",
        "        ((df['sepsis_angus']==0) & (df['sepsis-3']==1)).sum(),\n",
        "        ((df['sepsis_angus']==0) & (df['sepsis-3']==1)).sum()*100.0/df.shape[0]))"
      ],
      "execution_count": 0,
      "outputs": [
        {
          "output_type": "stream",
          "text": [
            "61532 patients.\n",
            "41068 (67%) suspected of infection.\n",
            "45668 (74.22%) have SOFA >= 2.\n",
            "32913 (53.49%) have Sepsis-3 criteria (intersection of above two).\n",
            " 8155 (13.25%) have suspicion and SOFA < 2.\n",
            "17420 (28.31%) - sepsis_angus\n",
            " 9028 (14.67%) - sepsis_martin\n",
            " 4734 (7.69%) - sepsis_explicit\n",
            " 4151 (6.75%) - sepsis_cdc\n",
            " 6329 (10.29%) - sepsis_nqf\n",
            "32913 (53.49%) - sepsis-3\n",
            "19496 (31.68%) have Sepsis-3 criteria but not Angus.\n"
          ],
          "name": "stdout"
        }
      ]
    },
    {
      "cell_type": "code",
      "metadata": {
        "id": "WgUI3a3n49i5",
        "colab_type": "code",
        "colab": {}
      },
      "source": [
        "sepsis3_final_cohort=df[df['sepsis-3']==1]"
      ],
      "execution_count": 0,
      "outputs": []
    },
    {
      "cell_type": "code",
      "metadata": {
        "id": "BQwm0N2K5iT4",
        "colab_type": "code",
        "colab": {}
      },
      "source": [
        "icustays_1=sepsis3_final_cohort['icustay_id'].values"
      ],
      "execution_count": 0,
      "outputs": []
    },
    {
      "cell_type": "markdown",
      "metadata": {
        "id": "jEvPM6gZ6pAB",
        "colab_type": "text"
      },
      "source": [
        "### Let's see if AI clinican's cohort is included here"
      ]
    },
    {
      "cell_type": "code",
      "metadata": {
        "id": "0DZbC2bQ52MY",
        "colab_type": "code",
        "colab": {}
      },
      "source": [
        "with open('patientIDs_MIMIC3.csv') as file:\n",
        "   icustays=file.readlines()"
      ],
      "execution_count": 0,
      "outputs": []
    },
    {
      "cell_type": "code",
      "metadata": {
        "id": "Yc1r9suA6H71",
        "colab_type": "code",
        "outputId": "b4f89dfd-799a-47db-b521-56095d24f28a",
        "colab": {
          "base_uri": "https://localhost:8080/",
          "height": 34
        }
      },
      "source": [
        "icustays=[200000+int(x[:-1]) for x in icustays]\n",
        "len(icustays)"
      ],
      "execution_count": 0,
      "outputs": [
        {
          "output_type": "execute_result",
          "data": {
            "text/plain": [
              "17083"
            ]
          },
          "metadata": {
            "tags": []
          },
          "execution_count": 99
        }
      ]
    },
    {
      "cell_type": "code",
      "metadata": {
        "id": "MnqoA5tV7KlV",
        "colab_type": "code",
        "outputId": "7d1590ed-d45b-4170-ca25-390fce05ed9d",
        "colab": {
          "base_uri": "https://localhost:8080/",
          "height": 34
        }
      },
      "source": [
        "icustays[:3], icustays_1[:3]"
      ],
      "execution_count": 0,
      "outputs": [
        {
          "output_type": "execute_result",
          "data": {
            "text/plain": [
              "([200003, 200014, 200030], array([200001, 200003, 200009]))"
            ]
          },
          "metadata": {
            "tags": []
          },
          "execution_count": 100
        }
      ]
    },
    {
      "cell_type": "markdown",
      "metadata": {
        "id": "NCLRKF1u7eKn",
        "colab_type": "text"
      },
      "source": [
        "### As we can see from below our cohort has 13214 of patients who were included in AI clinician so we can even focus on these"
      ]
    },
    {
      "cell_type": "code",
      "metadata": {
        "id": "MIODF9k66YYG",
        "colab_type": "code",
        "outputId": "f4e0ab94-771c-45a0-9a29-e3d8be4c70a4",
        "colab": {
          "base_uri": "https://localhost:8080/",
          "height": 34
        }
      },
      "source": [
        "len(set(icustays)-set(icustays_1))"
      ],
      "execution_count": 0,
      "outputs": [
        {
          "output_type": "execute_result",
          "data": {
            "text/plain": [
              "3869"
            ]
          },
          "metadata": {
            "tags": []
          },
          "execution_count": 101
        }
      ]
    },
    {
      "cell_type": "markdown",
      "metadata": {
        "id": "mI0Zmv3J81rG",
        "colab_type": "text"
      },
      "source": [
        ""
      ]
    },
    {
      "cell_type": "code",
      "metadata": {
        "id": "j3JSTy-q6lTi",
        "colab_type": "code",
        "outputId": "d2c9fcb1-9d38-4f6f-cea9-6d52db252bf7",
        "colab": {
          "base_uri": "https://localhost:8080/",
          "height": 34
        }
      },
      "source": [
        "17083-3869"
      ],
      "execution_count": 0,
      "outputs": [
        {
          "output_type": "execute_result",
          "data": {
            "text/plain": [
              "13214"
            ]
          },
          "metadata": {
            "tags": []
          },
          "execution_count": 102
        }
      ]
    },
    {
      "cell_type": "markdown",
      "metadata": {
        "id": "VnyM1ZmREcQl",
        "colab_type": "text"
      },
      "source": [
        "### The times do NOT make sense, they do make sense for Athena Though\n"
      ]
    },
    {
      "cell_type": "code",
      "metadata": {
        "id": "-nE0PUz17or5",
        "colab_type": "code",
        "colab": {
          "base_uri": "https://localhost:8080/",
          "height": 419
        },
        "outputId": "d1456332-37da-4f6e-ca55-8e49917645f8"
      },
      "source": [
        "sepsis3_final_cohort[['intime','outtime','suspected_infection_time_poe','suspected_infection_time_poe_days','HOSPITAL_EXPIRE_FLAG']]"
      ],
      "execution_count": 106,
      "outputs": [
        {
          "output_type": "execute_result",
          "data": {
            "text/html": [
              "<div>\n",
              "<style scoped>\n",
              "    .dataframe tbody tr th:only-of-type {\n",
              "        vertical-align: middle;\n",
              "    }\n",
              "\n",
              "    .dataframe tbody tr th {\n",
              "        vertical-align: top;\n",
              "    }\n",
              "\n",
              "    .dataframe thead th {\n",
              "        text-align: right;\n",
              "    }\n",
              "</style>\n",
              "<table border=\"1\" class=\"dataframe\">\n",
              "  <thead>\n",
              "    <tr style=\"text-align: right;\">\n",
              "      <th></th>\n",
              "      <th>intime</th>\n",
              "      <th>outtime</th>\n",
              "      <th>suspected_infection_time_poe</th>\n",
              "      <th>suspected_infection_time_poe_days</th>\n",
              "      <th>HOSPITAL_EXPIRE_FLAG</th>\n",
              "    </tr>\n",
              "  </thead>\n",
              "  <tbody>\n",
              "    <tr>\n",
              "      <th>0</th>\n",
              "      <td>2181-11-25 19:06:12</td>\n",
              "      <td>2181-11-28 20:59:25</td>\n",
              "      <td>2181-11-18</td>\n",
              "      <td>7.795972</td>\n",
              "      <td>0</td>\n",
              "    </tr>\n",
              "    <tr>\n",
              "      <th>1</th>\n",
              "      <td>2199-08-02 19:50:04</td>\n",
              "      <td>2199-08-08 17:09:18</td>\n",
              "      <td>2199-08-02</td>\n",
              "      <td>0.826435</td>\n",
              "      <td>0</td>\n",
              "    </tr>\n",
              "    <tr>\n",
              "      <th>4</th>\n",
              "      <td>2189-11-30 10:34:32</td>\n",
              "      <td>2189-12-02 14:17:37</td>\n",
              "      <td>2189-11-30</td>\n",
              "      <td>0.440648</td>\n",
              "      <td>0</td>\n",
              "    </tr>\n",
              "    <tr>\n",
              "      <th>6</th>\n",
              "      <td>2188-08-06 01:39:24</td>\n",
              "      <td>2188-08-07 16:50:53</td>\n",
              "      <td>2188-08-05</td>\n",
              "      <td>1.069028</td>\n",
              "      <td>0</td>\n",
              "    </tr>\n",
              "    <tr>\n",
              "      <th>8</th>\n",
              "      <td>2105-02-16 23:16:48</td>\n",
              "      <td>2105-02-18 16:53:29</td>\n",
              "      <td>2105-02-17</td>\n",
              "      <td>-0.030000</td>\n",
              "      <td>0</td>\n",
              "    </tr>\n",
              "    <tr>\n",
              "      <th>...</th>\n",
              "      <td>...</td>\n",
              "      <td>...</td>\n",
              "      <td>...</td>\n",
              "      <td>...</td>\n",
              "      <td>...</td>\n",
              "    </tr>\n",
              "    <tr>\n",
              "      <th>61525</th>\n",
              "      <td>2190-02-02 08:14:45</td>\n",
              "      <td>2190-02-23 21:09:36</td>\n",
              "      <td>2187-02-09</td>\n",
              "      <td>0.439699</td>\n",
              "      <td>0</td>\n",
              "    </tr>\n",
              "    <tr>\n",
              "      <th>61526</th>\n",
              "      <td>2105-11-21 21:14:34</td>\n",
              "      <td>2105-12-12 16:46:10</td>\n",
              "      <td>2152-02-28</td>\n",
              "      <td>7.650220</td>\n",
              "      <td>0</td>\n",
              "    </tr>\n",
              "    <tr>\n",
              "      <th>61528</th>\n",
              "      <td>2114-12-09 11:56:00</td>\n",
              "      <td>2114-12-15 20:29:14</td>\n",
              "      <td>2200-11-11</td>\n",
              "      <td>0.844433</td>\n",
              "      <td>0</td>\n",
              "    </tr>\n",
              "    <tr>\n",
              "      <th>61529</th>\n",
              "      <td>2116-03-04 17:44:39</td>\n",
              "      <td>2116-03-06 18:03:55</td>\n",
              "      <td>2184-05-13</td>\n",
              "      <td>1.465995</td>\n",
              "      <td>0</td>\n",
              "    </tr>\n",
              "    <tr>\n",
              "      <th>61530</th>\n",
              "      <td>2181-07-05 18:47:40</td>\n",
              "      <td>2181-07-07 17:24:38</td>\n",
              "      <td>2124-11-09</td>\n",
              "      <td>-0.026748</td>\n",
              "      <td>0</td>\n",
              "    </tr>\n",
              "  </tbody>\n",
              "</table>\n",
              "<p>32913 rows × 5 columns</p>\n",
              "</div>"
            ],
            "text/plain": [
              "                   intime  ... HOSPITAL_EXPIRE_FLAG\n",
              "0     2181-11-25 19:06:12  ...                    0\n",
              "1     2199-08-02 19:50:04  ...                    0\n",
              "4     2189-11-30 10:34:32  ...                    0\n",
              "6     2188-08-06 01:39:24  ...                    0\n",
              "8     2105-02-16 23:16:48  ...                    0\n",
              "...                   ...  ...                  ...\n",
              "61525 2190-02-02 08:14:45  ...                    0\n",
              "61526 2105-11-21 21:14:34  ...                    0\n",
              "61528 2114-12-09 11:56:00  ...                    0\n",
              "61529 2116-03-04 17:44:39  ...                    0\n",
              "61530 2181-07-05 18:47:40  ...                    0\n",
              "\n",
              "[32913 rows x 5 columns]"
            ]
          },
          "metadata": {
            "tags": []
          },
          "execution_count": 106
        }
      ]
    },
    {
      "cell_type": "code",
      "metadata": {
        "id": "b_f8ADjcCT4E",
        "colab_type": "code",
        "colab": {
          "base_uri": "https://localhost:8080/",
          "height": 419
        },
        "outputId": "1833588a-805b-4456-f180-e9ac7a1364e7"
      },
      "source": [
        "df_athena[df['suspected_infection_time_poe'].notnull()][['intime','outtime','suspected_infection_time_poe','suspected_infection_time_poe_days']]"
      ],
      "execution_count": 112,
      "outputs": [
        {
          "output_type": "execute_result",
          "data": {
            "text/html": [
              "<div>\n",
              "<style scoped>\n",
              "    .dataframe tbody tr th:only-of-type {\n",
              "        vertical-align: middle;\n",
              "    }\n",
              "\n",
              "    .dataframe tbody tr th {\n",
              "        vertical-align: top;\n",
              "    }\n",
              "\n",
              "    .dataframe thead th {\n",
              "        text-align: right;\n",
              "    }\n",
              "</style>\n",
              "<table border=\"1\" class=\"dataframe\">\n",
              "  <thead>\n",
              "    <tr style=\"text-align: right;\">\n",
              "      <th></th>\n",
              "      <th>intime</th>\n",
              "      <th>outtime</th>\n",
              "      <th>suspected_infection_time_poe</th>\n",
              "      <th>suspected_infection_time_poe_days</th>\n",
              "    </tr>\n",
              "  </thead>\n",
              "  <tbody>\n",
              "    <tr>\n",
              "      <th>0</th>\n",
              "      <td>2181-11-25 19:06:12</td>\n",
              "      <td>2181-11-28 20:59:25</td>\n",
              "      <td>2181-11-18 00:00:00</td>\n",
              "      <td>7.795972</td>\n",
              "    </tr>\n",
              "    <tr>\n",
              "      <th>1</th>\n",
              "      <td>2199-08-02 19:50:04</td>\n",
              "      <td>2199-08-08 17:09:18</td>\n",
              "      <td>2199-08-02 00:00:00</td>\n",
              "      <td>0.826435</td>\n",
              "    </tr>\n",
              "    <tr>\n",
              "      <th>4</th>\n",
              "      <td>2189-11-30 10:34:32</td>\n",
              "      <td>2189-12-02 14:17:37</td>\n",
              "      <td>2189-11-30 00:00:00</td>\n",
              "      <td>0.440648</td>\n",
              "    </tr>\n",
              "    <tr>\n",
              "      <th>6</th>\n",
              "      <td>2188-08-06 01:39:24</td>\n",
              "      <td>2188-08-07 16:50:53</td>\n",
              "      <td>2188-08-05 00:00:00</td>\n",
              "      <td>1.069028</td>\n",
              "    </tr>\n",
              "    <tr>\n",
              "      <th>7</th>\n",
              "      <td>2153-12-23 05:12:55</td>\n",
              "      <td>2153-12-23 15:55:54</td>\n",
              "      <td>2153-12-23 00:00:00</td>\n",
              "      <td>0.217303</td>\n",
              "    </tr>\n",
              "    <tr>\n",
              "      <th>...</th>\n",
              "      <td>...</td>\n",
              "      <td>...</td>\n",
              "      <td>...</td>\n",
              "      <td>...</td>\n",
              "    </tr>\n",
              "    <tr>\n",
              "      <th>61527</th>\n",
              "      <td>2111-05-06 12:43:53</td>\n",
              "      <td>2111-05-10 15:14:42</td>\n",
              "      <td>2111-05-06 00:00:00</td>\n",
              "      <td>0.530475</td>\n",
              "    </tr>\n",
              "    <tr>\n",
              "      <th>61528</th>\n",
              "      <td>2200-11-11 20:15:59</td>\n",
              "      <td>2200-11-14 11:41:50</td>\n",
              "      <td>2200-11-11 00:00:00</td>\n",
              "      <td>0.844433</td>\n",
              "    </tr>\n",
              "    <tr>\n",
              "      <th>61529</th>\n",
              "      <td>2184-05-14 11:11:02</td>\n",
              "      <td>2184-05-16 17:23:37</td>\n",
              "      <td>2184-05-13 00:00:00</td>\n",
              "      <td>1.465995</td>\n",
              "    </tr>\n",
              "    <tr>\n",
              "      <th>61530</th>\n",
              "      <td>2124-11-08 23:21:29</td>\n",
              "      <td>2124-11-20 00:03:48</td>\n",
              "      <td>2124-11-09 00:00:00</td>\n",
              "      <td>-0.026748</td>\n",
              "    </tr>\n",
              "    <tr>\n",
              "      <th>61531</th>\n",
              "      <td>2101-01-16 01:28:21</td>\n",
              "      <td>2101-01-18 11:00:36</td>\n",
              "      <td>2101-01-16 00:00:00</td>\n",
              "      <td>0.061354</td>\n",
              "    </tr>\n",
              "  </tbody>\n",
              "</table>\n",
              "<p>41068 rows × 4 columns</p>\n",
              "</div>"
            ],
            "text/plain": [
              "                    intime  ... suspected_infection_time_poe_days\n",
              "0      2181-11-25 19:06:12  ...                          7.795972\n",
              "1      2199-08-02 19:50:04  ...                          0.826435\n",
              "4      2189-11-30 10:34:32  ...                          0.440648\n",
              "6      2188-08-06 01:39:24  ...                          1.069028\n",
              "7      2153-12-23 05:12:55  ...                          0.217303\n",
              "...                    ...  ...                               ...\n",
              "61527  2111-05-06 12:43:53  ...                          0.530475\n",
              "61528  2200-11-11 20:15:59  ...                          0.844433\n",
              "61529  2184-05-14 11:11:02  ...                          1.465995\n",
              "61530  2124-11-08 23:21:29  ...                         -0.026748\n",
              "61531  2101-01-16 01:28:21  ...                          0.061354\n",
              "\n",
              "[41068 rows x 4 columns]"
            ]
          },
          "metadata": {
            "tags": []
          },
          "execution_count": 112
        }
      ]
    },
    {
      "cell_type": "code",
      "metadata": {
        "id": "-QXxdiPaEYq7",
        "colab_type": "code",
        "colab": {}
      },
      "source": [
        ""
      ],
      "execution_count": 0,
      "outputs": []
    }
  ]
}