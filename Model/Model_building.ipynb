{
  "nbformat": 4,
  "nbformat_minor": 0,
  "metadata": {
    "colab": {
      "name": "Model_building.ipynb",
      "provenance": [],
      "collapsed_sections": [],
      "mount_file_id": "1L4RrPJP9KPgo8Qe4PRA7KqZo5f7GFm-O",
      "authorship_tag": "ABX9TyPEKqBIS8dGGPsOtuwusLnG",
      "include_colab_link": true
    },
    "kernelspec": {
      "name": "python3",
      "display_name": "Python 3"
    }
  },
  "cells": [
    {
      "cell_type": "markdown",
      "metadata": {
        "id": "view-in-github",
        "colab_type": "text"
      },
      "source": [
        "<a href=\"https://colab.research.google.com/github/thxsxth/RLMimic/blob/master/Model/Model_building.ipynb\" target=\"_parent\"><img src=\"https://colab.research.google.com/assets/colab-badge.svg\" alt=\"Open In Colab\"/></a>"
      ]
    },
    {
      "cell_type": "markdown",
      "metadata": {
        "id": "kJmaUojb4t1P",
        "colab_type": "text"
      },
      "source": [
        "### Let's start with importing csv files"
      ]
    },
    {
      "cell_type": "code",
      "metadata": {
        "id": "GzI9IYIPXyMW",
        "colab_type": "code",
        "outputId": "2f061f6f-a906-4931-bbdb-3fbfa92e5ba1",
        "colab": {
          "base_uri": "https://localhost:8080/",
          "height": 34
        }
      },
      "source": [
        "cd 'drive/My Drive/sepsis3-cohort'"
      ],
      "execution_count": 1,
      "outputs": [
        {
          "output_type": "stream",
          "text": [
            "/content/drive/My Drive/sepsis3-cohort\n"
          ],
          "name": "stdout"
        }
      ]
    },
    {
      "cell_type": "code",
      "metadata": {
        "id": "VBcFGXolZgIf",
        "colab_type": "code",
        "colab": {}
      },
      "source": [
        "import torch\n",
        "import numpy as np\n",
        "import pandas as pd\n",
        "import datetime as dt\n",
        "import random\n",
        "import torch.nn as nn\n",
        "import torch.optim as optim\n",
        "from torch.utils.data import Dataset,DataLoader\n",
        "import torch.nn.functional as F\n",
        "import os\n",
        "import glob"
      ],
      "execution_count": 0,
      "outputs": []
    },
    {
      "cell_type": "code",
      "metadata": {
        "id": "-kKP6KFrYK6F",
        "colab_type": "code",
        "colab": {}
      },
      "source": [
        "vitals=pd.read_csv('../Vitals/Vitals.csv',parse_dates=['charttime']) #pivoted vitals\n",
        "sofa=pd.read_csv('../pivoted_sofa/pivoted_sofa.csv',parse_dates=['endtime','starttime']) #pivoted sofa\n"
      ],
      "execution_count": 0,
      "outputs": []
    },
    {
      "cell_type": "code",
      "metadata": {
        "id": "GHoyKM_6kL1E",
        "colab_type": "code",
        "colab": {}
      },
      "source": [
        "co=pd.read_csv('sepsis3_adults.csv',parse_dates=['intime','outtime']) #cohort + demographics"
      ],
      "execution_count": 0,
      "outputs": []
    },
    {
      "cell_type": "code",
      "metadata": {
        "id": "et9cssVUlx0y",
        "colab_type": "code",
        "colab": {}
      },
      "source": [
        "input_cv=pd.read_csv('../Fluids/cleaned_input_cv.csv',parse_dates=['charttime']) \n",
        "input_mv=pd.read_csv('../Fluids/input_eventsMV.csv',parse_dates=['starttime','endtime'])"
      ],
      "execution_count": 0,
      "outputs": []
    },
    {
      "cell_type": "code",
      "metadata": {
        "id": "4pfbkiiTcjab",
        "colab_type": "code",
        "colab": {}
      },
      "source": [
        "## Consider only the cohort\n",
        "vitals=vitals[vitals.icustay_id.isin(set(co.icustay_id))]\n",
        "sofa=sofa[sofa.icustay_id.isin(set(co.icustay_id))]"
      ],
      "execution_count": 0,
      "outputs": []
    },
    {
      "cell_type": "code",
      "metadata": {
        "id": "yEEALmllihYa",
        "colab_type": "code",
        "colab": {}
      },
      "source": [
        "# vitals.to_csv('vitals_demo.csv')"
      ],
      "execution_count": 0,
      "outputs": []
    },
    {
      "cell_type": "markdown",
      "metadata": {
        "id": "IjBg29XFa991",
        "colab_type": "text"
      },
      "source": [
        "### Cleaning Dataframes"
      ]
    },
    {
      "cell_type": "code",
      "metadata": {
        "id": "noGOsYHQaCwO",
        "colab_type": "code",
        "colab": {}
      },
      "source": [
        "# \n",
        "sofa[['rate_epinephrine','rate_norepinephrine','rate_dopamine',\t'rate_dobutamine']]=sofa[['rate_epinephrine','rate_norepinephrine','rate_dopamine',\t'rate_dobutamine']].fillna(0)"
      ],
      "execution_count": 0,
      "outputs": []
    },
    {
      "cell_type": "code",
      "metadata": {
        "id": "m8iYkNZFbXYB",
        "colab_type": "code",
        "outputId": "a90f52f7-8c62-49c2-a4e3-b10fe56cecc2",
        "colab": {
          "base_uri": "https://localhost:8080/",
          "height": 170
        }
      },
      "source": [
        "sofa['vaso_rate']=sofa['rate_epinephrine']+sofa['rate_norepinephrine']+sofa['rate_dobutamine']+sofa['rate_dopamine']\n",
        "sofa['vaso_rate'].describe()"
      ],
      "execution_count": 10,
      "outputs": [
        {
          "output_type": "execute_result",
          "data": {
            "text/plain": [
              "count    3.821099e+06\n",
              "mean     1.534592e-01\n",
              "std      1.389909e+00\n",
              "min      0.000000e+00\n",
              "25%      0.000000e+00\n",
              "50%      0.000000e+00\n",
              "75%      0.000000e+00\n",
              "max      5.247707e+02\n",
              "Name: vaso_rate, dtype: float64"
            ]
          },
          "metadata": {
            "tags": []
          },
          "execution_count": 10
        }
      ]
    },
    {
      "cell_type": "code",
      "metadata": {
        "id": "CM0dgE0pcTPB",
        "colab_type": "code",
        "colab": {}
      },
      "source": [
        "sofa=sofa[['icustay_id','endtime','vaso_rate','rate_norepinephrine','rate_dopamine',\t'rate_dobutamine','urineoutput','cardiovascular_24hours',\t'liver_24hours','cns_24hours',\t'renal_24hours',\t'SOFA_24hours']]"
      ],
      "execution_count": 0,
      "outputs": []
    },
    {
      "cell_type": "code",
      "metadata": {
        "id": "BaHCi2x_OCf2",
        "colab_type": "code",
        "colab": {}
      },
      "source": [
        "## Cleaning and concatenating Fluid Inputs\n",
        "input_cv=input_cv[['icustay_id','charttime','tev']]\n",
        "input_mv=input_mv[['icustay_id','endtime','tev']]\n",
        "input_mv['tev_mv']=input_mv['tev']\n",
        "input_mv['charttime']=input_mv['endtime']\n",
        "input_mv=input_mv.drop('tev',axis=1)\n",
        "input_fluids=input_mv.merge(input_cv,on=['icustay_id','charttime'],how='outer')[['icustay_id','charttime','tev','tev_mv']]\n",
        "input_fluids['tev'],input_fluids['tev_mv']=input_fluids['tev'].fillna(0),input_fluids['tev_mv'].fillna(0)\n",
        "input_fluids['volume']=input_fluids['tev']+input_fluids['tev_mv']\n",
        "input_fluids=input_fluids[input_fluids.icustay_id.isin(set(co.icustay_id))]"
      ],
      "execution_count": 0,
      "outputs": []
    },
    {
      "cell_type": "markdown",
      "metadata": {
        "id": "6Ekc66ncntOH",
        "colab_type": "text"
      },
      "source": [
        "Include age,gender BMI for Vitals df"
      ]
    },
    {
      "cell_type": "code",
      "metadata": {
        "id": "-37b5bUrmxOZ",
        "colab_type": "code",
        "colab": {}
      },
      "source": [
        "## Re Index so it's easier to find\n",
        "co=co.set_index('icustay_id')\n",
        "vitals['age']=co.loc[vitals['icustay_id']]['age'].values\n",
        "vitals['gender']=co.loc[vitals['icustay_id']]['is_male'].values\n",
        "vitals['bmi']=co.loc[vitals['icustay_id']]['bmi'].values\n"
      ],
      "execution_count": 0,
      "outputs": []
    },
    {
      "cell_type": "code",
      "metadata": {
        "id": "4uy_63rpQjUi",
        "colab_type": "code",
        "outputId": "ea9662fc-4df7-499d-82d9-be1821cf55df",
        "colab": {
          "base_uri": "https://localhost:8080/",
          "height": 442
        }
      },
      "source": [
        "sofa.head(),vitals.head(),co.head()"
      ],
      "execution_count": 23,
      "outputs": [
        {
          "output_type": "execute_result",
          "data": {
            "text/plain": [
              "(   icustay_id             endtime  ...  renal_24hours  SOFA_24hours\n",
              " 0      200001 2181-11-25 19:00:00  ...              2             3\n",
              " 1      200001 2181-11-25 20:00:00  ...              2             3\n",
              " 2      200001 2181-11-25 21:00:00  ...              2             3\n",
              " 3      200001 2181-11-25 22:00:00  ...              2             3\n",
              " 4      200001 2181-11-25 23:00:00  ...              3             4\n",
              " \n",
              " [5 rows x 11 columns],\n",
              "    subject_id  icustay_id           charttime  ...   age  gender       bmi\n",
              " 0       55973      200001 2181-11-25 19:06:00  ...  61.0       0  21.06264\n",
              " 1       55973      200001 2181-11-25 19:07:00  ...  61.0       0  21.06264\n",
              " 2       55973      200001 2181-11-25 19:08:00  ...  61.0       0  21.06264\n",
              " 3       55973      200001 2181-11-25 19:14:00  ...  61.0       0  21.06264\n",
              " 4       55973      200001 2181-11-25 19:16:00  ...  61.0       0  21.06264\n",
              " \n",
              " [5 rows x 14 columns],\n",
              "             Unnamed: 0  hadm_id  excluded  ... abx_poe sepsis-3 sofa>=2\n",
              " icustay_id                                 ...                         \n",
              " 200001               0   152234         1  ...    True        1       1\n",
              " 200003               1   163557         1  ...    True        1       1\n",
              " 200009               4   129607         1  ...    True        1       1\n",
              " 200011               6   121562         1  ...    True        1       1\n",
              " 200014               8   127229         1  ...    True        1       1\n",
              " \n",
              " [5 rows x 51 columns])"
            ]
          },
          "metadata": {
            "tags": []
          },
          "execution_count": 23
        }
      ]
    },
    {
      "cell_type": "markdown",
      "metadata": {
        "id": "O2pqqLhWXaeR",
        "colab_type": "text"
      },
      "source": [
        "### Necessary Imports"
      ]
    },
    {
      "cell_type": "code",
      "metadata": {
        "id": "b_WM9xF54wnF",
        "colab_type": "code",
        "colab": {}
      },
      "source": [
        "import torch\n",
        "import numpy as np\n",
        "import pandas as pd\n",
        "import datetime as dt\n",
        "import random\n",
        "import torch.nn as nn\n",
        "import torch.optim as optim\n",
        "from torch.utils.data import Dataset,DataLoader\n",
        "import torch.nn.functional as F\n",
        "import os\n",
        "import glob"
      ],
      "execution_count": 0,
      "outputs": []
    },
    {
      "cell_type": "code",
      "metadata": {
        "id": "r7BYBvcD47zb",
        "colab_type": "code",
        "colab": {}
      },
      "source": [
        "device='cuda' if torch.cuda.is_available() else 'cpu'"
      ],
      "execution_count": 0,
      "outputs": []
    },
    {
      "cell_type": "markdown",
      "metadata": {
        "id": "LTw1_0rBq7_8",
        "colab_type": "text"
      },
      "source": [
        "#### Let's define training and validation cohorts"
      ]
    },
    {
      "cell_type": "code",
      "metadata": {
        "id": "2KmpkhwfqhyO",
        "colab_type": "code",
        "colab": {}
      },
      "source": [
        "training_cohort=np.random.choice(list(co.index),int(0.8*len(list(co.index))),replace=False)\n",
        "valid_cohort=list(set(co.index)-set(training_cohort))"
      ],
      "execution_count": 0,
      "outputs": []
    },
    {
      "cell_type": "code",
      "metadata": {
        "id": "1qeIwpb6rByv",
        "colab_type": "code",
        "colab": {
          "base_uri": "https://localhost:8080/",
          "height": 34
        },
        "outputId": "3244980b-4e1b-44e4-c0ea-aeab6fe959c8"
      },
      "source": [
        "set(valid_cohort).intersection(set(training_cohort)),len(training_cohort)+len(valid_cohort)==len(list(co.index))"
      ],
      "execution_count": 36,
      "outputs": [
        {
          "output_type": "execute_result",
          "data": {
            "text/plain": [
              "(set(), True)"
            ]
          },
          "metadata": {
            "tags": []
          },
          "execution_count": 36
        }
      ]
    },
    {
      "cell_type": "markdown",
      "metadata": {
        "id": "uDJB9pJkrH5D",
        "colab_type": "text"
      },
      "source": [
        "So as expected we don't have any common elements, and everything is accounted for"
      ]
    },
    {
      "cell_type": "code",
      "metadata": {
        "id": "7o7379Vh5a3W",
        "colab_type": "code",
        "colab": {}
      },
      "source": [
        "class MyDataLoader():\n",
        "  \"\"\"\n",
        "  Instance of MyDataLoader class yeilds batches of trajectories , treatments\n",
        "\n",
        "  \"\"\"\n",
        "  def __init__(self,sofa_df=sofa,vitals_df=vitals,input_df=input_fluids,cohort=co,batch_size=16,icustay_list=training_cohort):\n",
        "\n",
        "    \"\"\"\n",
        "    sofa_df (pd.Dataframe): Pivoted Sofa Dataframe (Also includes Vasopressors)\n",
        "    vitals (pd.Dataframe): Pivoted vitals\n",
        "    input_df (pd.Dataframe):Input fluids (CV and MV concatanated)\n",
        "    cohort(pd.Dataframe): Cohort Dataframe (contains some demographics)\n",
        "    batch_size (int):batch size\n",
        "    icu_list (iterable): List of patient Ids\n",
        "\n",
        "    \"\"\"\n",
        "    self.sofa=sofa_df\n",
        "    self.vitals=vitals_df\n",
        "    self.batch_size=batch_size\n",
        "    self.icustays=icustay_list\n",
        "    self.input_fluids=input_df\n",
        "    self.cohort=cohort\n",
        "     \n",
        "    \n",
        "  def __iter__(self):\n",
        "     np.random.shuffle(self.icustays)\n",
        "     patients=self.icustays\n",
        "     for k in range(0,len(patients)-self.batch_size,self.batch_size):\n",
        "          batch_patients=patients[k:k+self.batch_size]   # Iterable containing Batch_size IDS          \n",
        "          treatments=[]\n",
        "          trajectories=[]\n",
        "          \n",
        "          for pat in batch_patients:\n",
        "              temp_v=self.vitals[self.vitals['icustay_id']==pat].set_index('charttime')\n",
        "              temp_sofa=self.sofa[self.sofa['icustay_id']==pat].set_index('endtime')\n",
        "          \n",
        "              # sus_time=self.sus_dict[pat]\n",
        "              ## Get the data points after suspection of infection\n",
        "             \n",
        "              \n",
        "              ## Also need to consider the suspected infection\n",
        "              df=pd.concat([self.vitals[self.vitals.icustay_id==pat].set_index('charttime'),\n",
        "                              self.input_fluids[self.input_fluids.icustay_id==pat].set_index('charttime'),\n",
        "                              self.sofa[self.sofa.icustay_id==pat].set_index('endtime')]).resample('H').last()\n",
        "              \n",
        "              # df=pd.concat([temp_v, temp_sofa]).resample(\"H\").last()\n",
        "              # df.dropna()\n",
        "              \n",
        "              trajectories.append(df[['age','bmi','gender','HeartRate','SysBP','DiasBP',\t'MeanBP','RespRate','TempC','SpO2',\n",
        "                                      'liver_24hours','cardiovascular_24hours','cns_24hours','renal_24hours','SOFA_24hours']].values)\n",
        "              \n",
        "              # trajectories.append(df[['age','bmi','HeartRate','SysBP','DiasBP',\t'MeanBP','RespRate','TempC','SpO2',\n",
        "              #                         'cardiovascular_24hours','cns_24hours','renal_24hours','SOFA_24hours']].values)\n",
        "              \n",
        "              actions=df[['vaso_rate','volume']]\n",
        "              treatments.append(actions.values)\n",
        "\n",
        "          ## Probally pad trajectories too? and lengths\n",
        "          yield trajectories, treatments\n",
        "          # yield torch.FloatTensor(trajectories).to(device), torch.FloatTensor(treatments).to(device)\n",
        "\n",
        "              \n",
        "\n",
        "         \n",
        "     \n"
      ],
      "execution_count": 0,
      "outputs": []
    },
    {
      "cell_type": "markdown",
      "metadata": {
        "id": "XR1Db6WOtq5b",
        "colab_type": "text"
      },
      "source": [
        "#### Testing the data loader\n",
        "\n",
        "Works when returning lists of trajectories list has length L, and trajectory[i].shape : T*D (D is the Dimension)"
      ]
    },
    {
      "cell_type": "code",
      "metadata": {
        "id": "P-8furvL502G",
        "colab_type": "code",
        "colab": {}
      },
      "source": [
        "training_loader= MyDataLoader()"
      ],
      "execution_count": 0,
      "outputs": []
    },
    {
      "cell_type": "code",
      "metadata": {
        "id": "LeHijzN-txaw",
        "colab_type": "code",
        "colab": {
          "base_uri": "https://localhost:8080/",
          "height": 272
        },
        "outputId": "ff89012c-4e17-4ff5-f34c-7cc6ae6d5b3c"
      },
      "source": [
        "for i, (trajectory,treatment) in enumerate(training_loader):\n",
        "  print('Batch number {}'.format(i))\n",
        "  print(len(trajectory),trajectory[0].shape)\n",
        "  print(len(treatment),treatment[0].shape)\n",
        "  if i==4:\n",
        "    break"
      ],
      "execution_count": 82,
      "outputs": [
        {
          "output_type": "stream",
          "text": [
            "Batch number 0\n",
            "16 (51, 13)\n",
            "16 (51, 2)\n",
            "Batch number 1\n",
            "16 (56, 13)\n",
            "16 (56, 2)\n",
            "Batch number 2\n",
            "16 (28, 13)\n",
            "16 (28, 2)\n",
            "Batch number 3\n",
            "16 (69, 13)\n",
            "16 (69, 2)\n",
            "Batch number 4\n",
            "16 (1125, 13)\n",
            "16 (1125, 2)\n"
          ],
          "name": "stdout"
        }
      ]
    },
    {
      "cell_type": "code",
      "metadata": {
        "id": "1xlvPdLkwkOY",
        "colab_type": "code",
        "colab": {}
      },
      "source": [
        ""
      ],
      "execution_count": 0,
      "outputs": []
    }
  ]
}