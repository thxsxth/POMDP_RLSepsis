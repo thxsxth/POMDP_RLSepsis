{
  "nbformat": 4,
  "nbformat_minor": 0,
  "metadata": {
    "colab": {
      "name": "RL_csv.ipynb",
      "provenance": [],
      "collapsed_sections": [],
      "include_colab_link": true
    },
    "kernelspec": {
      "name": "python3",
      "display_name": "Python 3"
    }
  },
  "cells": [
    {
      "cell_type": "markdown",
      "metadata": {
        "id": "view-in-github",
        "colab_type": "text"
      },
      "source": [
        "<a href=\"https://colab.research.google.com/github/thxsxth/POMDP_RLSepsis/blob/master/RL/RL_csv.ipynb\" target=\"_parent\"><img src=\"https://colab.research.google.com/assets/colab-badge.svg\" alt=\"Open In Colab\"/></a>"
      ]
    },
    {
      "cell_type": "code",
      "metadata": {
        "id": "vnXf7NWzfhXl",
        "outputId": "1f35aac4-3dec-414d-98e8-d3d49f9dc1ea",
        "colab": {
          "base_uri": "https://localhost:8080/"
        }
      },
      "source": [
        "from google.colab import drive\n",
        "drive.mount('/content/drive')\n",
        "\n",
        "cd 'drive/My Drive/sepsis3-cohort'"
      ],
      "execution_count": null,
      "outputs": [
        {
          "output_type": "stream",
          "text": [
            "/content/drive/My Drive/sepsis3-cohort\n"
          ],
          "name": "stdout"
        }
      ]
    },
    {
      "cell_type": "code",
      "metadata": {
        "id": "WvV9QnUVfqiD",
        "outputId": "28c9c167-2db4-4a15-bd03-1bc2249cf870",
        "colab": {
          "base_uri": "https://localhost:8080/"
        }
      },
      "source": [
        "import torch\n",
        "import numpy as np\n",
        "import pandas as pd\n",
        "import datetime as dt\n",
        "import random\n",
        "import time\n",
        "import torch.nn as nn\n",
        "import torch.optim as optim\n",
        "from torch.utils.data import Dataset,DataLoader\n",
        "import torch.nn.functional as F\n",
        "import os\n",
        "import glob\n",
        "from torch.nn.utils.rnn import pad_sequence, pack_padded_sequence,pad_packed_sequence\n",
        "from autoencoder_models import Encoder,patient_encoder,Transition,mechanistic\n",
        "device='cuda' if torch.cuda.is_available() else 'cpu'\n",
        "from load_and_process import *\n",
        "\n",
        "print('Loading Done')"
      ],
      "execution_count": null,
      "outputs": [
        {
          "output_type": "stream",
          "text": [
            "Loading Done\n"
          ],
          "name": "stdout"
        }
      ]
    },
    {
      "cell_type": "code",
      "metadata": {
        "id": "1frfOtIXGlev"
      },
      "source": [
        "rl_pats=list(np.load('RL_Pat_list.npy'))\n",
        "val_pats=pd.read_csv('RL_val.csv',usecols=['pat'])\n",
        "val_pats=np.unique(val_pats.iloc[:].values.reshape(-1))"
      ],
      "execution_count": null,
      "outputs": []
    },
    {
      "cell_type": "code",
      "metadata": {
        "id": "_1zxfwiRFoaT"
      },
      "source": [
        "# sofa=pd.read_csv('./pivoted_sofa/sofa_with_vaso3.csv',parse_dates=['endtime','starttime'])\n",
        "sofa.head()"
      ],
      "execution_count": null,
      "outputs": []
    },
    {
      "cell_type": "code",
      "metadata": {
        "id": "l-EpGYtDpgzk",
        "outputId": "8baf864d-dd08-4b3d-d9d6-804062c0c5dd",
        "colab": {
          "base_uri": "https://localhost:8080/",
          "height": 204
        }
      },
      "source": [
        "sofa=sofa[['starttime','endtime','icustay_id','liver_24hours','cardiovascular_24hours',\n",
        "                                      'cns_24hours','renal_24hours','SOFA_24hours']]\n",
        "\n",
        "sofa.head()"
      ],
      "execution_count": null,
      "outputs": [
        {
          "output_type": "execute_result",
          "data": {
            "text/html": [
              "<div>\n",
              "<style scoped>\n",
              "    .dataframe tbody tr th:only-of-type {\n",
              "        vertical-align: middle;\n",
              "    }\n",
              "\n",
              "    .dataframe tbody tr th {\n",
              "        vertical-align: top;\n",
              "    }\n",
              "\n",
              "    .dataframe thead th {\n",
              "        text-align: right;\n",
              "    }\n",
              "</style>\n",
              "<table border=\"1\" class=\"dataframe\">\n",
              "  <thead>\n",
              "    <tr style=\"text-align: right;\">\n",
              "      <th></th>\n",
              "      <th>starttime</th>\n",
              "      <th>endtime</th>\n",
              "      <th>icustay_id</th>\n",
              "      <th>liver_24hours</th>\n",
              "      <th>cardiovascular_24hours</th>\n",
              "      <th>cns_24hours</th>\n",
              "      <th>renal_24hours</th>\n",
              "      <th>SOFA_24hours</th>\n",
              "    </tr>\n",
              "  </thead>\n",
              "  <tbody>\n",
              "    <tr>\n",
              "      <th>0</th>\n",
              "      <td>2181-11-25 18:00:00</td>\n",
              "      <td>2181-11-25 19:00:00</td>\n",
              "      <td>200001</td>\n",
              "      <td>0.0</td>\n",
              "      <td>0.0</td>\n",
              "      <td>0.0</td>\n",
              "      <td>2.0</td>\n",
              "      <td>3.0</td>\n",
              "    </tr>\n",
              "    <tr>\n",
              "      <th>1</th>\n",
              "      <td>2181-11-25 19:00:00</td>\n",
              "      <td>2181-11-25 20:00:00</td>\n",
              "      <td>200001</td>\n",
              "      <td>0.0</td>\n",
              "      <td>0.0</td>\n",
              "      <td>0.0</td>\n",
              "      <td>2.0</td>\n",
              "      <td>3.0</td>\n",
              "    </tr>\n",
              "    <tr>\n",
              "      <th>2</th>\n",
              "      <td>2181-11-25 20:00:00</td>\n",
              "      <td>2181-11-25 21:00:00</td>\n",
              "      <td>200001</td>\n",
              "      <td>0.0</td>\n",
              "      <td>0.0</td>\n",
              "      <td>0.0</td>\n",
              "      <td>2.0</td>\n",
              "      <td>3.0</td>\n",
              "    </tr>\n",
              "    <tr>\n",
              "      <th>3</th>\n",
              "      <td>2181-11-25 21:00:00</td>\n",
              "      <td>2181-11-25 22:00:00</td>\n",
              "      <td>200001</td>\n",
              "      <td>0.0</td>\n",
              "      <td>0.0</td>\n",
              "      <td>0.0</td>\n",
              "      <td>2.0</td>\n",
              "      <td>3.0</td>\n",
              "    </tr>\n",
              "    <tr>\n",
              "      <th>4</th>\n",
              "      <td>2181-11-25 22:00:00</td>\n",
              "      <td>2181-11-25 23:00:00</td>\n",
              "      <td>200001</td>\n",
              "      <td>0.0</td>\n",
              "      <td>0.0</td>\n",
              "      <td>0.0</td>\n",
              "      <td>3.0</td>\n",
              "      <td>4.0</td>\n",
              "    </tr>\n",
              "  </tbody>\n",
              "</table>\n",
              "</div>"
            ],
            "text/plain": [
              "            starttime             endtime  ...  renal_24hours  SOFA_24hours\n",
              "0 2181-11-25 18:00:00 2181-11-25 19:00:00  ...            2.0           3.0\n",
              "1 2181-11-25 19:00:00 2181-11-25 20:00:00  ...            2.0           3.0\n",
              "2 2181-11-25 20:00:00 2181-11-25 21:00:00  ...            2.0           3.0\n",
              "3 2181-11-25 21:00:00 2181-11-25 22:00:00  ...            2.0           3.0\n",
              "4 2181-11-25 22:00:00 2181-11-25 23:00:00  ...            3.0           4.0\n",
              "\n",
              "[5 rows x 8 columns]"
            ]
          },
          "metadata": {
            "tags": []
          },
          "execution_count": 6
        }
      ]
    },
    {
      "cell_type": "code",
      "metadata": {
        "id": "Cv6impSUPrJN"
      },
      "source": [
        "labs=labs[['ICUSTAY_ID','charttime','ANIONGAP','BICARBONATE',\t'CREATININE',\t'CHLORIDE',\t'GLUCOSE',\t'HEMATOCRIT',\t\n",
        "           'HEMOGLOBIN','PLATELET'\t,'POTASSIUM',\t'SODIUM',\t'BUN'\t,'WBC']]\n"
      ],
      "execution_count": null,
      "outputs": []
    },
    {
      "cell_type": "code",
      "metadata": {
        "id": "NkAsQ-wAPslU"
      },
      "source": [
        "labs.describe()"
      ],
      "execution_count": null,
      "outputs": []
    },
    {
      "cell_type": "code",
      "metadata": {
        "id": "-gwbVTZ0fuAY",
        "outputId": "04be2ecb-5e65-4350-e3a2-01bbfd3f7818",
        "colab": {
          "base_uri": "https://localhost:8080/"
        }
      },
      "source": [
        "labs=labs[['ICUSTAY_ID','charttime','ANIONGAP','BICARBONATE',\t'CREATININE',\t'CHLORIDE',\t'GLUCOSE',\t'HEMATOCRIT',\t\n",
        "           'HEMOGLOBIN','PLATELET'\t,'POTASSIUM',\t'SODIUM',\t'BUN'\t,'WBC']]\n",
        "\n",
        "cols=['ANIONGAP','BICARBONATE',\t'CREATININE',\t'CHLORIDE',\t'GLUCOSE',\t'HEMATOCRIT',\t\n",
        "           'HEMOGLOBIN','PLATELET'\t,'POTASSIUM',\t'SODIUM',\t'BUN'\t,'WBC']\n",
        "from sklearn.preprocessing import StandardScaler\n",
        "scaler=StandardScaler()\n",
        "labs[cols]=scaler.fit_transform(labs[cols])\n",
        "\n",
        "print('Labs Rescaled')"
      ],
      "execution_count": null,
      "outputs": [
        {
          "output_type": "stream",
          "text": [
            "Labs Rescaled\n"
          ],
          "name": "stdout"
        }
      ]
    },
    {
      "cell_type": "code",
      "metadata": {
        "id": "Au5yyIPKrD1V"
      },
      "source": [
        "vaso_cv=pd.read_csv('./pivoted_sofa/Vaso_CV.csv',parse_dates=['charttime'])\n",
        "vaso_MV=pd.read_csv('./pivoted_sofa/Vaso_MV.csv',parse_dates=['endtime','starttime'])\n",
        "\n",
        "vaso_cv['starttime']=vaso_cv['charttime']\n",
        "\n",
        "fluids_cv=pd.read_csv('./pivoted_sofa/fluids_CV.csv',parse_dates=['charttime'])\n",
        "fluids_MV=pd.read_csv('./pivoted_sofa/fluids_MV.csv',parse_dates=['endtime','starttime'])\n",
        "\n",
        "fluids_cv['starttime']=fluids_cv['charttime']\n"
      ],
      "execution_count": null,
      "outputs": []
    },
    {
      "cell_type": "code",
      "metadata": {
        "id": "RyQKy_rfUIi9"
      },
      "source": [
        "\n",
        "RL_pat_list=list(np.load('RL_Pat_list.npy'))"
      ],
      "execution_count": null,
      "outputs": []
    },
    {
      "cell_type": "code",
      "metadata": {
        "id": "QfThrmObUS33"
      },
      "source": [
        "non_icu=list(set(patient_list)-set(RL_pat_list))"
      ],
      "execution_count": null,
      "outputs": []
    },
    {
      "cell_type": "markdown",
      "metadata": {
        "id": "fvqOVrJMhkwl"
      },
      "source": [
        "## Goal is to get a Replay Buffer\n",
        "\n",
        "Need the states, hourly includes Vitals, Sofa Scores, Labs and the hidden CV hidden Labs"
      ]
    },
    {
      "cell_type": "code",
      "metadata": {
        "id": "uzgLAppGhGWZ"
      },
      "source": [
        "\n",
        "class Encoder_labs(nn.Module):\n",
        "  \"\"\" Encodes x_{:t} \n",
        "      The job of the Encoder is to remember the past observations.\n",
        "     \n",
        "  \"\"\"\n",
        "\n",
        "  def __init__(self,input_dim,h_dim,n_layers=12, dropout=0.0):\n",
        "      \n",
        "      super(Encoder_labs,self).__init__()\n",
        "      \n",
        "      self.rnn=nn.GRU(input_dim,h_dim,n_layers,batch_first=True)\n",
        "      self.dropout=dropout  \n",
        "      self.n_layers=n_layers\n",
        "      self.hidden_dim=h_dim\n",
        "      self.init_weights()\n",
        "      \n",
        "\n",
        "  def  init_weights(self):\n",
        "        for w in self.rnn.parameters(): # initialize the gate weights with orthogonal\n",
        "            if w.dim()>1:\n",
        "                weight_init.orthogonal_(w)\n",
        "\n",
        "  def forward(self,obs,obs_lens,init_h=None, noise=False):\n",
        "\n",
        "    \n",
        "    batch_size, max_len, freq=obs.size()  \n",
        "    obs_lens=torch.LongTensor(obs_lens).to(device)\n",
        "    obs_lens_sorted, indices = obs_lens.sort(descending=True)\n",
        "    obs_sorted = obs.index_select(0, indices).to(device)\n",
        "    \n",
        "    packed_obs=pack_padded_sequence(obs_sorted,obs_lens_sorted.data.tolist(),batch_first=True)\n",
        "    # if init_h is None:\n",
        "    #     init_h=self.init_h\n",
        "\n",
        "     \n",
        "    \n",
        "    hids, h_n = self.rnn(packed_obs) # hids: [B x T x H]  \n",
        "                                                  # h_n: [num_layers*B*H)\n",
        "    _, inv_indices = indices.sort()\n",
        "\n",
        "    hids, lens = pad_packed_sequence(hids, batch_first=True)         \n",
        "    hids = hids.index_select(0, inv_indices) #B*T*H\n",
        "    \n",
        "    \n",
        "            \n",
        "    return hids"
      ],
      "execution_count": null,
      "outputs": []
    },
    {
      "cell_type": "code",
      "metadata": {
        "id": "QuAQ6pADjZBv"
      },
      "source": [
        "class stacked_autoencoder_new(nn.Module):\n",
        "  \"\"\"\n",
        "  Denoising autoencoder adjusted so it will return the hidden state\n",
        "\n",
        "  \"\"\"\n",
        "\n",
        "  def __init__(self,input_dim,h_dims=[512,128,10],n_layers=[12,8,3]):\n",
        "    \n",
        "    super(stacked_autoencoder_new,self).__init__()   \n",
        "    self.encoder1=Encoder_labs(input_dim,h_dims[0],n_layers[0])\n",
        "    self.encoder2=Encoder_labs(h_dims[0],h_dims[1],n_layers[1])\n",
        "    self.encoder3=Encoder_labs(h_dims[1],h_dims[2],n_layers[2])\n",
        "    self.linear=nn.Linear(h_dims[2],input_dim)\n",
        "\n",
        "\n",
        "  def forward(self,obs,obs_lens):\n",
        "\n",
        "    out1=self.encoder1(obs,obs_lens)  #B*T*h_1\n",
        "    out1=pad_sequence(out1,batch_first=True)\n",
        "\n",
        "    out2=self.encoder2(out1,obs_lens)  #B*T*h_1\n",
        "    out2=pad_sequence(out2,batch_first=True) #B*T*h_2\n",
        "\n",
        "    out3=self.encoder3(out2,obs_lens)\n",
        "    out3=pad_sequence(out3,batch_first=True) #B*T*h_3\n",
        "    \n",
        "    output_=self.linear(out3)\n",
        "\n",
        "    return output_,out3"
      ],
      "execution_count": null,
      "outputs": []
    },
    {
      "cell_type": "code",
      "metadata": {
        "id": "D_I9HYIZj87n",
        "outputId": "47ada5da-c790-42a5-abfc-6322e5954d08",
        "colab": {
          "base_uri": "https://localhost:8080/"
        }
      },
      "source": [
        "stacked_rnn=stacked_autoencoder_new(12,h_dims=[128,64,10],n_layers=[8,5,3])\n",
        "if device=='cuda':\n",
        "  stacked_rnn.cuda()\n",
        "\n",
        "stacked_rnn.load_state_dict(torch.load('./lab_rnn/stacked__lab_rnn0.5.pt',map_location='cpu'))"
      ],
      "execution_count": null,
      "outputs": [
        {
          "output_type": "execute_result",
          "data": {
            "text/plain": [
              "<All keys matched successfully>"
            ]
          },
          "metadata": {
            "tags": []
          },
          "execution_count": 13
        }
      ]
    },
    {
      "cell_type": "code",
      "metadata": {
        "id": "BDlTCygpkWxM",
        "outputId": "4bf027ec-9919-4ef7-f6a0-f6467ccb0850",
        "colab": {
          "base_uri": "https://localhost:8080/"
        }
      },
      "source": [
        "class state_space_new(nn.Module):\n",
        "  \n",
        "  def __init__(self,z_dim,obs_dim,full_dim,h_dim,a_dim,constants_dim):\n",
        "    \n",
        "    super(state_space_new,self).__init__()\n",
        "\n",
        "    self.rnn=Encoder(full_dim,h_dim,a_dim)\n",
        "    self.trans=Transition(z_dim,a_dim,h_dim,constants_dim)\n",
        "    self.z_baselines=torch.FloatTensor([70.0,1.0,2.0,0.7,70.0]).to(device)\n",
        "    self.initial=patient_encoder(constants_dim,z_dim,h_dim)\n",
        "    \n",
        "    if device=='cuda':\n",
        "      self.cuda()\n",
        "\n",
        "  def forward(self,trajectories,treatments,constants,seq_lens,obs):\n",
        "      \"\"\"\n",
        "      trajectories : Batch of Full_observations B*T*|Full_O|\n",
        "      seq_lengths :list\n",
        "      actions : B*T*|A|\n",
        "      Constants B*|C|\n",
        "      obs : B*T*|O|\n",
        "      others : B*T*(|Full_O|-|O|)\n",
        "      \"\"\"\n",
        "      \n",
        "      T_max =trajectories.size(1)\n",
        "      batch_size=trajectories.size(0)\n",
        "      baselines=self.z_baselines.expand(batch_size,-1)\n",
        "      z_prev,h_prev=self.initial(constants)\n",
        "    \n",
        "      h_prev=h_prev.contiguous()\n",
        "      \n",
        "      outputs=[]\n",
        "      cv_params=[]\n",
        "\n",
        "      a_prev=torch.zeros(treatments.shape[0],treatments.shape[2]).to(device) #B*A\n",
        "      rnn_output=self.rnn(trajectories,seq_lens,constants,h_prev) \n",
        "   \n",
        "       #rnn_ouput has shape B*T*H\n",
        "\n",
        "      # we enclose all the sample statements in the model in a plate.\n",
        "      # this marks that each datapoint is conditionally independent of the others\n",
        "      \n",
        "      for t in range(1,T_max+1):\n",
        "\n",
        "        z_t=self.trans(z_prev,a_prev,rnn_output[:,t-1,:],constants)\n",
        "        z_scaled=z_t+baselines\n",
        "        \n",
        "        o_t=mechanistic(z_scaled) #B*obs_dim\n",
        "        outputs.append(o_t)\n",
        "        cv_params.append(z_scaled)\n",
        "        \n",
        "        z_prev = z_t\n",
        "        a_prev=treatments[:,t-1,:]\n",
        "         \n",
        "           \n",
        "      temp=torch.stack(outputs,dim=1).to(device)\n",
        "      cv=torch.stack(cv_params,dim=1).to(device)\n",
        "      return temp,cv\n",
        "\n",
        "\n",
        "model=state_space_new(z_dim=5,obs_dim=4,full_dim=12,h_dim=64,a_dim=2,constants_dim=3)\n",
        "model.load_state_dict(torch.load('./physio/0.1_denoise_auto_17.763059199264546.pt'))\n",
        "# model.load_state_dict(torch.load('./Auto Encoder dicts/deterministic_final.pt'))"
      ],
      "execution_count": null,
      "outputs": [
        {
          "output_type": "execute_result",
          "data": {
            "text/plain": [
              "<All keys matched successfully>"
            ]
          },
          "metadata": {
            "tags": []
          },
          "execution_count": 14
        }
      ]
    },
    {
      "cell_type": "code",
      "metadata": {
        "id": "l2YbZOtnmHlc"
      },
      "source": [
        "ls Auto\\ Encoder\\ dicts"
      ],
      "execution_count": null,
      "outputs": []
    },
    {
      "cell_type": "code",
      "metadata": {
        "id": "uwUWZOKcm1LC",
        "outputId": "36f78118-01af-4ee9-fb88-55fb0938aed6",
        "colab": {
          "base_uri": "https://localhost:8080/"
        }
      },
      "source": [
        "C1,C2=-0.125,-0.025\n",
        "def get_rewards(df,dead):\n",
        "  \"\"\"\n",
        "  Get's rewards for a trajectory\n",
        "  df_sofa: Pandas Df which contains SOFA scores\n",
        "  MUST BE REINDEXED to have time\n",
        "  dead (bool): If the terminal is survival or death\n",
        "  \"\"\"\n",
        "  # Calculate rewards for SOFA_{t+1} -SOFA_{t}\n",
        "\n",
        "  # rewards1=C1*(df.SOFA_24hours-df.shift().SOFA_24hours).dropna().values\n",
        "  rewards1=C1*(df.SOFA_24hours.values[1:]-df.SOFA_24hours.values[:-1])\n",
        "  # print(rewards1.shape)\n",
        "  \n",
        "  rewards2=C2*((df.shift().SOFA_24hours.iloc[1:]==df.SOFA_24hours.iloc[1:])&(df.SOFA_24hours.iloc[1:]>0)).astype('int').values\n",
        "  # print(rewards2.shape)\n",
        "  \n",
        "  rewards=rewards1+rewards2\n",
        "  # Calculate Terminal rewards\n",
        "  if dead:\n",
        "    rewards=np.concatenate([rewards,[-15]])\n",
        "  else:\n",
        "    rewards=np.concatenate([rewards,[15]])\n",
        "\n",
        "  return rewards\n",
        "\n",
        "\n",
        "4+4"
      ],
      "execution_count": null,
      "outputs": [
        {
          "output_type": "execute_result",
          "data": {
            "text/plain": [
              "8"
            ]
          },
          "metadata": {
            "tags": []
          },
          "execution_count": 15
        }
      ]
    },
    {
      "cell_type": "markdown",
      "metadata": {
        "id": "NjQohpMepBDX"
      },
      "source": [
        "We have a patient, so we need to get the 'hidden states', ( all timed in order) and rewards and buffer should contain (s,a,s',r,done)\n",
        "\n",
        "For each patient we can get hidden lab states +hidden cv_states"
      ]
    },
    {
      "cell_type": "code",
      "metadata": {
        "id": "WveywAcS9fmV"
      },
      "source": [
        "pat=RL_pat_list[299]"
      ],
      "execution_count": null,
      "outputs": []
    },
    {
      "cell_type": "code",
      "metadata": {
        "id": "aiMb2rMjy-VL"
      },
      "source": [
        "def get_lab_hs(pat_labs):\n",
        "   \"\"\"\n",
        "\n",
        "   Takes patient specific lab dataframe and returns labs with hidden values concat'd\n",
        "   Input : pd.Dataframe, index: Charttime, and cols [['charttime','ANIONGAP','BICARBONATE',\t'CREATININE',\t'CHLORIDE',\t'GLUCOSE',\t'HEMATOCRIT',\t\n",
        "           'HEMOGLOBIN','PLATELET'\t,'POTASSIUM',\t'SODIUM',\t'BUN'\t,'WBC']]\n",
        "   Output : pd.Dataframe with index:Charttime\n",
        "\n",
        "   \"\"\"\n",
        "   lab_vals=torch.Tensor(pat_labs.values).to(device).unsqueeze(0)\n",
        "   seq_len=[lab_vals.shape[1]]\n",
        "\n",
        "   with torch.no_grad():\n",
        "     _,h=stacked_rnn(lab_vals,seq_len)\n",
        "\n",
        "   labs_h=pd.DataFrame(np.concatenate([pat_labs.values,h.squeeze(0).to('cpu').numpy()],axis=1),index=pat_labs.index) \n",
        "\n",
        "   return labs_h\n",
        " \n",
        "# pat_lab=labs[labs.ICUSTAY_ID==pat]\n",
        "# pat_lab=pat_lab[['charttime','ANIONGAP','BICARBONATE',\t'CREATININE',\t'CHLORIDE',\t'GLUCOSE',\t'HEMATOCRIT',\t\n",
        "#            'HEMOGLOBIN','PLATELET'\t,'POTASSIUM',\t'SODIUM',\t'BUN'\t,'WBC']]\n",
        "\n",
        "# pat_lab=pat_lab.set_index('charttime').resample('12H').mean().ffill().dropna()\n",
        "\n",
        "\n",
        "# pat_labs=get_lab_hs(pat_lab)\n",
        "# pat_labs.head()"
      ],
      "execution_count": null,
      "outputs": []
    },
    {
      "cell_type": "code",
      "metadata": {
        "id": "TVFgruoRnVBl",
        "outputId": "dde48582-46e9-4cce-e2f9-cbf372cc4dd1",
        "colab": {
          "base_uri": "https://localhost:8080/"
        }
      },
      "source": [
        "def get_trajectory(pat):\n",
        "\n",
        "  # pat_fluids=input_fluids[input_fluids.icustay_id==pat].set_index('charttime')\n",
        "  pat_sofa=sofa[sofa.icustay_id==pat].set_index('endtime').resample('H').last().ffill()\n",
        "\n",
        "  pat_vaso=pd.concat([vaso_cv[vaso_cv.icustay_id==pat].set_index('starttime').resample('H').last(),\n",
        "           vaso_MV[vaso_MV.icustay_id==pat].set_index('starttime').resample('H').mean().fillna(0)]).resample('H').last().fillna(0)\n",
        "\n",
        "  pat_vaso['Vaso_rate']=pat_vaso['rate_std']+pat_vaso['vaso_rate']\n",
        "\n",
        "  pat_fluids=pd.concat([fluids_cv[fluids_cv.icustay_id==pat].set_index('starttime').resample('H').sum(),\n",
        "           fluids_MV[fluids_MV.icustay_id==pat].set_index('starttime').resample('H').sum().fillna(0)]).resample('H').last().fillna(0)\n",
        "\n",
        "  pat_fluids['volume']=pat_fluids['tev_mv']+pat_fluids['tev_cv']\n",
        "\n",
        " \n",
        "  \n",
        "  pat_sofa=pd.concat([pat_sofa,pat_fluids,pat_vaso]).resample('H').sum()[['liver_24hours','cardiovascular_24hours',\n",
        "                                      'cns_24hours','renal_24hours','SOFA_24hours','Vaso_rate','volume']]\n",
        "\n",
        "  pat_vitals=vitals[vitals.icustay_id==pat].set_index('charttime')[['HeartRate','SysBP','DiasBP',\t'MeanBP','RespRate','SpO2','TempC']]\n",
        "  \n",
        "\n",
        "  pat_lab=labs[labs.ICUSTAY_ID==pat]\n",
        "  pat_lab=pat_lab[['charttime','ANIONGAP','BICARBONATE',\t'CREATININE',\t'CHLORIDE',\t'GLUCOSE',\t'HEMATOCRIT',\t\n",
        "           'HEMOGLOBIN','PLATELET'\t,'POTASSIUM',\t'SODIUM',\t'BUN'\t,'WBC']]\n",
        "\n",
        "  pat_lab=pat_lab.set_index('charttime').resample('12H').mean().ffill().dropna()\n",
        "\n",
        "  if pat_lab.shape[0]<1:\n",
        "    return None\n",
        "  \n",
        "  \n",
        "  \n",
        "  labs_with_h=get_lab_hs(pat_lab)\n",
        "\n",
        "\n",
        "\n",
        "  pat_df=pd.concat([pat_vitals,\n",
        "                              pat_sofa,labs_with_h]).resample('H').last().ffill().dropna()\n",
        "\n",
        " \n",
        "  dead=co.loc[pat].HOSPITAL_EXPIRE_FLAG==1\n",
        "  pat_df=pat_df.truncate(before=co.loc[pat].intime-pd.Timedelta('1hr'))\n",
        "\n",
        "  if co.loc[pat].HOSPITAL_EXPIRE_FLAG==1:\n",
        "       pat_df=pat_df.truncate(after=co.loc[pat].death_time)\n",
        "  else:\n",
        "    pat_df=pat_df.truncate(after=co.loc[pat].outtime)\n",
        "  if pat_df.shape[0]<2:\n",
        "    return None\n",
        "\n",
        "  treatments=torch.FloatTensor(pat_df[['Vaso_rate','volume']].values).to(device).unsqueeze(0)     \n",
        "\n",
        "  trajectory=torch.FloatTensor(pat_df[['HeartRate','SysBP','DiasBP',\t'MeanBP','RespRate','SpO2','TempC',\n",
        "                                      'liver_24hours','cardiovascular_24hours',\n",
        "                                      'cns_24hours','renal_24hours','SOFA_24hours']].values).to(device).unsqueeze(0)\n",
        "\n",
        "\n",
        "  obs=torch.FloatTensor(pat_df[['HeartRate','SysBP','DiasBP',\t'MeanBP']].values).to(device).unsqueeze(0)\n",
        "  constants=torch.FloatTensor(co.loc[pat][['age','is_male','Weight']]).to(device).unsqueeze(0)\n",
        "  \n",
        "  seq_len=[pat_df.shape[0]]\n",
        "\n",
        "  with torch.no_grad():\n",
        "    _,cvs=model(trajectory,treatments,constants,seq_len,obs)\n",
        "\n",
        "  full_states=pd.DataFrame(np.concatenate([pat_df.values,cvs[:,:,1:].squeeze(0).to('cpu').numpy()],axis=1),\n",
        "                         index=pat_df.index,columns=list(pat_df.columns)+['R','C','T','SV'])\n",
        "\n",
        "  full_states['age']=co.loc[pat].age\n",
        "  full_states['gender']=co.loc[pat].is_male\n",
        "  full_states['weight']=co.loc[pat].Weight\n",
        "\n",
        "  treatments=full_states[['Vaso_rate','volume']].values\n",
        "  rewards=get_rewards(pat_df,dead)\n",
        "  full_states=full_states.drop(['Vaso_rate','volume'],axis=1)\n",
        "  # print(full_states)\n",
        "  return full_states,treatments,rewards\n",
        "\n",
        "\n",
        "print('Done')"
      ],
      "execution_count": null,
      "outputs": [
        {
          "output_type": "stream",
          "text": [
            "Done\n"
          ],
          "name": "stdout"
        }
      ]
    },
    {
      "cell_type": "code",
      "metadata": {
        "id": "v0VxVyU07Wgy"
      },
      "source": [
        "buffer=[]\n",
        "max_sofa=0\n",
        "pat=0\n",
        "\"\"\"\n",
        "buffer should contain (s,s',a,r,done)\n",
        "is done=T, s'=None\n",
        "\"\"\"\n",
        "\n",
        "for i,pat in enumerate(val_pat_list):\n",
        "   output=get_trajectory(pat)\n",
        "   if output:\n",
        "     full_states,treatments,rewards=output\n",
        "     T=full_states.shape[0]\n",
        "    #  this_sofa=max(full_states.SOFA_24hours)\n",
        "    #  if this_sofa>max_sofa:\n",
        "    #       max_sofa=this_sofa\n",
        "    #       print('Max_sofa is',max_sofa,'Patient is :',pat)\n",
        "    #       pat=pat\n",
        "     full_states=full_states.values\n",
        "     if T<2:\n",
        "       continue\n",
        "     \n",
        "     \n",
        "     for t in range(1,T+1):\n",
        "        \n",
        "        a=treatments[t-1,:]\n",
        "        s=full_states[t-1,:]\n",
        "        \n",
        "        r=rewards[t-1]\n",
        "        if t==T:\n",
        "            # s1=None\n",
        "            done=True\n",
        "\n",
        "        else:\n",
        "          #  s1=full_states[t,:]\n",
        "           done=False\n",
        "        \n",
        "        # Appends a 5,tuple\n",
        "        buffer.append((pat,s,a,r,done))\n",
        "\n",
        "    \n",
        "   \n",
        "   print(i/len(val_pat_list)*100,'% Done')\n"
      ],
      "execution_count": null,
      "outputs": []
    },
    {
      "cell_type": "code",
      "metadata": {
        "id": "FRKbT6RQTMZu",
        "outputId": "518cecbd-f4a1-4940-c850-45c62f74ec2b",
        "colab": {
          "base_uri": "https://localhost:8080/"
        }
      },
      "source": [
        "states=np.vstack([exp[1] for exp in buffer])\n",
        "states.shape"
      ],
      "execution_count": null,
      "outputs": [
        {
          "output_type": "execute_result",
          "data": {
            "text/plain": [
              "(2596604, 41)"
            ]
          },
          "metadata": {
            "tags": []
          },
          "execution_count": 38
        }
      ]
    },
    {
      "cell_type": "code",
      "metadata": {
        "id": "NKHNBUFjmymy",
        "outputId": "35c1836b-79f6-4806-88b0-5e1e4974b9cd",
        "colab": {
          "base_uri": "https://localhost:8080/"
        }
      },
      "source": [
        "actions=np.vstack(([exp[2] for exp in buffer]))\n",
        "rewards=np.vstack(([exp[3] for exp in buffer]))\n",
        "rewards.shape"
      ],
      "execution_count": null,
      "outputs": [
        {
          "output_type": "execute_result",
          "data": {
            "text/plain": [
              "(2596604, 1)"
            ]
          },
          "metadata": {
            "tags": []
          },
          "execution_count": 39
        }
      ]
    },
    {
      "cell_type": "code",
      "metadata": {
        "id": "cGq6fXbRg9OR"
      },
      "source": [
        "df=pd.DataFrame(np.hstack([states,actions,rewards]))"
      ],
      "execution_count": null,
      "outputs": []
    },
    {
      "cell_type": "code",
      "metadata": {
        "id": "tsyay5zHbHyW"
      },
      "source": [
        "df['pat']=[exp[0] for exp in buffer]\n",
        "cols=\"DBP\tHR\tMBP\tRR\tSOFA\tSpO2\tSBP\tTempC\tcardio\tcns\tliver\trenal\tAG\tBICARB\tCREAT\tCL\tGLUC\tHCT\tHB\tPLAT\tK\tNa\tBUN\tWBC\tl_1\tl_2\tl_3\tl_4\tl_5\tl_6\tl_7\tl_8\tl_9\tl_10\tR\tC\tT\tSV\tage\tM/F\tweight\tVaso\tFluids\tRewards\tPat\".split()\n",
        "df.columns=cols"
      ],
      "execution_count": null,
      "outputs": []
    },
    {
      "cell_type": "code",
      "metadata": {
        "id": "qDortZ3pi6Uy"
      },
      "source": [
        "df.to_csv('RL_val.csv')"
      ],
      "execution_count": null,
      "outputs": []
    }
  ]
}