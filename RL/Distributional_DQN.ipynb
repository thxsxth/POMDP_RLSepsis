{
  "nbformat": 4,
  "nbformat_minor": 0,
  "metadata": {
    "colab": {
      "name": "Distributional DQN",
      "provenance": [],
      "collapsed_sections": [],
      "include_colab_link": true
    },
    "kernelspec": {
      "name": "python3",
      "display_name": "Python 3"
    }
  },
  "cells": [
    {
      "cell_type": "markdown",
      "metadata": {
        "id": "view-in-github",
        "colab_type": "text"
      },
      "source": [
        "<a href=\"https://colab.research.google.com/github/thxsxth/POMDP_RLSepsis/blob/master/Distributional_DQN.ipynb\" target=\"_parent\"><img src=\"https://colab.research.google.com/assets/colab-badge.svg\" alt=\"Open In Colab\"/></a>"
      ]
    },
    {
      "cell_type": "code",
      "metadata": {
        "id": "7nol9qAnOTsH",
        "outputId": "07056cf4-31fe-41ea-dcc9-40a000a2f46f",
        "colab": {
          "base_uri": "https://localhost:8080/"
        }
      },
      "source": [
        "cd 'drive/My Drive/sepsis3-cohort'\n"
      ],
      "execution_count": null,
      "outputs": [
        {
          "output_type": "stream",
          "text": [
            "/content/drive/.shortcut-targets-by-id/1Dn0AjHyN50Kv8tcF0f2bQsdPbRYa_49h/sepsis3-cohort\n"
          ],
          "name": "stdout"
        }
      ]
    },
    {
      "cell_type": "code",
      "metadata": {
        "id": "1CxjDC1NoeaN",
        "outputId": "8b48b317-ed0d-4eeb-9fd2-a8af096e2d4a",
        "colab": {
          "base_uri": "https://localhost:8080/"
        }
      },
      "source": [
        "from google.colab import drive\n",
        "drive.mount('/content/drive')"
      ],
      "execution_count": null,
      "outputs": [
        {
          "output_type": "stream",
          "text": [
            "Mounted at /content/drive\n"
          ],
          "name": "stdout"
        }
      ]
    },
    {
      "cell_type": "code",
      "metadata": {
        "id": "f_7cBcL3qj-4",
        "outputId": "4f85220b-efe8-4293-a5fa-d7e2fa904e3f",
        "colab": {
          "base_uri": "https://localhost:8080/"
        }
      },
      "source": [
        "import torch\n",
        "import numpy as np\n",
        "import pandas as pd\n",
        "import datetime as dt\n",
        "import random\n",
        "import time\n",
        "import torch.nn as nn\n",
        "import torch.optim as optim\n",
        "from torch.utils.data import Dataset,DataLoader\n",
        "import torch.nn.functional as F\n",
        "import os\n",
        "import glob\n",
        "import copy\n",
        "\n",
        "device = torch.device(\"cuda\" if torch.cuda.is_available() else \"cpu\")\n",
        "device='cuda' if torch.cuda.is_available() else 'cpu'\n",
        "print('Done')"
      ],
      "execution_count": null,
      "outputs": [
        {
          "output_type": "stream",
          "text": [
            "Done\n"
          ],
          "name": "stdout"
        }
      ]
    },
    {
      "cell_type": "code",
      "metadata": {
        "id": "HM_2SBfcqzEG",
        "outputId": "33ecb71b-a7f4-4624-d58c-4599db848f6c",
        "colab": {
          "base_uri": "https://localhost:8080/"
        }
      },
      "source": [
        "df=pd.read_csv('RL_new.csv')\n",
        " df=df.iloc[:,1:]\n",
        "print('Loaded')"
      ],
      "execution_count": null,
      "outputs": [
        {
          "output_type": "stream",
          "text": [
            "Loaded\n"
          ],
          "name": "stdout"
        }
      ]
    },
    {
      "cell_type": "code",
      "metadata": {
        "id": "cA0WaAy9jxQ5",
        "outputId": "a4c1da71-67ca-4336-d3f6-65a63323bced",
        "colab": {
          "base_uri": "https://localhost:8080/",
          "height": 224
        }
      },
      "source": [
        "df.head()"
      ],
      "execution_count": null,
      "outputs": [
        {
          "output_type": "execute_result",
          "data": {
            "text/html": [
              "<div>\n",
              "<style scoped>\n",
              "    .dataframe tbody tr th:only-of-type {\n",
              "        vertical-align: middle;\n",
              "    }\n",
              "\n",
              "    .dataframe tbody tr th {\n",
              "        vertical-align: top;\n",
              "    }\n",
              "\n",
              "    .dataframe thead th {\n",
              "        text-align: right;\n",
              "    }\n",
              "</style>\n",
              "<table border=\"1\" class=\"dataframe\">\n",
              "  <thead>\n",
              "    <tr style=\"text-align: right;\">\n",
              "      <th></th>\n",
              "      <th>DBP</th>\n",
              "      <th>HR</th>\n",
              "      <th>MBP</th>\n",
              "      <th>RR</th>\n",
              "      <th>SOFA</th>\n",
              "      <th>SpO2</th>\n",
              "      <th>SBP</th>\n",
              "      <th>TempC</th>\n",
              "      <th>cardio</th>\n",
              "      <th>cns</th>\n",
              "      <th>liver</th>\n",
              "      <th>renal</th>\n",
              "      <th>AG</th>\n",
              "      <th>BICARB</th>\n",
              "      <th>CREAT</th>\n",
              "      <th>CL</th>\n",
              "      <th>GLUC</th>\n",
              "      <th>HCT</th>\n",
              "      <th>HB</th>\n",
              "      <th>PLAT</th>\n",
              "      <th>K</th>\n",
              "      <th>Na</th>\n",
              "      <th>BUN</th>\n",
              "      <th>WBC</th>\n",
              "      <th>l_1</th>\n",
              "      <th>l_2</th>\n",
              "      <th>l_3</th>\n",
              "      <th>l_4</th>\n",
              "      <th>l_5</th>\n",
              "      <th>l_6</th>\n",
              "      <th>l_7</th>\n",
              "      <th>l_8</th>\n",
              "      <th>l_9</th>\n",
              "      <th>l_10</th>\n",
              "      <th>R</th>\n",
              "      <th>C</th>\n",
              "      <th>T</th>\n",
              "      <th>SV</th>\n",
              "      <th>age</th>\n",
              "      <th>M/F</th>\n",
              "      <th>weight</th>\n",
              "      <th>Vaso</th>\n",
              "      <th>Fluids</th>\n",
              "      <th>Rewards</th>\n",
              "      <th>Pat</th>\n",
              "    </tr>\n",
              "  </thead>\n",
              "  <tbody>\n",
              "    <tr>\n",
              "      <th>0</th>\n",
              "      <td>46.0</td>\n",
              "      <td>118.0</td>\n",
              "      <td>62.0</td>\n",
              "      <td>26.0</td>\n",
              "      <td>0.0</td>\n",
              "      <td>94.0</td>\n",
              "      <td>109.0</td>\n",
              "      <td>36.388889</td>\n",
              "      <td>0.0</td>\n",
              "      <td>0.0</td>\n",
              "      <td>0.0</td>\n",
              "      <td>0.0</td>\n",
              "      <td>1.354087</td>\n",
              "      <td>-0.050696</td>\n",
              "      <td>0.226119</td>\n",
              "      <td>-0.273616</td>\n",
              "      <td>1.664569</td>\n",
              "      <td>0.619855</td>\n",
              "      <td>0.522458</td>\n",
              "      <td>0.450940</td>\n",
              "      <td>2.129651</td>\n",
              "      <td>0.279296</td>\n",
              "      <td>1.282761</td>\n",
              "      <td>-0.258103</td>\n",
              "      <td>-0.462474</td>\n",
              "      <td>-0.086368</td>\n",
              "      <td>0.014108</td>\n",
              "      <td>-0.474435</td>\n",
              "      <td>0.625043</td>\n",
              "      <td>0.389752</td>\n",
              "      <td>0.630310</td>\n",
              "      <td>0.071789</td>\n",
              "      <td>-0.213654</td>\n",
              "      <td>-0.500278</td>\n",
              "      <td>0.463221</td>\n",
              "      <td>1.030419</td>\n",
              "      <td>0.419510</td>\n",
              "      <td>65.685165</td>\n",
              "      <td>82.0</td>\n",
              "      <td>0.0</td>\n",
              "      <td>75.1</td>\n",
              "      <td>0.0</td>\n",
              "      <td>0.0</td>\n",
              "      <td>-0.250</td>\n",
              "      <td>262147</td>\n",
              "    </tr>\n",
              "    <tr>\n",
              "      <th>1</th>\n",
              "      <td>41.0</td>\n",
              "      <td>111.0</td>\n",
              "      <td>58.0</td>\n",
              "      <td>23.0</td>\n",
              "      <td>2.0</td>\n",
              "      <td>95.0</td>\n",
              "      <td>109.0</td>\n",
              "      <td>36.388889</td>\n",
              "      <td>1.0</td>\n",
              "      <td>0.0</td>\n",
              "      <td>0.0</td>\n",
              "      <td>1.0</td>\n",
              "      <td>1.354087</td>\n",
              "      <td>-0.050696</td>\n",
              "      <td>0.226119</td>\n",
              "      <td>-0.273616</td>\n",
              "      <td>1.664569</td>\n",
              "      <td>0.619855</td>\n",
              "      <td>0.522458</td>\n",
              "      <td>0.450940</td>\n",
              "      <td>2.129651</td>\n",
              "      <td>0.279296</td>\n",
              "      <td>1.282761</td>\n",
              "      <td>-0.258103</td>\n",
              "      <td>-0.462474</td>\n",
              "      <td>-0.086368</td>\n",
              "      <td>0.014108</td>\n",
              "      <td>-0.474435</td>\n",
              "      <td>0.625043</td>\n",
              "      <td>0.389752</td>\n",
              "      <td>0.630310</td>\n",
              "      <td>0.071789</td>\n",
              "      <td>-0.213654</td>\n",
              "      <td>-0.500278</td>\n",
              "      <td>0.461611</td>\n",
              "      <td>0.946364</td>\n",
              "      <td>0.446352</td>\n",
              "      <td>66.568794</td>\n",
              "      <td>82.0</td>\n",
              "      <td>0.0</td>\n",
              "      <td>75.1</td>\n",
              "      <td>0.0</td>\n",
              "      <td>0.0</td>\n",
              "      <td>-0.375</td>\n",
              "      <td>262147</td>\n",
              "    </tr>\n",
              "    <tr>\n",
              "      <th>2</th>\n",
              "      <td>44.0</td>\n",
              "      <td>108.0</td>\n",
              "      <td>62.0</td>\n",
              "      <td>19.0</td>\n",
              "      <td>5.0</td>\n",
              "      <td>98.0</td>\n",
              "      <td>118.0</td>\n",
              "      <td>36.388889</td>\n",
              "      <td>1.0</td>\n",
              "      <td>0.0</td>\n",
              "      <td>0.0</td>\n",
              "      <td>4.0</td>\n",
              "      <td>2.643402</td>\n",
              "      <td>-1.035373</td>\n",
              "      <td>0.226119</td>\n",
              "      <td>0.199762</td>\n",
              "      <td>0.582360</td>\n",
              "      <td>0.286389</td>\n",
              "      <td>-0.054658</td>\n",
              "      <td>0.476552</td>\n",
              "      <td>3.521104</td>\n",
              "      <td>0.664734</td>\n",
              "      <td>1.489631</td>\n",
              "      <td>0.661645</td>\n",
              "      <td>-0.696658</td>\n",
              "      <td>0.058330</td>\n",
              "      <td>-0.158973</td>\n",
              "      <td>-0.117952</td>\n",
              "      <td>0.737430</td>\n",
              "      <td>0.266839</td>\n",
              "      <td>0.538169</td>\n",
              "      <td>0.202432</td>\n",
              "      <td>-0.357259</td>\n",
              "      <td>-0.794549</td>\n",
              "      <td>0.509343</td>\n",
              "      <td>0.863491</td>\n",
              "      <td>0.458074</td>\n",
              "      <td>66.941925</td>\n",
              "      <td>82.0</td>\n",
              "      <td>0.0</td>\n",
              "      <td>75.1</td>\n",
              "      <td>0.0</td>\n",
              "      <td>0.0</td>\n",
              "      <td>-0.025</td>\n",
              "      <td>262147</td>\n",
              "    </tr>\n",
              "    <tr>\n",
              "      <th>3</th>\n",
              "      <td>41.0</td>\n",
              "      <td>96.0</td>\n",
              "      <td>60.0</td>\n",
              "      <td>20.0</td>\n",
              "      <td>5.0</td>\n",
              "      <td>96.0</td>\n",
              "      <td>118.0</td>\n",
              "      <td>36.388889</td>\n",
              "      <td>1.0</td>\n",
              "      <td>0.0</td>\n",
              "      <td>0.0</td>\n",
              "      <td>4.0</td>\n",
              "      <td>2.643402</td>\n",
              "      <td>-1.035373</td>\n",
              "      <td>0.226119</td>\n",
              "      <td>0.199762</td>\n",
              "      <td>0.582360</td>\n",
              "      <td>0.286389</td>\n",
              "      <td>-0.054658</td>\n",
              "      <td>0.476552</td>\n",
              "      <td>3.521104</td>\n",
              "      <td>0.664734</td>\n",
              "      <td>1.489631</td>\n",
              "      <td>0.661645</td>\n",
              "      <td>-0.696658</td>\n",
              "      <td>0.058330</td>\n",
              "      <td>-0.158973</td>\n",
              "      <td>-0.117952</td>\n",
              "      <td>0.737430</td>\n",
              "      <td>0.266839</td>\n",
              "      <td>0.538169</td>\n",
              "      <td>0.202432</td>\n",
              "      <td>-0.357259</td>\n",
              "      <td>-0.794549</td>\n",
              "      <td>0.554594</td>\n",
              "      <td>0.871751</td>\n",
              "      <td>0.518681</td>\n",
              "      <td>68.092636</td>\n",
              "      <td>82.0</td>\n",
              "      <td>0.0</td>\n",
              "      <td>75.1</td>\n",
              "      <td>0.0</td>\n",
              "      <td>0.0</td>\n",
              "      <td>-0.025</td>\n",
              "      <td>262147</td>\n",
              "    </tr>\n",
              "    <tr>\n",
              "      <th>4</th>\n",
              "      <td>46.0</td>\n",
              "      <td>95.0</td>\n",
              "      <td>65.0</td>\n",
              "      <td>20.0</td>\n",
              "      <td>5.0</td>\n",
              "      <td>93.0</td>\n",
              "      <td>124.0</td>\n",
              "      <td>36.388889</td>\n",
              "      <td>1.0</td>\n",
              "      <td>0.0</td>\n",
              "      <td>0.0</td>\n",
              "      <td>4.0</td>\n",
              "      <td>2.643402</td>\n",
              "      <td>-1.035373</td>\n",
              "      <td>0.226119</td>\n",
              "      <td>0.199762</td>\n",
              "      <td>0.582360</td>\n",
              "      <td>0.286389</td>\n",
              "      <td>-0.054658</td>\n",
              "      <td>0.476552</td>\n",
              "      <td>3.521104</td>\n",
              "      <td>0.664734</td>\n",
              "      <td>1.489631</td>\n",
              "      <td>0.661645</td>\n",
              "      <td>-0.696658</td>\n",
              "      <td>0.058330</td>\n",
              "      <td>-0.158973</td>\n",
              "      <td>-0.117952</td>\n",
              "      <td>0.737430</td>\n",
              "      <td>0.266839</td>\n",
              "      <td>0.538169</td>\n",
              "      <td>0.202432</td>\n",
              "      <td>-0.357259</td>\n",
              "      <td>-0.794549</td>\n",
              "      <td>0.609946</td>\n",
              "      <td>0.854549</td>\n",
              "      <td>0.534089</td>\n",
              "      <td>68.271576</td>\n",
              "      <td>82.0</td>\n",
              "      <td>0.0</td>\n",
              "      <td>75.1</td>\n",
              "      <td>0.0</td>\n",
              "      <td>0.0</td>\n",
              "      <td>-0.025</td>\n",
              "      <td>262147</td>\n",
              "    </tr>\n",
              "  </tbody>\n",
              "</table>\n",
              "</div>"
            ],
            "text/plain": [
              "    DBP     HR   MBP    RR  SOFA  ...  weight  Vaso  Fluids  Rewards     Pat\n",
              "0  46.0  118.0  62.0  26.0   0.0  ...    75.1   0.0     0.0   -0.250  262147\n",
              "1  41.0  111.0  58.0  23.0   2.0  ...    75.1   0.0     0.0   -0.375  262147\n",
              "2  44.0  108.0  62.0  19.0   5.0  ...    75.1   0.0     0.0   -0.025  262147\n",
              "3  41.0   96.0  60.0  20.0   5.0  ...    75.1   0.0     0.0   -0.025  262147\n",
              "4  46.0   95.0  65.0  20.0   5.0  ...    75.1   0.0     0.0   -0.025  262147\n",
              "\n",
              "[5 rows x 45 columns]"
            ]
          },
          "metadata": {
            "tags": []
          },
          "execution_count": 6
        }
      ]
    },
    {
      "cell_type": "code",
      "metadata": {
        "id": "yBHVqbJmqFZO",
        "outputId": "ef7ba9dc-fd68-40ab-b419-db161abbfbe3",
        "colab": {
          "base_uri": "https://localhost:8080/",
          "height": 297
        }
      },
      "source": [
        "df[df.Vaso>0][['Vaso']].describe()"
      ],
      "execution_count": null,
      "outputs": [
        {
          "output_type": "execute_result",
          "data": {
            "text/html": [
              "<div>\n",
              "<style scoped>\n",
              "    .dataframe tbody tr th:only-of-type {\n",
              "        vertical-align: middle;\n",
              "    }\n",
              "\n",
              "    .dataframe tbody tr th {\n",
              "        vertical-align: top;\n",
              "    }\n",
              "\n",
              "    .dataframe thead th {\n",
              "        text-align: right;\n",
              "    }\n",
              "</style>\n",
              "<table border=\"1\" class=\"dataframe\">\n",
              "  <thead>\n",
              "    <tr style=\"text-align: right;\">\n",
              "      <th></th>\n",
              "      <th>Vaso</th>\n",
              "    </tr>\n",
              "  </thead>\n",
              "  <tbody>\n",
              "    <tr>\n",
              "      <th>count</th>\n",
              "      <td>462884.000000</td>\n",
              "    </tr>\n",
              "    <tr>\n",
              "      <th>mean</th>\n",
              "      <td>0.278135</td>\n",
              "    </tr>\n",
              "    <tr>\n",
              "      <th>std</th>\n",
              "      <td>0.437714</td>\n",
              "    </tr>\n",
              "    <tr>\n",
              "      <th>min</th>\n",
              "      <td>0.000100</td>\n",
              "    </tr>\n",
              "    <tr>\n",
              "      <th>25%</th>\n",
              "      <td>0.051000</td>\n",
              "    </tr>\n",
              "    <tr>\n",
              "      <th>50%</th>\n",
              "      <td>0.160000</td>\n",
              "    </tr>\n",
              "    <tr>\n",
              "      <th>75%</th>\n",
              "      <td>0.324500</td>\n",
              "    </tr>\n",
              "    <tr>\n",
              "      <th>max</th>\n",
              "      <td>51.601000</td>\n",
              "    </tr>\n",
              "  </tbody>\n",
              "</table>\n",
              "</div>"
            ],
            "text/plain": [
              "                Vaso\n",
              "count  462884.000000\n",
              "mean        0.278135\n",
              "std         0.437714\n",
              "min         0.000100\n",
              "25%         0.051000\n",
              "50%         0.160000\n",
              "75%         0.324500\n",
              "max        51.601000"
            ]
          },
          "metadata": {
            "tags": []
          },
          "execution_count": 8
        }
      ]
    },
    {
      "cell_type": "code",
      "metadata": {
        "id": "KQhFU_lbqTLb",
        "outputId": "8d82c138-3ed9-421f-83e1-f1eecfcbe7ae",
        "colab": {
          "base_uri": "https://localhost:8080/",
          "height": 297
        }
      },
      "source": [
        "df[df.Fluids>0][['Fluids']].describe()"
      ],
      "execution_count": null,
      "outputs": [
        {
          "output_type": "execute_result",
          "data": {
            "text/html": [
              "<div>\n",
              "<style scoped>\n",
              "    .dataframe tbody tr th:only-of-type {\n",
              "        vertical-align: middle;\n",
              "    }\n",
              "\n",
              "    .dataframe tbody tr th {\n",
              "        vertical-align: top;\n",
              "    }\n",
              "\n",
              "    .dataframe thead th {\n",
              "        text-align: right;\n",
              "    }\n",
              "</style>\n",
              "<table border=\"1\" class=\"dataframe\">\n",
              "  <thead>\n",
              "    <tr style=\"text-align: right;\">\n",
              "      <th></th>\n",
              "      <th>Fluids</th>\n",
              "    </tr>\n",
              "  </thead>\n",
              "  <tbody>\n",
              "    <tr>\n",
              "      <th>count</th>\n",
              "      <td>1.245956e+06</td>\n",
              "    </tr>\n",
              "    <tr>\n",
              "      <th>mean</th>\n",
              "      <td>1.208356e+02</td>\n",
              "    </tr>\n",
              "    <tr>\n",
              "      <th>std</th>\n",
              "      <td>9.918970e+02</td>\n",
              "    </tr>\n",
              "    <tr>\n",
              "      <th>min</th>\n",
              "      <td>6.000000e-03</td>\n",
              "    </tr>\n",
              "    <tr>\n",
              "      <th>25%</th>\n",
              "      <td>1.000000e+01</td>\n",
              "    </tr>\n",
              "    <tr>\n",
              "      <th>50%</th>\n",
              "      <td>2.000000e+01</td>\n",
              "    </tr>\n",
              "    <tr>\n",
              "      <th>75%</th>\n",
              "      <td>9.990000e+01</td>\n",
              "    </tr>\n",
              "    <tr>\n",
              "      <th>max</th>\n",
              "      <td>1.000150e+06</td>\n",
              "    </tr>\n",
              "  </tbody>\n",
              "</table>\n",
              "</div>"
            ],
            "text/plain": [
              "             Fluids\n",
              "count  1.245956e+06\n",
              "mean   1.208356e+02\n",
              "std    9.918970e+02\n",
              "min    6.000000e-03\n",
              "25%    1.000000e+01\n",
              "50%    2.000000e+01\n",
              "75%    9.990000e+01\n",
              "max    1.000150e+06"
            ]
          },
          "metadata": {
            "tags": []
          },
          "execution_count": 9
        }
      ]
    },
    {
      "cell_type": "markdown",
      "metadata": {
        "id": "pf_sC6xCd_vp"
      },
      "source": [
        "## Discretizing Actions"
      ]
    },
    {
      "cell_type": "markdown",
      "metadata": {
        "id": "KJiGcaQmd53o"
      },
      "source": [
        "### Normalize some columns"
      ]
    },
    {
      "cell_type": "code",
      "metadata": {
        "id": "EmsSqvAMOjZB",
        "outputId": "63a8b467-14ba-45d8-b6d5-02eca041d0e1",
        "colab": {
          "base_uri": "https://localhost:8080/"
        }
      },
      "source": [
        "temp=df.describe()\n",
        "means=temp.loc['mean'].values\n",
        "stds=temp.loc['std'].values\n",
        "\n",
        "cols=[0,1,2,3,4,5,6,7,11,37,38,40]\n",
        "\n",
        "df.iloc[:,cols]=(df.iloc[:,cols]-means[cols])/stds[cols]\n",
        "print('Normalized')"
      ],
      "execution_count": null,
      "outputs": [
        {
          "output_type": "stream",
          "text": [
            "Normalized\n"
          ],
          "name": "stdout"
        }
      ]
    },
    {
      "cell_type": "code",
      "metadata": {
        "id": "Xox3_csmSNLL",
        "outputId": "18023e93-f9ae-400a-a2d7-3bac54a6a80e",
        "colab": {
          "base_uri": "https://localhost:8080/"
        }
      },
      "source": [
        "means"
      ],
      "execution_count": null,
      "outputs": [
        {
          "output_type": "execute_result",
          "data": {
            "text/plain": [
              "array([ 5.97680844e+01,  8.65268912e+01,  7.86168041e+01,  2.06791009e+01,\n",
              "        6.44170886e+00,  9.71415643e+01,  1.21511315e+02,  3.69600955e+01,\n",
              "        1.21276598e+00,  2.09433591e+00,  3.81532571e-01,  1.30679688e+00,\n",
              "       -1.32587129e-01,  2.47033868e-02,  3.43234954e-03,  1.89323164e-01,\n",
              "       -2.30669752e-02, -1.20075913e-01, -1.81488828e-01, -1.22392416e-02,\n",
              "       -6.37759038e-02,  1.61877502e-01,  1.45423881e-01,  1.12890419e-01,\n",
              "        9.76008341e-02,  1.35763436e-01, -4.07678096e-01,  1.81965244e-01,\n",
              "        1.58229578e-01, -5.26373330e-01, -5.83405959e-02,  1.75772221e-01,\n",
              "        8.53373985e-02, -4.23018796e-02,  8.08761724e-01,  1.23542296e+00,\n",
              "        6.42965810e-01,  6.87600413e+01,  6.53440726e+01,  5.84643249e-01,\n",
              "        8.37737428e+01,  4.95818074e-02,  5.78952733e+01,  6.22244670e-02,\n",
              "        2.50184230e+05])"
            ]
          },
          "metadata": {
            "tags": []
          },
          "execution_count": 8
        }
      ]
    },
    {
      "cell_type": "code",
      "metadata": {
        "id": "9ohBIa4pUK47",
        "outputId": "7c3156b4-777f-4c31-ede0-f2a95887971a",
        "colab": {
          "base_uri": "https://localhost:8080/"
        }
      },
      "source": [
        "stds"
      ],
      "execution_count": null,
      "outputs": [
        {
          "output_type": "execute_result",
          "data": {
            "text/plain": [
              "array([1.41127915e+01, 1.71324684e+01, 1.60435516e+01, 6.04456389e+00,\n",
              "       3.85008103e+00, 3.27706005e+00, 2.24704618e+01, 7.89101766e-01,\n",
              "       1.10273039e+00, 1.36031177e+00, 9.51707717e-01, 1.50444278e+00,\n",
              "       9.50887586e-01, 1.00413460e+00, 9.20852861e-01, 9.64146936e-01,\n",
              "       6.96247963e-01, 8.04110624e-01, 8.04816858e-01, 9.55594122e-01,\n",
              "       8.33892990e-01, 9.31975058e-01, 1.05610087e+00, 7.95282991e-01,\n",
              "       4.27973302e-01, 4.14742445e-01, 3.36382760e-01, 3.68723800e-01,\n",
              "       3.75602683e-01, 3.37196671e-01, 3.53584285e-01, 3.66109995e-01,\n",
              "       4.22208406e-01, 3.53814500e-01, 2.02588617e-01, 4.17686047e-01,\n",
              "       1.34842540e-01, 1.65489857e+00, 1.58998495e+01, 4.92783537e-01,\n",
              "       2.59243694e+01, 2.13275699e-01, 6.89739067e+02, 1.26622855e+00,\n",
              "       2.85776138e+04, 1.06566984e+00, 1.27930427e+00, 5.70986634e+00])"
            ]
          },
          "metadata": {
            "tags": []
          },
          "execution_count": 16
        }
      ]
    },
    {
      "cell_type": "code",
      "metadata": {
        "id": "LtZPzXi5dCxB",
        "outputId": "d1c417aa-e4d7-46b8-fb7f-0f5d0bafcd4b",
        "colab": {
          "base_uri": "https://localhost:8080/",
          "height": 224
        }
      },
      "source": [
        "df.head()"
      ],
      "execution_count": null,
      "outputs": [
        {
          "output_type": "execute_result",
          "data": {
            "text/html": [
              "<div>\n",
              "<style scoped>\n",
              "    .dataframe tbody tr th:only-of-type {\n",
              "        vertical-align: middle;\n",
              "    }\n",
              "\n",
              "    .dataframe tbody tr th {\n",
              "        vertical-align: top;\n",
              "    }\n",
              "\n",
              "    .dataframe thead th {\n",
              "        text-align: right;\n",
              "    }\n",
              "</style>\n",
              "<table border=\"1\" class=\"dataframe\">\n",
              "  <thead>\n",
              "    <tr style=\"text-align: right;\">\n",
              "      <th></th>\n",
              "      <th>DBP</th>\n",
              "      <th>HR</th>\n",
              "      <th>MBP</th>\n",
              "      <th>RR</th>\n",
              "      <th>SOFA</th>\n",
              "      <th>SpO2</th>\n",
              "      <th>SBP</th>\n",
              "      <th>TempC</th>\n",
              "      <th>cardio</th>\n",
              "      <th>cns</th>\n",
              "      <th>liver</th>\n",
              "      <th>renal</th>\n",
              "      <th>AG</th>\n",
              "      <th>BICARB</th>\n",
              "      <th>CREAT</th>\n",
              "      <th>CL</th>\n",
              "      <th>GLUC</th>\n",
              "      <th>HCT</th>\n",
              "      <th>HB</th>\n",
              "      <th>PLAT</th>\n",
              "      <th>K</th>\n",
              "      <th>Na</th>\n",
              "      <th>BUN</th>\n",
              "      <th>WBC</th>\n",
              "      <th>l_1</th>\n",
              "      <th>l_2</th>\n",
              "      <th>l_3</th>\n",
              "      <th>l_4</th>\n",
              "      <th>l_5</th>\n",
              "      <th>l_6</th>\n",
              "      <th>l_7</th>\n",
              "      <th>l_8</th>\n",
              "      <th>l_9</th>\n",
              "      <th>l_10</th>\n",
              "      <th>R</th>\n",
              "      <th>C</th>\n",
              "      <th>T</th>\n",
              "      <th>SV</th>\n",
              "      <th>age</th>\n",
              "      <th>M/F</th>\n",
              "      <th>weight</th>\n",
              "      <th>Vaso</th>\n",
              "      <th>Fluids</th>\n",
              "      <th>Rewards</th>\n",
              "      <th>Pat</th>\n",
              "    </tr>\n",
              "  </thead>\n",
              "  <tbody>\n",
              "    <tr>\n",
              "      <th>0</th>\n",
              "      <td>-0.975575</td>\n",
              "      <td>1.837045</td>\n",
              "      <td>-1.035731</td>\n",
              "      <td>0.880278</td>\n",
              "      <td>-1.673136</td>\n",
              "      <td>-0.958653</td>\n",
              "      <td>-0.556789</td>\n",
              "      <td>-0.723869</td>\n",
              "      <td>0.0</td>\n",
              "      <td>0.0</td>\n",
              "      <td>0.0</td>\n",
              "      <td>-0.868625</td>\n",
              "      <td>1.354087</td>\n",
              "      <td>-0.050696</td>\n",
              "      <td>0.226119</td>\n",
              "      <td>-0.273616</td>\n",
              "      <td>1.664569</td>\n",
              "      <td>0.619855</td>\n",
              "      <td>0.522458</td>\n",
              "      <td>0.450940</td>\n",
              "      <td>2.129651</td>\n",
              "      <td>0.279296</td>\n",
              "      <td>1.282761</td>\n",
              "      <td>-0.258103</td>\n",
              "      <td>-0.462474</td>\n",
              "      <td>-0.086368</td>\n",
              "      <td>0.014108</td>\n",
              "      <td>-0.474435</td>\n",
              "      <td>0.625043</td>\n",
              "      <td>0.389752</td>\n",
              "      <td>0.630310</td>\n",
              "      <td>0.071789</td>\n",
              "      <td>-0.213654</td>\n",
              "      <td>-0.500278</td>\n",
              "      <td>0.463221</td>\n",
              "      <td>1.030419</td>\n",
              "      <td>0.419510</td>\n",
              "      <td>-1.858045</td>\n",
              "      <td>1.047553</td>\n",
              "      <td>0.0</td>\n",
              "      <td>-0.334579</td>\n",
              "      <td>0.0</td>\n",
              "      <td>0.0</td>\n",
              "      <td>-0.250</td>\n",
              "      <td>262147</td>\n",
              "    </tr>\n",
              "    <tr>\n",
              "      <th>1</th>\n",
              "      <td>-1.329863</td>\n",
              "      <td>1.428464</td>\n",
              "      <td>-1.285052</td>\n",
              "      <td>0.383965</td>\n",
              "      <td>-1.153666</td>\n",
              "      <td>-0.653502</td>\n",
              "      <td>-0.556789</td>\n",
              "      <td>-0.723869</td>\n",
              "      <td>1.0</td>\n",
              "      <td>0.0</td>\n",
              "      <td>0.0</td>\n",
              "      <td>-0.203927</td>\n",
              "      <td>1.354087</td>\n",
              "      <td>-0.050696</td>\n",
              "      <td>0.226119</td>\n",
              "      <td>-0.273616</td>\n",
              "      <td>1.664569</td>\n",
              "      <td>0.619855</td>\n",
              "      <td>0.522458</td>\n",
              "      <td>0.450940</td>\n",
              "      <td>2.129651</td>\n",
              "      <td>0.279296</td>\n",
              "      <td>1.282761</td>\n",
              "      <td>-0.258103</td>\n",
              "      <td>-0.462474</td>\n",
              "      <td>-0.086368</td>\n",
              "      <td>0.014108</td>\n",
              "      <td>-0.474435</td>\n",
              "      <td>0.625043</td>\n",
              "      <td>0.389752</td>\n",
              "      <td>0.630310</td>\n",
              "      <td>0.071789</td>\n",
              "      <td>-0.213654</td>\n",
              "      <td>-0.500278</td>\n",
              "      <td>0.461611</td>\n",
              "      <td>0.946364</td>\n",
              "      <td>0.446352</td>\n",
              "      <td>-1.324097</td>\n",
              "      <td>1.047553</td>\n",
              "      <td>0.0</td>\n",
              "      <td>-0.334579</td>\n",
              "      <td>0.0</td>\n",
              "      <td>0.0</td>\n",
              "      <td>-0.375</td>\n",
              "      <td>262147</td>\n",
              "    </tr>\n",
              "    <tr>\n",
              "      <th>2</th>\n",
              "      <td>-1.117290</td>\n",
              "      <td>1.253358</td>\n",
              "      <td>-1.035731</td>\n",
              "      <td>-0.277787</td>\n",
              "      <td>-0.374462</td>\n",
              "      <td>0.261953</td>\n",
              "      <td>-0.156264</td>\n",
              "      <td>-0.723869</td>\n",
              "      <td>1.0</td>\n",
              "      <td>0.0</td>\n",
              "      <td>0.0</td>\n",
              "      <td>1.790167</td>\n",
              "      <td>2.643402</td>\n",
              "      <td>-1.035373</td>\n",
              "      <td>0.226119</td>\n",
              "      <td>0.199762</td>\n",
              "      <td>0.582360</td>\n",
              "      <td>0.286389</td>\n",
              "      <td>-0.054658</td>\n",
              "      <td>0.476552</td>\n",
              "      <td>3.521104</td>\n",
              "      <td>0.664734</td>\n",
              "      <td>1.489631</td>\n",
              "      <td>0.661645</td>\n",
              "      <td>-0.696658</td>\n",
              "      <td>0.058330</td>\n",
              "      <td>-0.158973</td>\n",
              "      <td>-0.117952</td>\n",
              "      <td>0.737430</td>\n",
              "      <td>0.266839</td>\n",
              "      <td>0.538169</td>\n",
              "      <td>0.202432</td>\n",
              "      <td>-0.357259</td>\n",
              "      <td>-0.794549</td>\n",
              "      <td>0.509343</td>\n",
              "      <td>0.863491</td>\n",
              "      <td>0.458074</td>\n",
              "      <td>-1.098627</td>\n",
              "      <td>1.047553</td>\n",
              "      <td>0.0</td>\n",
              "      <td>-0.334579</td>\n",
              "      <td>0.0</td>\n",
              "      <td>0.0</td>\n",
              "      <td>-0.025</td>\n",
              "      <td>262147</td>\n",
              "    </tr>\n",
              "    <tr>\n",
              "      <th>3</th>\n",
              "      <td>-1.329863</td>\n",
              "      <td>0.552933</td>\n",
              "      <td>-1.160392</td>\n",
              "      <td>-0.112349</td>\n",
              "      <td>-0.374462</td>\n",
              "      <td>-0.348350</td>\n",
              "      <td>-0.156264</td>\n",
              "      <td>-0.723869</td>\n",
              "      <td>1.0</td>\n",
              "      <td>0.0</td>\n",
              "      <td>0.0</td>\n",
              "      <td>1.790167</td>\n",
              "      <td>2.643402</td>\n",
              "      <td>-1.035373</td>\n",
              "      <td>0.226119</td>\n",
              "      <td>0.199762</td>\n",
              "      <td>0.582360</td>\n",
              "      <td>0.286389</td>\n",
              "      <td>-0.054658</td>\n",
              "      <td>0.476552</td>\n",
              "      <td>3.521104</td>\n",
              "      <td>0.664734</td>\n",
              "      <td>1.489631</td>\n",
              "      <td>0.661645</td>\n",
              "      <td>-0.696658</td>\n",
              "      <td>0.058330</td>\n",
              "      <td>-0.158973</td>\n",
              "      <td>-0.117952</td>\n",
              "      <td>0.737430</td>\n",
              "      <td>0.266839</td>\n",
              "      <td>0.538169</td>\n",
              "      <td>0.202432</td>\n",
              "      <td>-0.357259</td>\n",
              "      <td>-0.794549</td>\n",
              "      <td>0.554594</td>\n",
              "      <td>0.871751</td>\n",
              "      <td>0.518681</td>\n",
              "      <td>-0.403291</td>\n",
              "      <td>1.047553</td>\n",
              "      <td>0.0</td>\n",
              "      <td>-0.334579</td>\n",
              "      <td>0.0</td>\n",
              "      <td>0.0</td>\n",
              "      <td>-0.025</td>\n",
              "      <td>262147</td>\n",
              "    </tr>\n",
              "    <tr>\n",
              "      <th>4</th>\n",
              "      <td>-0.975575</td>\n",
              "      <td>0.494564</td>\n",
              "      <td>-0.848740</td>\n",
              "      <td>-0.112349</td>\n",
              "      <td>-0.374462</td>\n",
              "      <td>-1.263805</td>\n",
              "      <td>0.110754</td>\n",
              "      <td>-0.723869</td>\n",
              "      <td>1.0</td>\n",
              "      <td>0.0</td>\n",
              "      <td>0.0</td>\n",
              "      <td>1.790167</td>\n",
              "      <td>2.643402</td>\n",
              "      <td>-1.035373</td>\n",
              "      <td>0.226119</td>\n",
              "      <td>0.199762</td>\n",
              "      <td>0.582360</td>\n",
              "      <td>0.286389</td>\n",
              "      <td>-0.054658</td>\n",
              "      <td>0.476552</td>\n",
              "      <td>3.521104</td>\n",
              "      <td>0.664734</td>\n",
              "      <td>1.489631</td>\n",
              "      <td>0.661645</td>\n",
              "      <td>-0.696658</td>\n",
              "      <td>0.058330</td>\n",
              "      <td>-0.158973</td>\n",
              "      <td>-0.117952</td>\n",
              "      <td>0.737430</td>\n",
              "      <td>0.266839</td>\n",
              "      <td>0.538169</td>\n",
              "      <td>0.202432</td>\n",
              "      <td>-0.357259</td>\n",
              "      <td>-0.794549</td>\n",
              "      <td>0.609946</td>\n",
              "      <td>0.854549</td>\n",
              "      <td>0.534089</td>\n",
              "      <td>-0.295163</td>\n",
              "      <td>1.047553</td>\n",
              "      <td>0.0</td>\n",
              "      <td>-0.334579</td>\n",
              "      <td>0.0</td>\n",
              "      <td>0.0</td>\n",
              "      <td>-0.025</td>\n",
              "      <td>262147</td>\n",
              "    </tr>\n",
              "  </tbody>\n",
              "</table>\n",
              "</div>"
            ],
            "text/plain": [
              "        DBP        HR       MBP        RR  ...  Vaso  Fluids  Rewards     Pat\n",
              "0 -0.975575  1.837045 -1.035731  0.880278  ...   0.0     0.0   -0.250  262147\n",
              "1 -1.329863  1.428464 -1.285052  0.383965  ...   0.0     0.0   -0.375  262147\n",
              "2 -1.117290  1.253358 -1.035731 -0.277787  ...   0.0     0.0   -0.025  262147\n",
              "3 -1.329863  0.552933 -1.160392 -0.112349  ...   0.0     0.0   -0.025  262147\n",
              "4 -0.975575  0.494564 -0.848740 -0.112349  ...   0.0     0.0   -0.025  262147\n",
              "\n",
              "[5 rows x 45 columns]"
            ]
          },
          "metadata": {
            "tags": []
          },
          "execution_count": 9
        }
      ]
    },
    {
      "cell_type": "code",
      "metadata": {
        "id": "TdoIDBwWF7TB"
      },
      "source": [
        "def get_actions(df):\n",
        "  df['Fluids']=df['Fluids'].apply(lambda x:max(x,0))\n",
        "  Vaso_cuts,vaso_bins=pd.cut(df['Vaso'],bins=[-1e-6,1e-8/2,0.15,np.inf],labels=False,retbins=True)\n",
        "\n",
        "  df['Vaso_cuts']=Vaso_cuts.values\n",
        "  Fluids_cuts,fluid_bins=pd.cut(df['Fluids'],bins=[-1e-6,6.000000e-03/2,5.000000e+01,np.inf],labels=False,retbins=True)\n",
        "\n",
        "  df['Fluid_cuts']=Fluids_cuts.values\n",
        "  df['Fluid_cuts'].value_counts(normalize=True),df['Vaso_cuts'].value_counts(normalize=True)\n",
        "\n",
        "  all_acts=np.arange(9).reshape(3,3)\n",
        "\n",
        "\n",
        "  df['action']=all_acts[df.Vaso_cuts,df.Fluid_cuts]\n",
        "\n",
        "\n",
        "get_actions(df)"
      ],
      "execution_count": null,
      "outputs": []
    },
    {
      "cell_type": "markdown",
      "metadata": {
        "id": "3b6qwNc6xPyU"
      },
      "source": [
        "### Data set class for Discrete RL"
      ]
    },
    {
      "cell_type": "code",
      "metadata": {
        "id": "QjhgYgWxs3jt"
      },
      "source": [
        "class Discrete_RL_dataset(Dataset):\n",
        "  \"\"\"\n",
        "   Need the df Ready and scaled\n",
        "   Normalization is Done before\n",
        "\n",
        "  \"\"\"\n",
        "\n",
        "  def __init__(self,scale_rewards=False,df=df):\n",
        "    self.scale_rewards=scale_rewards\n",
        "    self.df=df\n",
        "\n",
        "  def __len__(self):\n",
        "    return df.shape[0]\n",
        "\n",
        "  def __getitem__(self,idx):\n",
        "    \n",
        "    temp=self.df.iloc[idx,:]\n",
        "    # Rewards is always +- 15 at the terminal step and \n",
        "    done=int(np.abs(temp['Rewards'])==15)\n",
        "    states=torch.FloatTensor(temp.iloc[:41].values).to(device)\n",
        "    \n",
        "    assert states.shape==(41,)\n",
        "    if done:\n",
        "      next_states=torch.zeros_like(states).to(device)\n",
        "    \n",
        "    else:\n",
        "      next_states=torch.FloatTensor(self.df.iloc[idx+1,:].values[:41]).to(device)\n",
        "\n",
        "    assert next_states.shape==(41,)\n",
        "\n",
        "    reward=temp['Rewards']\n",
        "    \n",
        "    if self.scale_rewards:\n",
        "      reward=(rewards-2.313230e-02)/9.304778e-01\n",
        "    \n",
        "    action=int(temp.action)\n",
        "\n",
        "    # assert actions.shape==(2,)\n",
        "\n",
        "    return states,next_states,action,reward,done\n",
        "\n",
        "ds=Discrete_RL_dataset()\n",
        "loader=DataLoader(ds,batch_size=64*2,shuffle=True)    "
      ],
      "execution_count": null,
      "outputs": []
    },
    {
      "cell_type": "markdown",
      "metadata": {
        "id": "Tr4cPHyF4ek3"
      },
      "source": [
        "##### Weighted Loader"
      ]
    },
    {
      "cell_type": "code",
      "metadata": {
        "id": "eNvZSvkpsoqr"
      },
      "source": [
        "def weight_func(x):\n",
        "  if x==-15:\n",
        "    return 80\n",
        "\n",
        "  if x==15:\n",
        "     return 5\n",
        "  \n",
        "  return 2\n",
        "\n",
        "\n",
        "\n",
        "weights1=df['Rewards'].copy()\n",
        "weights1=weights1.apply(weight_func)\n",
        "\n",
        "\n",
        "\n",
        "weights2=df['Rewards'].iloc[1:].copy()\n",
        "weights2=weights2.apply(lambda x: 5 if np.abs(x)==15 else 2)\n",
        "weights2=np.hstack([np.abs(weights2).values ,np.array([10])])\n",
        "\n",
        "\n",
        "\n",
        "weights3=df['Rewards'].iloc[5:].copy()\n",
        "weights3=weights3.apply(lambda x: 5 if np.abs(x)==15 else 2)\n",
        "weights3=np.hstack([np.abs(weights3).values ,np.array([2]*5)])\n",
        "\n",
        "weights=weights1+weights2+weights3\n",
        "\n",
        "sampler = torch.utils.data.sampler.WeightedRandomSampler(torch.DoubleTensor(weights),num_samples=len(weights))\n",
        "new_loader =DataLoader(ds, batch_size=100,sampler=sampler)\n"
      ],
      "execution_count": null,
      "outputs": []
    },
    {
      "cell_type": "markdown",
      "metadata": {
        "id": "myvjb-Z8V64N"
      },
      "source": [
        "## Distributional"
      ]
    },
    {
      "cell_type": "code",
      "metadata": {
        "id": "pFiFKD0SV9EE"
      },
      "source": [
        "\n",
        "class DistributionalDQN(nn.Module):\n",
        "    def __init__(self, state_dim, n_actions, N_ATOMS):\n",
        "        super(DistributionalDQN, self).__init__()\n",
        "\n",
        "        self.input_layer=nn.Linear(state_dim,512)\n",
        "        self.n_atoms=N_ATOMS\n",
        "        self.hiddens=nn.ModuleList([ nn.Sequential(\n",
        "            nn.Linear(512, 512),\n",
        "            nn.ReLU()) for _ in range(5) ])\n",
        "        \n",
        "       \n",
        "        self.out=nn.Linear(512, n_actions * N_ATOMS)\n",
        "       \n",
        "  \n",
        "\n",
        "    def forward(self, state):\n",
        "        batch_size =state.size()[0]\n",
        "        out=self.input_layer(state)\n",
        "\n",
        "        for layer in self.hiddens:\n",
        "          out=layer(out)\n",
        "        \n",
        "        out=self.out(out)\n",
        "        \n",
        "        return F.softmax(out.view(batch_size, -1, self.n_atoms),dim=2),F.log_softmax(out.view(batch_size, -1,self.n_atoms), dim = -1)\n"
      ],
      "execution_count": null,
      "outputs": []
    },
    {
      "cell_type": "code",
      "metadata": {
        "id": "ZfyxFkkqtBlu"
      },
      "source": [
        "class dist_DQN(object):\n",
        "  def __init__(self,\n",
        "               num_actions=9,\n",
        "               state_dim=41,\n",
        "               v_max=20,\n",
        "               v_min=-20,\n",
        "               device='cpu',\n",
        "               gamma=0.999,\n",
        "               tau=0.005,\n",
        "               n_atoms=51\n",
        "               ):\n",
        "    self.device=device\n",
        "    self.Q =DistributionalDQN(state_dim, num_actions,n_atoms).to(self.device)\n",
        "    self.Q_target=copy.deepcopy(self.Q)\n",
        "    self.optimizer=torch.optim.Adam(self.Q.parameters(),lr=1e-5)\n",
        "\n",
        "    self.tau = tau\n",
        "    self.gamma=gamma\n",
        "    self.v_min=v_min\n",
        "    self.v_max=v_max\n",
        "\n",
        "    self.num_actions = num_actions\n",
        "    self.atoms=n_atoms\n",
        "    self.supports = torch.linspace(self.v_min, self.v_max, self.atoms).view(1, 1, self.atoms).to(self.device)\n",
        "    self.delta = (self.v_max - self.v_min) / (self.atoms - 1)\n",
        "\n",
        "\n",
        "\n",
        "  def train_epoch(self,data_loader,it=0):\n",
        "\n",
        "    sum_q_loss=0\n",
        "    for i,(state,next_state,action,reward,done) in enumerate(data_loader):\n",
        "\n",
        "      batch_size=state.shape[0]\n",
        "      action=torch.LongTensor(action.reshape(batch_size,1)).to(device)\n",
        "      reward=torch.FloatTensor(reward.reshape(batch_size,1).cpu().numpy()).to(device)\n",
        "      done=done.reshape(batch_size,1).to(device)\n",
        "\n",
        "      batch=(state,next_state,action,reward,done)\n",
        "      loss=self.compute_loss(batch)\n",
        "      # print(loss.item())\n",
        "      sum_q_loss+=loss.item()\n",
        "       \n",
        "\t    \n",
        "      if i%25==0:\n",
        "        print('Epoch :',it,'Batch :', i,'Average Loss :',sum_q_loss/(i+1))\n",
        "\n",
        "\n",
        "      self.optimizer.zero_grad()\n",
        "      loss.backward()\n",
        "\n",
        "      self.optimizer.step()\n",
        "      self.polyak_target_update()\n",
        "\n",
        "\n",
        "  def polyak_target_update(self):\n",
        "     for param, target_param in zip(self.Q.parameters(), self.Q_target.parameters()):\n",
        "        target_param.data.copy_(self.tau * param.data + (1 - self.tau) * target_param.data)\n",
        "\n",
        "\n",
        "  def compute_loss(self,batch):\n",
        "\n",
        "     state,next_state,action,reward,done=batch  \n",
        "     batch_size=state.shape[0]\n",
        "     range_batch = torch.arange(batch_size).long().to(device)\n",
        "     action = action.long()\n",
        "\n",
        "     z_dist = torch.from_numpy(np.array([[self.v_min + i*self.delta for i in range(self.atoms)]]*batch_size)).to(device)\n",
        "     z_dist = torch.unsqueeze(z_dist, 2).float() \n",
        "\n",
        "     _, log_Q_dist_prediction = self.Q(state)\n",
        "     log_Q_dist_prediction = log_Q_dist_prediction[range_batch, action.squeeze(1), :]\n",
        "\n",
        "     with torch.no_grad():\n",
        "        Q_dist_target, _ = self.Q_target(next_state)\n",
        " \n",
        "     Q_target = torch.matmul(Q_dist_target, z_dist).squeeze(1)\n",
        "     a_star = torch.argmax(Q_target, dim=1)\n",
        "     Q_dist_star = Q_dist_target[range_batch, a_star.squeeze(1),:]\n",
        "\n",
        "     m = torch.zeros(batch_size,self.atoms).to(device)\n",
        "\n",
        "     for j in range(self.atoms):\n",
        "         T_zj = torch.clamp(reward + self.gamma * (1-done) * (self.v_min + j*self.delta), min = self.v_min, max = self.v_max)\n",
        "            \n",
        "         bj = (T_zj - self.v_min)/self.delta\n",
        "         l = bj.floor().long()\n",
        "         u = bj.ceil().long()\n",
        "\n",
        "         mask_Q_l = torch.zeros(m.size()).to(device)\n",
        "         mask_Q_l.scatter_(1, l, Q_dist_star[:,j].unsqueeze(1))\n",
        "            \n",
        "         mask_Q_u = torch.zeros(m.size()).to(device)\n",
        "         mask_Q_u.scatter_(1, u, Q_dist_star[:,j].unsqueeze(1))\n",
        "         m += mask_Q_l*(u.float() + (l == u).float()-bj.float())\n",
        "         m += mask_Q_u*(-l.float()+bj.float())\n",
        "\n",
        "     loss = - torch.sum(torch.sum(torch.mul(log_Q_dist_prediction, m),-1),-1) / batch_size\n",
        "     return loss\n",
        "\n",
        "\n",
        "  def get_action(self,state):\n",
        "     with torch.no_grad():\n",
        "      batch_size=state.shape[0]\n",
        "\n",
        "      z_dist = torch.from_numpy(np.array([[self.v_min + i*self.delta for i in range(self.atoms)]]*batch_size)).to(device)\n",
        "      z_dist = torch.unsqueeze(z_dist, 2).float()\n",
        "\n",
        "      Q_dist, _ = self.Q(state)\n",
        " \n",
        "      Q_exp = torch.matmul(Q_dist, z_dist).squeeze(1)\n",
        "      a_star = torch.argmax(Q_exp, dim=1)\n",
        "\n",
        "      return a_star\n",
        "\n"
      ],
      "execution_count": null,
      "outputs": []
    },
    {
      "cell_type": "code",
      "metadata": {
        "id": "2vIQtD1Ky1R9",
        "outputId": "969b2efd-76d8-4cce-95bc-c32dfbdef15a",
        "colab": {
          "base_uri": "https://localhost:8080/"
        }
      },
      "source": [
        "model=dist_DQN(v_min=-18,v_max=18)\n",
        "checkpoint=torch.load('dist_noW11.pt')\n",
        "model.Q.load_state_dict(checkpoint['Q_state_dict'])\n",
        "model.Q_target.load_state_dict(checkpoint['Q_target_state_dict'])\n",
        "\n"
      ],
      "execution_count": null,
      "outputs": [
        {
          "output_type": "execute_result",
          "data": {
            "text/plain": [
              "<All keys matched successfully>"
            ]
          },
          "metadata": {
            "tags": []
          },
          "execution_count": 15
        }
      ]
    },
    {
      "cell_type": "code",
      "metadata": {
        "id": "Z0hlsSfFAdPq",
        "outputId": "da127a13-88a5-4e73-9f6b-4ccc1be15067",
        "colab": {
          "base_uri": "https://localhost:8080/"
        }
      },
      "source": [
        "cd dBCQ/scratch_NOV/dist"
      ],
      "execution_count": null,
      "outputs": [
        {
          "output_type": "stream",
          "text": [
            "/content/drive/.shortcut-targets-by-id/1Dn0AjHyN50Kv8tcF0f2bQsdPbRYa_49h/sepsis3-cohort/dBCQ/scratch_NOV/dist\n"
          ],
          "name": "stdout"
        }
      ]
    },
    {
      "cell_type": "code",
      "metadata": {
        "id": "_C93AHohBIRj"
      },
      "source": [
        "model.optimizer.lr=1e-7"
      ],
      "execution_count": null,
      "outputs": []
    },
    {
      "cell_type": "code",
      "metadata": {
        "id": "3kOUgjP5FsuW"
      },
      "source": [
        "loader=DataLoader(ds,batch_size=100,shuffle=True)\n",
        "\n",
        "for it in range(14,100):\n",
        "  model.train_epoch(loader,it)\n",
        "  torch.save({\n",
        "            'Q_state_dict': model.Q.state_dict(),\n",
        "             'Q_target_state_dict': model.Q_target.state_dict(),\n",
        "            \n",
        "                \n",
        "            },'dist_noW{}.pt'.format(it))"
      ],
      "execution_count": null,
      "outputs": []
    },
    {
      "cell_type": "code",
      "metadata": {
        "id": "352KquhkAWER"
      },
      "source": [
        "loader=DataLoader(ds,batch_size=256,shuffle=False)"
      ],
      "execution_count": null,
      "outputs": []
    },
    {
      "cell_type": "code",
      "metadata": {
        "id": "7tq0NBpVEqI-"
      },
      "source": [
        "def get_RLactions(model,loader):\n",
        "    actions=[]\n",
        "    for i,batch in enumerate(loader):\n",
        "      state=batch[0]\n",
        "      a_star=model.get_action(state)\n",
        "      actions.append(a_star)\n",
        "      print((i/len(loader)), 'Done')\n",
        "\n",
        "    acts=[x.squeeze(1) for x in actions]\n",
        "    return np.hstack(acts)"
      ],
      "execution_count": null,
      "outputs": []
    },
    {
      "cell_type": "code",
      "metadata": {
        "id": "s-SnzQmsMX_A"
      },
      "source": [
        "acts=[x.squeeze(1) for x in actions]"
      ],
      "execution_count": null,
      "outputs": []
    },
    {
      "cell_type": "code",
      "metadata": {
        "id": "-zsyPMntGpCs"
      },
      "source": [
        "dBCQ_actions=np.hstack(acts)\n",
        "df['dist_acts']=dBCQ_actions\n",
        "pd.Series(dBCQ_actions).value_counts(normalize=True)"
      ],
      "execution_count": null,
      "outputs": []
    },
    {
      "cell_type": "code",
      "metadata": {
        "id": "AftRh2_6Ha5l"
      },
      "source": [
        "all_acts=np.arange(9).reshape(3,3)"
      ],
      "execution_count": null,
      "outputs": []
    },
    {
      "cell_type": "code",
      "metadata": {
        "id": "iMNZEIEnHVy_"
      },
      "source": [
        "acts1=df['dist_acts'].apply(lambda x:np.argwhere(all_acts==x))\n",
        "acts1=np.vstack([x for x in acts1.values])\n",
        "# acts_df['dist_Vaso_2']=acts1[:,0]\n",
        "# acts_df['dist_Fluids_2']=acts1[:,1]"
      ],
      "execution_count": null,
      "outputs": []
    },
    {
      "cell_type": "code",
      "metadata": {
        "id": "aUnkRJNpMt-8"
      },
      "source": [
        "acts_df=df[['Fluid_cuts','Vaso_cuts','dist_Vaso','dist_Fluids']]"
      ],
      "execution_count": null,
      "outputs": []
    },
    {
      "cell_type": "code",
      "metadata": {
        "id": "H3HkOVqf2ojS"
      },
      "source": [
        "act_df=pd.read_csv('actions.csv')"
      ],
      "execution_count": null,
      "outputs": []
    },
    {
      "cell_type": "code",
      "metadata": {
        "id": "VfLfOe2ZNDlq"
      },
      "source": [
        "# act_df.to_csv('actions.csv')"
      ],
      "execution_count": null,
      "outputs": []
    },
    {
      "cell_type": "code",
      "metadata": {
        "id": "siRQw069S6cK"
      },
      "source": [
        "df2=pd.read_csv('Bootstrap_actions.csv')"
      ],
      "execution_count": null,
      "outputs": []
    },
    {
      "cell_type": "code",
      "metadata": {
        "id": "FQ5TlSaMkIlw",
        "outputId": "3f2a605d-4b24-4d6b-dd16-8454a0940a7c",
        "colab": {
          "base_uri": "https://localhost:8080/",
          "height": 204
        }
      },
      "source": [
        "df2.head()"
      ],
      "execution_count": null,
      "outputs": [
        {
          "output_type": "execute_result",
          "data": {
            "text/html": [
              "<div>\n",
              "<style scoped>\n",
              "    .dataframe tbody tr th:only-of-type {\n",
              "        vertical-align: middle;\n",
              "    }\n",
              "\n",
              "    .dataframe tbody tr th {\n",
              "        vertical-align: top;\n",
              "    }\n",
              "\n",
              "    .dataframe thead th {\n",
              "        text-align: right;\n",
              "    }\n",
              "</style>\n",
              "<table border=\"1\" class=\"dataframe\">\n",
              "  <thead>\n",
              "    <tr style=\"text-align: right;\">\n",
              "      <th></th>\n",
              "      <th>action</th>\n",
              "      <th>('Act_boot_{}', '0')</th>\n",
              "      <th>Act_boot_1</th>\n",
              "      <th>Act_boot_2</th>\n",
              "      <th>Act_boot_3</th>\n",
              "      <th>noW_1</th>\n",
              "      <th>noW_2</th>\n",
              "      <th>noW_3</th>\n",
              "      <th>noW_4</th>\n",
              "      <th>Act_boot_23</th>\n",
              "    </tr>\n",
              "  </thead>\n",
              "  <tbody>\n",
              "    <tr>\n",
              "      <th>0</th>\n",
              "      <td>0</td>\n",
              "      <td>2</td>\n",
              "      <td>1</td>\n",
              "      <td>2</td>\n",
              "      <td>2</td>\n",
              "      <td>2</td>\n",
              "      <td>2</td>\n",
              "      <td>2</td>\n",
              "      <td>1</td>\n",
              "      <td>2</td>\n",
              "    </tr>\n",
              "    <tr>\n",
              "      <th>1</th>\n",
              "      <td>0</td>\n",
              "      <td>2</td>\n",
              "      <td>1</td>\n",
              "      <td>1</td>\n",
              "      <td>2</td>\n",
              "      <td>2</td>\n",
              "      <td>2</td>\n",
              "      <td>1</td>\n",
              "      <td>0</td>\n",
              "      <td>2</td>\n",
              "    </tr>\n",
              "    <tr>\n",
              "      <th>2</th>\n",
              "      <td>0</td>\n",
              "      <td>0</td>\n",
              "      <td>1</td>\n",
              "      <td>1</td>\n",
              "      <td>0</td>\n",
              "      <td>2</td>\n",
              "      <td>2</td>\n",
              "      <td>2</td>\n",
              "      <td>0</td>\n",
              "      <td>2</td>\n",
              "    </tr>\n",
              "    <tr>\n",
              "      <th>3</th>\n",
              "      <td>0</td>\n",
              "      <td>0</td>\n",
              "      <td>1</td>\n",
              "      <td>1</td>\n",
              "      <td>2</td>\n",
              "      <td>2</td>\n",
              "      <td>2</td>\n",
              "      <td>2</td>\n",
              "      <td>0</td>\n",
              "      <td>2</td>\n",
              "    </tr>\n",
              "    <tr>\n",
              "      <th>4</th>\n",
              "      <td>0</td>\n",
              "      <td>0</td>\n",
              "      <td>1</td>\n",
              "      <td>1</td>\n",
              "      <td>2</td>\n",
              "      <td>2</td>\n",
              "      <td>2</td>\n",
              "      <td>2</td>\n",
              "      <td>0</td>\n",
              "      <td>2</td>\n",
              "    </tr>\n",
              "  </tbody>\n",
              "</table>\n",
              "</div>"
            ],
            "text/plain": [
              "   action  ('Act_boot_{}', '0')  Act_boot_1  ...  noW_3  noW_4  Act_boot_23\n",
              "0       0                     2           1  ...      2      1            2\n",
              "1       0                     2           1  ...      1      0            2\n",
              "2       0                     0           1  ...      2      0            2\n",
              "3       0                     0           1  ...      2      0            2\n",
              "4       0                     0           1  ...      2      0            2\n",
              "\n",
              "[5 rows x 10 columns]"
            ]
          },
          "metadata": {
            "tags": []
          },
          "execution_count": 6
        }
      ]
    },
    {
      "cell_type": "markdown",
      "metadata": {
        "id": "VtoaudSCfaaB"
      },
      "source": [
        "### Checking Bootstrapped Actions"
      ]
    },
    {
      "cell_type": "code",
      "metadata": {
        "id": "L2PFyTLAffYE"
      },
      "source": [
        "def load_model(model,PATH):\n",
        "  checkpoint=torch.load(PATH)\n",
        "  model.Q.load_state_dict(checkpoint['Q_state_dict'])"
      ],
      "execution_count": null,
      "outputs": []
    },
    {
      "cell_type": "code",
      "metadata": {
        "id": "Evt19nzDf_aj"
      },
      "source": [
        "def get_RLactions(model,loader,k=0):\n",
        "    actions=[]\n",
        "    for i,batch in enumerate(loader):\n",
        "      state=batch[0]\n",
        "      a_star=model.get_action(state)\n",
        "      \n",
        "      actions.append(a_star)\n",
        "      print(k,' ',(i/len(loader)), 'Done')\n",
        "\n",
        "    acts=[x.squeeze(1) for x in actions]\n",
        "    return np.hstack(acts)"
      ],
      "execution_count": null,
      "outputs": []
    },
    {
      "cell_type": "code",
      "metadata": {
        "id": "qo7x7Yb2QDW3"
      },
      "source": [
        "ls"
      ],
      "execution_count": null,
      "outputs": []
    },
    {
      "cell_type": "code",
      "metadata": {
        "id": "ae5JP3G1gtb4"
      },
      "source": [
        "# df2=df[['action']]"
      ],
      "execution_count": null,
      "outputs": []
    },
    {
      "cell_type": "code",
      "metadata": {
        "id": "JSwReC3QgEqI"
      },
      "source": [
        "filenames=['dist_bootstrap_{}.pt'.format(i) for i in range(29)]\n",
        "# ce_losses=[]\n",
        "# kl_divs=[]\n",
        "for k in range(5,29):\n",
        "  \n",
        "  loader=DataLoader(ds,batch_size=128,shuffle=False,num_workers=4)\n",
        "  model_new=dist_DQN(v_min=-18,v_max=18)\n",
        "  print('K =',k)\n",
        "  load_model(model_new,filenames[k])\n",
        "  acts=get_RLactions(model_new,loader,k)\n",
        "  df2['Act_boot_{}'.format(k)]=acts\n",
        "  df2.to_csv('Bootstrap_actions.csv',index=False)\n",
        "\n",
        "# df2.to_csv('Bootstrap_actions.csv',index=False)"
      ],
      "execution_count": null,
      "outputs": []
    },
    {
      "cell_type": "code",
      "metadata": {
        "id": "cp6ZYJ_-yYzc",
        "outputId": "34fafb16-4f39-4f30-bfe4-1f90f3aba31c",
        "colab": {
          "base_uri": "https://localhost:8080/"
        }
      },
      "source": [
        "ls dBCQ/scratch_NOV/dist"
      ],
      "execution_count": null,
      "outputs": [
        {
          "output_type": "stream",
          "text": [
            "actions2.csv        dist_noW13.pt  dist_v2_0.pt   dist_v2_9.pt   dist_VAL1.pt\n",
            "actions.csv         dist_noW1.pt   dist_v2_10.pt  dist_VAL10.pt  dist_VAL2.pt\n",
            "dist_17_atoms_1.pt  dist_noW2.pt   dist_v2_11.pt  dist_VAL11.pt  dist_VAL3.pt\n",
            "dist_17_atoms_2.pt  dist_noW3.pt   dist_v2_2.pt   dist_VAL12.pt  dist_VAL4.pt\n",
            "dist_17_atoms_3.pt  dist_noW4.pt   dist_v2_3.pt   dist_VAL13.pt  dist_VAL5.pt\n",
            "dist_17_atoms_4.pt  dist_noW5.pt   dist_v2_4.pt   dist_VAL14.pt  dist_VAL6.pt\n",
            "dist_17_atoms_5.pt  dist_noW6.pt   dist_v2_5.pt   dist_VAL15.pt  dist_VAL7.pt\n",
            "dist_noW10.pt       dist_noW7.pt   dist_v2_6.pt   dist_VAL16.pt  dist_VAL8.pt\n",
            "dist_noW11.pt       dist_noW8.pt   dist_v2_7.pt   dist_VAL17.pt  dist_VAL9.pt\n",
            "dist_noW12.pt       dist_noW9.pt   dist_v2_8.pt   dist_VAL18.pt  \u001b[0m\u001b[01;34mimages\u001b[0m/\n"
          ],
          "name": "stdout"
        }
      ]
    },
    {
      "cell_type": "code",
      "metadata": {
        "id": "Jr3sf5nF_ZRy",
        "outputId": "8b403f43-3e9f-4d62-c552-1525458c5371",
        "colab": {
          "base_uri": "https://localhost:8080/"
        }
      },
      "source": [
        "df2['noW_4'].value_counts(normalize=True)"
      ],
      "execution_count": null,
      "outputs": [
        {
          "output_type": "execute_result",
          "data": {
            "text/plain": [
              "0    0.590513\n",
              "4    0.352971\n",
              "1    0.034888\n",
              "6    0.016615\n",
              "5    0.002379\n",
              "8    0.002224\n",
              "7    0.000341\n",
              "2    0.000058\n",
              "3    0.000012\n",
              "Name: noW_4, dtype: float64"
            ]
          },
          "metadata": {
            "tags": []
          },
          "execution_count": 44
        }
      ]
    },
    {
      "cell_type": "code",
      "metadata": {
        "id": "OoARAYPWyraF"
      },
      "source": [
        "filenames=['dBCQ/scratch_NOV/dist/dist_noW{}.pt'.format(i) for i in range(12)]\n",
        "# ce_losses=[]\n",
        "# kl_divs=[]\n",
        "for k in range(5,12):\n",
        "  \n",
        "  loader=DataLoader(ds,batch_size=256,shuffle=False,num_workers=6)\n",
        "  model_new=dist_DQN(v_min=-18,v_max=18)\n",
        "  print('K =',k)\n",
        "  load_model(model_new,filenames[k])\n",
        "  acts=get_RLactions(model_new,loader,k)\n",
        "  df2['noW_{}'.format(k)]=acts\n",
        "  df2.to_csv('Bootstrap_actions.csv',index=False)\n",
        "\n",
        "df2.to_csv('Bootstrap_actions.csv',index=False)"
      ],
      "execution_count": null,
      "outputs": []
    },
    {
      "cell_type": "markdown",
      "metadata": {
        "id": "Y-7SwHmWvL_s"
      },
      "source": [
        "### Fitting a Validation Value Distribution"
      ]
    },
    {
      "cell_type": "code",
      "metadata": {
        "id": "3PGX1LGpvvs6",
        "outputId": "9f345922-6c32-489f-c324-51703d205f3a",
        "colab": {
          "base_uri": "https://localhost:8080/",
          "height": 224
        }
      },
      "source": [
        "val_df=pd.read_csv('../../../RL_val.csv')\n",
        "val_df=val_df.drop(['Unnamed: 0'],axis=1)\n",
        "\n",
        "val_df.head()"
      ],
      "execution_count": null,
      "outputs": [
        {
          "output_type": "execute_result",
          "data": {
            "text/html": [
              "<div>\n",
              "<style scoped>\n",
              "    .dataframe tbody tr th:only-of-type {\n",
              "        vertical-align: middle;\n",
              "    }\n",
              "\n",
              "    .dataframe tbody tr th {\n",
              "        vertical-align: top;\n",
              "    }\n",
              "\n",
              "    .dataframe thead th {\n",
              "        text-align: right;\n",
              "    }\n",
              "</style>\n",
              "<table border=\"1\" class=\"dataframe\">\n",
              "  <thead>\n",
              "    <tr style=\"text-align: right;\">\n",
              "      <th></th>\n",
              "      <th>0</th>\n",
              "      <th>1</th>\n",
              "      <th>2</th>\n",
              "      <th>3</th>\n",
              "      <th>4</th>\n",
              "      <th>5</th>\n",
              "      <th>6</th>\n",
              "      <th>7</th>\n",
              "      <th>8</th>\n",
              "      <th>9</th>\n",
              "      <th>10</th>\n",
              "      <th>11</th>\n",
              "      <th>12</th>\n",
              "      <th>13</th>\n",
              "      <th>14</th>\n",
              "      <th>15</th>\n",
              "      <th>16</th>\n",
              "      <th>17</th>\n",
              "      <th>18</th>\n",
              "      <th>19</th>\n",
              "      <th>20</th>\n",
              "      <th>21</th>\n",
              "      <th>22</th>\n",
              "      <th>23</th>\n",
              "      <th>24</th>\n",
              "      <th>25</th>\n",
              "      <th>26</th>\n",
              "      <th>27</th>\n",
              "      <th>28</th>\n",
              "      <th>29</th>\n",
              "      <th>30</th>\n",
              "      <th>31</th>\n",
              "      <th>32</th>\n",
              "      <th>33</th>\n",
              "      <th>34</th>\n",
              "      <th>35</th>\n",
              "      <th>36</th>\n",
              "      <th>37</th>\n",
              "      <th>38</th>\n",
              "      <th>39</th>\n",
              "      <th>40</th>\n",
              "      <th>41</th>\n",
              "      <th>42</th>\n",
              "      <th>43</th>\n",
              "      <th>pat</th>\n",
              "    </tr>\n",
              "  </thead>\n",
              "  <tbody>\n",
              "    <tr>\n",
              "      <th>0</th>\n",
              "      <td>57.0</td>\n",
              "      <td>90.0</td>\n",
              "      <td>69.0</td>\n",
              "      <td>14.0</td>\n",
              "      <td>5.0</td>\n",
              "      <td>100.0</td>\n",
              "      <td>98.0</td>\n",
              "      <td>37.799999</td>\n",
              "      <td>1.0</td>\n",
              "      <td>4.0</td>\n",
              "      <td>0.0</td>\n",
              "      <td>0.0</td>\n",
              "      <td>-0.708817</td>\n",
              "      <td>-0.838437</td>\n",
              "      <td>-0.659904</td>\n",
              "      <td>1.777689</td>\n",
              "      <td>-0.618447</td>\n",
              "      <td>-0.213809</td>\n",
              "      <td>-0.107123</td>\n",
              "      <td>-0.724009</td>\n",
              "      <td>-0.344044</td>\n",
              "      <td>0.857453</td>\n",
              "      <td>-0.620443</td>\n",
              "      <td>0.128732</td>\n",
              "      <td>0.197923</td>\n",
              "      <td>0.105806</td>\n",
              "      <td>-0.255739</td>\n",
              "      <td>0.534732</td>\n",
              "      <td>0.483859</td>\n",
              "      <td>-0.758225</td>\n",
              "      <td>-0.380859</td>\n",
              "      <td>-0.082806</td>\n",
              "      <td>-0.122179</td>\n",
              "      <td>0.080003</td>\n",
              "      <td>0.666731</td>\n",
              "      <td>1.667938</td>\n",
              "      <td>0.603311</td>\n",
              "      <td>67.941063</td>\n",
              "      <td>47.0</td>\n",
              "      <td>0.0</td>\n",
              "      <td>87.2</td>\n",
              "      <td>0.0</td>\n",
              "      <td>500.0</td>\n",
              "      <td>-0.025</td>\n",
              "      <td>200009</td>\n",
              "    </tr>\n",
              "    <tr>\n",
              "      <th>1</th>\n",
              "      <td>56.0</td>\n",
              "      <td>91.0</td>\n",
              "      <td>68.0</td>\n",
              "      <td>19.0</td>\n",
              "      <td>5.0</td>\n",
              "      <td>100.0</td>\n",
              "      <td>96.0</td>\n",
              "      <td>37.900002</td>\n",
              "      <td>1.0</td>\n",
              "      <td>4.0</td>\n",
              "      <td>0.0</td>\n",
              "      <td>0.0</td>\n",
              "      <td>-0.708817</td>\n",
              "      <td>-0.838437</td>\n",
              "      <td>-0.659904</td>\n",
              "      <td>1.777689</td>\n",
              "      <td>-0.618447</td>\n",
              "      <td>-0.213809</td>\n",
              "      <td>-0.107123</td>\n",
              "      <td>-0.724009</td>\n",
              "      <td>-0.344044</td>\n",
              "      <td>0.857453</td>\n",
              "      <td>-0.620443</td>\n",
              "      <td>0.128732</td>\n",
              "      <td>0.197923</td>\n",
              "      <td>0.105806</td>\n",
              "      <td>-0.255739</td>\n",
              "      <td>0.534732</td>\n",
              "      <td>0.483859</td>\n",
              "      <td>-0.758225</td>\n",
              "      <td>-0.380859</td>\n",
              "      <td>-0.082806</td>\n",
              "      <td>-0.122179</td>\n",
              "      <td>0.080003</td>\n",
              "      <td>0.664922</td>\n",
              "      <td>1.695960</td>\n",
              "      <td>0.606689</td>\n",
              "      <td>67.864685</td>\n",
              "      <td>47.0</td>\n",
              "      <td>0.0</td>\n",
              "      <td>87.2</td>\n",
              "      <td>0.0</td>\n",
              "      <td>375.0</td>\n",
              "      <td>-0.025</td>\n",
              "      <td>200009</td>\n",
              "    </tr>\n",
              "    <tr>\n",
              "      <th>2</th>\n",
              "      <td>55.0</td>\n",
              "      <td>93.0</td>\n",
              "      <td>67.0</td>\n",
              "      <td>17.0</td>\n",
              "      <td>5.0</td>\n",
              "      <td>100.0</td>\n",
              "      <td>86.0</td>\n",
              "      <td>38.000000</td>\n",
              "      <td>1.0</td>\n",
              "      <td>4.0</td>\n",
              "      <td>0.0</td>\n",
              "      <td>0.0</td>\n",
              "      <td>-0.708817</td>\n",
              "      <td>-0.838437</td>\n",
              "      <td>-0.659904</td>\n",
              "      <td>1.777689</td>\n",
              "      <td>-0.618447</td>\n",
              "      <td>-0.213809</td>\n",
              "      <td>-0.107123</td>\n",
              "      <td>-0.724009</td>\n",
              "      <td>-0.344044</td>\n",
              "      <td>0.857453</td>\n",
              "      <td>-0.620443</td>\n",
              "      <td>0.128732</td>\n",
              "      <td>0.197923</td>\n",
              "      <td>0.105806</td>\n",
              "      <td>-0.255739</td>\n",
              "      <td>0.534732</td>\n",
              "      <td>0.483859</td>\n",
              "      <td>-0.758225</td>\n",
              "      <td>-0.380859</td>\n",
              "      <td>-0.082806</td>\n",
              "      <td>-0.122179</td>\n",
              "      <td>0.080003</td>\n",
              "      <td>0.632300</td>\n",
              "      <td>2.194721</td>\n",
              "      <td>0.605790</td>\n",
              "      <td>67.283615</td>\n",
              "      <td>47.0</td>\n",
              "      <td>0.0</td>\n",
              "      <td>87.2</td>\n",
              "      <td>0.0</td>\n",
              "      <td>500.0</td>\n",
              "      <td>-0.025</td>\n",
              "      <td>200009</td>\n",
              "    </tr>\n",
              "    <tr>\n",
              "      <th>3</th>\n",
              "      <td>58.0</td>\n",
              "      <td>105.0</td>\n",
              "      <td>71.0</td>\n",
              "      <td>18.0</td>\n",
              "      <td>5.0</td>\n",
              "      <td>100.0</td>\n",
              "      <td>93.0</td>\n",
              "      <td>38.099998</td>\n",
              "      <td>1.0</td>\n",
              "      <td>4.0</td>\n",
              "      <td>0.0</td>\n",
              "      <td>0.0</td>\n",
              "      <td>-0.708817</td>\n",
              "      <td>-0.838437</td>\n",
              "      <td>-0.659904</td>\n",
              "      <td>1.777689</td>\n",
              "      <td>-0.618447</td>\n",
              "      <td>-0.213809</td>\n",
              "      <td>-0.107123</td>\n",
              "      <td>-0.724009</td>\n",
              "      <td>-0.344044</td>\n",
              "      <td>0.857453</td>\n",
              "      <td>-0.620443</td>\n",
              "      <td>0.128732</td>\n",
              "      <td>0.197923</td>\n",
              "      <td>0.105806</td>\n",
              "      <td>-0.255739</td>\n",
              "      <td>0.534732</td>\n",
              "      <td>0.483859</td>\n",
              "      <td>-0.758225</td>\n",
              "      <td>-0.380859</td>\n",
              "      <td>-0.082806</td>\n",
              "      <td>-0.122179</td>\n",
              "      <td>0.080003</td>\n",
              "      <td>0.611805</td>\n",
              "      <td>1.945178</td>\n",
              "      <td>0.534462</td>\n",
              "      <td>66.394684</td>\n",
              "      <td>47.0</td>\n",
              "      <td>0.0</td>\n",
              "      <td>87.2</td>\n",
              "      <td>0.0</td>\n",
              "      <td>500.0</td>\n",
              "      <td>-0.025</td>\n",
              "      <td>200009</td>\n",
              "    </tr>\n",
              "    <tr>\n",
              "      <th>4</th>\n",
              "      <td>57.0</td>\n",
              "      <td>96.0</td>\n",
              "      <td>69.0</td>\n",
              "      <td>16.0</td>\n",
              "      <td>5.0</td>\n",
              "      <td>100.0</td>\n",
              "      <td>99.0</td>\n",
              "      <td>37.900002</td>\n",
              "      <td>1.0</td>\n",
              "      <td>4.0</td>\n",
              "      <td>0.0</td>\n",
              "      <td>0.0</td>\n",
              "      <td>-0.708817</td>\n",
              "      <td>-0.838437</td>\n",
              "      <td>-0.659904</td>\n",
              "      <td>1.777689</td>\n",
              "      <td>-0.618447</td>\n",
              "      <td>-0.213809</td>\n",
              "      <td>-0.107123</td>\n",
              "      <td>-0.724009</td>\n",
              "      <td>-0.344044</td>\n",
              "      <td>0.857453</td>\n",
              "      <td>-0.620443</td>\n",
              "      <td>0.128732</td>\n",
              "      <td>0.197923</td>\n",
              "      <td>0.105806</td>\n",
              "      <td>-0.255739</td>\n",
              "      <td>0.534732</td>\n",
              "      <td>0.483859</td>\n",
              "      <td>-0.758225</td>\n",
              "      <td>-0.380859</td>\n",
              "      <td>-0.082806</td>\n",
              "      <td>-0.122179</td>\n",
              "      <td>0.080003</td>\n",
              "      <td>0.648374</td>\n",
              "      <td>1.579956</td>\n",
              "      <td>0.576718</td>\n",
              "      <td>67.517929</td>\n",
              "      <td>47.0</td>\n",
              "      <td>0.0</td>\n",
              "      <td>87.2</td>\n",
              "      <td>0.0</td>\n",
              "      <td>875.0</td>\n",
              "      <td>-0.025</td>\n",
              "      <td>200009</td>\n",
              "    </tr>\n",
              "  </tbody>\n",
              "</table>\n",
              "</div>"
            ],
            "text/plain": [
              "      0      1     2     3    4      5  ...   39    40   41     42     43     pat\n",
              "0  57.0   90.0  69.0  14.0  5.0  100.0  ...  0.0  87.2  0.0  500.0 -0.025  200009\n",
              "1  56.0   91.0  68.0  19.0  5.0  100.0  ...  0.0  87.2  0.0  375.0 -0.025  200009\n",
              "2  55.0   93.0  67.0  17.0  5.0  100.0  ...  0.0  87.2  0.0  500.0 -0.025  200009\n",
              "3  58.0  105.0  71.0  18.0  5.0  100.0  ...  0.0  87.2  0.0  500.0 -0.025  200009\n",
              "4  57.0   96.0  69.0  16.0  5.0  100.0  ...  0.0  87.2  0.0  875.0 -0.025  200009\n",
              "\n",
              "[5 rows x 45 columns]"
            ]
          },
          "metadata": {
            "tags": []
          },
          "execution_count": 41
        }
      ]
    },
    {
      "cell_type": "code",
      "metadata": {
        "id": "QEYEhI98wEBj",
        "outputId": "f7fc138e-f6e0-4b44-ef6e-d2053c0a3286",
        "colab": {
          "base_uri": "https://localhost:8080/"
        }
      },
      "source": [
        "val_df.iloc[:,cols]=(val_df.iloc[:,cols]-means[cols])/stds[cols]\n",
        "print('Normalized')"
      ],
      "execution_count": null,
      "outputs": [
        {
          "output_type": "stream",
          "text": [
            "Normalized\n"
          ],
          "name": "stdout"
        }
      ]
    },
    {
      "cell_type": "code",
      "metadata": {
        "id": "Uo1__szd0xQ0",
        "outputId": "fd13df19-df71-4dd5-e104-bfc78ecd94ac",
        "colab": {
          "base_uri": "https://localhost:8080/",
          "height": 224
        }
      },
      "source": [
        "val_df.columns='DBP\tHR\tMBP\tRR\tSOFA\tSpO2\tSBP\tTempC\tcardio\tcns\tliver\trenal\tAG\tBICARB\tCREAT\tCL\tGLUC\tHCT\tHB\tPLAT\tK\tNa\tBUN\tWBC\tl_1\tl_2\tl_3\tl_4\tl_5\tl_6\tl_7\tl_8\tl_9\tl_10\tR\tC\tT\tSV\tage\tM/F\tweight\tVaso\tFluids\tRewards\tPat'.split()\n",
        "val_df.head()"
      ],
      "execution_count": null,
      "outputs": [
        {
          "output_type": "execute_result",
          "data": {
            "text/html": [
              "<div>\n",
              "<style scoped>\n",
              "    .dataframe tbody tr th:only-of-type {\n",
              "        vertical-align: middle;\n",
              "    }\n",
              "\n",
              "    .dataframe tbody tr th {\n",
              "        vertical-align: top;\n",
              "    }\n",
              "\n",
              "    .dataframe thead th {\n",
              "        text-align: right;\n",
              "    }\n",
              "</style>\n",
              "<table border=\"1\" class=\"dataframe\">\n",
              "  <thead>\n",
              "    <tr style=\"text-align: right;\">\n",
              "      <th></th>\n",
              "      <th>DBP</th>\n",
              "      <th>HR</th>\n",
              "      <th>MBP</th>\n",
              "      <th>RR</th>\n",
              "      <th>SOFA</th>\n",
              "      <th>SpO2</th>\n",
              "      <th>SBP</th>\n",
              "      <th>TempC</th>\n",
              "      <th>cardio</th>\n",
              "      <th>cns</th>\n",
              "      <th>liver</th>\n",
              "      <th>renal</th>\n",
              "      <th>AG</th>\n",
              "      <th>BICARB</th>\n",
              "      <th>CREAT</th>\n",
              "      <th>CL</th>\n",
              "      <th>GLUC</th>\n",
              "      <th>HCT</th>\n",
              "      <th>HB</th>\n",
              "      <th>PLAT</th>\n",
              "      <th>K</th>\n",
              "      <th>Na</th>\n",
              "      <th>BUN</th>\n",
              "      <th>WBC</th>\n",
              "      <th>l_1</th>\n",
              "      <th>l_2</th>\n",
              "      <th>l_3</th>\n",
              "      <th>l_4</th>\n",
              "      <th>l_5</th>\n",
              "      <th>l_6</th>\n",
              "      <th>l_7</th>\n",
              "      <th>l_8</th>\n",
              "      <th>l_9</th>\n",
              "      <th>l_10</th>\n",
              "      <th>R</th>\n",
              "      <th>C</th>\n",
              "      <th>T</th>\n",
              "      <th>SV</th>\n",
              "      <th>age</th>\n",
              "      <th>M/F</th>\n",
              "      <th>weight</th>\n",
              "      <th>Vaso</th>\n",
              "      <th>Fluids</th>\n",
              "      <th>Rewards</th>\n",
              "      <th>Pat</th>\n",
              "    </tr>\n",
              "  </thead>\n",
              "  <tbody>\n",
              "    <tr>\n",
              "      <th>0</th>\n",
              "      <td>-0.196140</td>\n",
              "      <td>0.202721</td>\n",
              "      <td>-0.599419</td>\n",
              "      <td>-1.104976</td>\n",
              "      <td>-0.374462</td>\n",
              "      <td>0.872256</td>\n",
              "      <td>-1.046321</td>\n",
              "      <td>1.064380</td>\n",
              "      <td>1.0</td>\n",
              "      <td>4.0</td>\n",
              "      <td>0.0</td>\n",
              "      <td>-0.868625</td>\n",
              "      <td>-0.708817</td>\n",
              "      <td>-0.838437</td>\n",
              "      <td>-0.659904</td>\n",
              "      <td>1.777689</td>\n",
              "      <td>-0.618447</td>\n",
              "      <td>-0.213809</td>\n",
              "      <td>-0.107123</td>\n",
              "      <td>-0.724009</td>\n",
              "      <td>-0.344044</td>\n",
              "      <td>0.857453</td>\n",
              "      <td>-0.620443</td>\n",
              "      <td>0.128732</td>\n",
              "      <td>0.197923</td>\n",
              "      <td>0.105806</td>\n",
              "      <td>-0.255739</td>\n",
              "      <td>0.534732</td>\n",
              "      <td>0.483859</td>\n",
              "      <td>-0.758225</td>\n",
              "      <td>-0.380859</td>\n",
              "      <td>-0.082806</td>\n",
              "      <td>-0.122179</td>\n",
              "      <td>0.080003</td>\n",
              "      <td>0.666731</td>\n",
              "      <td>1.667938</td>\n",
              "      <td>0.603311</td>\n",
              "      <td>-0.494881</td>\n",
              "      <td>-1.153726</td>\n",
              "      <td>0.0</td>\n",
              "      <td>0.132164</td>\n",
              "      <td>0.0</td>\n",
              "      <td>500.0</td>\n",
              "      <td>-0.025</td>\n",
              "      <td>200009</td>\n",
              "    </tr>\n",
              "    <tr>\n",
              "      <th>1</th>\n",
              "      <td>-0.266998</td>\n",
              "      <td>0.261090</td>\n",
              "      <td>-0.661749</td>\n",
              "      <td>-0.277787</td>\n",
              "      <td>-0.374462</td>\n",
              "      <td>0.872256</td>\n",
              "      <td>-1.135327</td>\n",
              "      <td>1.191109</td>\n",
              "      <td>1.0</td>\n",
              "      <td>4.0</td>\n",
              "      <td>0.0</td>\n",
              "      <td>-0.868625</td>\n",
              "      <td>-0.708817</td>\n",
              "      <td>-0.838437</td>\n",
              "      <td>-0.659904</td>\n",
              "      <td>1.777689</td>\n",
              "      <td>-0.618447</td>\n",
              "      <td>-0.213809</td>\n",
              "      <td>-0.107123</td>\n",
              "      <td>-0.724009</td>\n",
              "      <td>-0.344044</td>\n",
              "      <td>0.857453</td>\n",
              "      <td>-0.620443</td>\n",
              "      <td>0.128732</td>\n",
              "      <td>0.197923</td>\n",
              "      <td>0.105806</td>\n",
              "      <td>-0.255739</td>\n",
              "      <td>0.534732</td>\n",
              "      <td>0.483859</td>\n",
              "      <td>-0.758225</td>\n",
              "      <td>-0.380859</td>\n",
              "      <td>-0.082806</td>\n",
              "      <td>-0.122179</td>\n",
              "      <td>0.080003</td>\n",
              "      <td>0.664922</td>\n",
              "      <td>1.695960</td>\n",
              "      <td>0.606689</td>\n",
              "      <td>-0.541034</td>\n",
              "      <td>-1.153726</td>\n",
              "      <td>0.0</td>\n",
              "      <td>0.132164</td>\n",
              "      <td>0.0</td>\n",
              "      <td>375.0</td>\n",
              "      <td>-0.025</td>\n",
              "      <td>200009</td>\n",
              "    </tr>\n",
              "    <tr>\n",
              "      <th>2</th>\n",
              "      <td>-0.337856</td>\n",
              "      <td>0.377827</td>\n",
              "      <td>-0.724079</td>\n",
              "      <td>-0.608663</td>\n",
              "      <td>-0.374462</td>\n",
              "      <td>0.872256</td>\n",
              "      <td>-1.580355</td>\n",
              "      <td>1.317833</td>\n",
              "      <td>1.0</td>\n",
              "      <td>4.0</td>\n",
              "      <td>0.0</td>\n",
              "      <td>-0.868625</td>\n",
              "      <td>-0.708817</td>\n",
              "      <td>-0.838437</td>\n",
              "      <td>-0.659904</td>\n",
              "      <td>1.777689</td>\n",
              "      <td>-0.618447</td>\n",
              "      <td>-0.213809</td>\n",
              "      <td>-0.107123</td>\n",
              "      <td>-0.724009</td>\n",
              "      <td>-0.344044</td>\n",
              "      <td>0.857453</td>\n",
              "      <td>-0.620443</td>\n",
              "      <td>0.128732</td>\n",
              "      <td>0.197923</td>\n",
              "      <td>0.105806</td>\n",
              "      <td>-0.255739</td>\n",
              "      <td>0.534732</td>\n",
              "      <td>0.483859</td>\n",
              "      <td>-0.758225</td>\n",
              "      <td>-0.380859</td>\n",
              "      <td>-0.082806</td>\n",
              "      <td>-0.122179</td>\n",
              "      <td>0.080003</td>\n",
              "      <td>0.632300</td>\n",
              "      <td>2.194721</td>\n",
              "      <td>0.605790</td>\n",
              "      <td>-0.892155</td>\n",
              "      <td>-1.153726</td>\n",
              "      <td>0.0</td>\n",
              "      <td>0.132164</td>\n",
              "      <td>0.0</td>\n",
              "      <td>500.0</td>\n",
              "      <td>-0.025</td>\n",
              "      <td>200009</td>\n",
              "    </tr>\n",
              "    <tr>\n",
              "      <th>3</th>\n",
              "      <td>-0.125282</td>\n",
              "      <td>1.078251</td>\n",
              "      <td>-0.474758</td>\n",
              "      <td>-0.443225</td>\n",
              "      <td>-0.374462</td>\n",
              "      <td>0.872256</td>\n",
              "      <td>-1.268835</td>\n",
              "      <td>1.444558</td>\n",
              "      <td>1.0</td>\n",
              "      <td>4.0</td>\n",
              "      <td>0.0</td>\n",
              "      <td>-0.868625</td>\n",
              "      <td>-0.708817</td>\n",
              "      <td>-0.838437</td>\n",
              "      <td>-0.659904</td>\n",
              "      <td>1.777689</td>\n",
              "      <td>-0.618447</td>\n",
              "      <td>-0.213809</td>\n",
              "      <td>-0.107123</td>\n",
              "      <td>-0.724009</td>\n",
              "      <td>-0.344044</td>\n",
              "      <td>0.857453</td>\n",
              "      <td>-0.620443</td>\n",
              "      <td>0.128732</td>\n",
              "      <td>0.197923</td>\n",
              "      <td>0.105806</td>\n",
              "      <td>-0.255739</td>\n",
              "      <td>0.534732</td>\n",
              "      <td>0.483859</td>\n",
              "      <td>-0.758225</td>\n",
              "      <td>-0.380859</td>\n",
              "      <td>-0.082806</td>\n",
              "      <td>-0.122179</td>\n",
              "      <td>0.080003</td>\n",
              "      <td>0.611805</td>\n",
              "      <td>1.945178</td>\n",
              "      <td>0.534462</td>\n",
              "      <td>-1.429307</td>\n",
              "      <td>-1.153726</td>\n",
              "      <td>0.0</td>\n",
              "      <td>0.132164</td>\n",
              "      <td>0.0</td>\n",
              "      <td>500.0</td>\n",
              "      <td>-0.025</td>\n",
              "      <td>200009</td>\n",
              "    </tr>\n",
              "    <tr>\n",
              "      <th>4</th>\n",
              "      <td>-0.196140</td>\n",
              "      <td>0.552933</td>\n",
              "      <td>-0.599419</td>\n",
              "      <td>-0.774101</td>\n",
              "      <td>-0.374462</td>\n",
              "      <td>0.872256</td>\n",
              "      <td>-1.001818</td>\n",
              "      <td>1.191109</td>\n",
              "      <td>1.0</td>\n",
              "      <td>4.0</td>\n",
              "      <td>0.0</td>\n",
              "      <td>-0.868625</td>\n",
              "      <td>-0.708817</td>\n",
              "      <td>-0.838437</td>\n",
              "      <td>-0.659904</td>\n",
              "      <td>1.777689</td>\n",
              "      <td>-0.618447</td>\n",
              "      <td>-0.213809</td>\n",
              "      <td>-0.107123</td>\n",
              "      <td>-0.724009</td>\n",
              "      <td>-0.344044</td>\n",
              "      <td>0.857453</td>\n",
              "      <td>-0.620443</td>\n",
              "      <td>0.128732</td>\n",
              "      <td>0.197923</td>\n",
              "      <td>0.105806</td>\n",
              "      <td>-0.255739</td>\n",
              "      <td>0.534732</td>\n",
              "      <td>0.483859</td>\n",
              "      <td>-0.758225</td>\n",
              "      <td>-0.380859</td>\n",
              "      <td>-0.082806</td>\n",
              "      <td>-0.122179</td>\n",
              "      <td>0.080003</td>\n",
              "      <td>0.648374</td>\n",
              "      <td>1.579956</td>\n",
              "      <td>0.576718</td>\n",
              "      <td>-0.750567</td>\n",
              "      <td>-1.153726</td>\n",
              "      <td>0.0</td>\n",
              "      <td>0.132164</td>\n",
              "      <td>0.0</td>\n",
              "      <td>875.0</td>\n",
              "      <td>-0.025</td>\n",
              "      <td>200009</td>\n",
              "    </tr>\n",
              "  </tbody>\n",
              "</table>\n",
              "</div>"
            ],
            "text/plain": [
              "        DBP        HR       MBP        RR  ...  Vaso  Fluids  Rewards     Pat\n",
              "0 -0.196140  0.202721 -0.599419 -1.104976  ...   0.0   500.0   -0.025  200009\n",
              "1 -0.266998  0.261090 -0.661749 -0.277787  ...   0.0   375.0   -0.025  200009\n",
              "2 -0.337856  0.377827 -0.724079 -0.608663  ...   0.0   500.0   -0.025  200009\n",
              "3 -0.125282  1.078251 -0.474758 -0.443225  ...   0.0   500.0   -0.025  200009\n",
              "4 -0.196140  0.552933 -0.599419 -0.774101  ...   0.0   875.0   -0.025  200009\n",
              "\n",
              "[5 rows x 45 columns]"
            ]
          },
          "metadata": {
            "tags": []
          },
          "execution_count": 46
        }
      ]
    },
    {
      "cell_type": "code",
      "metadata": {
        "id": "HULe5zjtv6Id"
      },
      "source": [
        "def get_actions(df):\n",
        "  df['Fluids']=df['Fluids'].apply(lambda x:max(x,0))\n",
        "  Vaso_cuts,vaso_bins=pd.cut(df['Vaso'],bins=[-1e-6,1e-8/2,0.15,np.inf],labels=False,retbins=True)\n",
        "\n",
        "  df['Vaso_cuts']=Vaso_cuts.values\n",
        "  Fluids_cuts,fluid_bins=pd.cut(df['Fluids'],bins=[-1e-6,6.000000e-03/2,5.000000e+01,np.inf],labels=False,retbins=True)\n",
        "\n",
        "  df['Fluid_cuts']=Fluids_cuts.values\n",
        "  df['Fluid_cuts'].value_counts(normalize=True),df['Vaso_cuts'].value_counts(normalize=True)\n",
        "\n",
        "  all_acts=np.arange(9).reshape(3,3)\n",
        "\n",
        "\n",
        "  df['action']=all_acts[df.Vaso_cuts,df.Fluid_cuts]\n",
        "\n",
        "get_actions(val_df)"
      ],
      "execution_count": null,
      "outputs": []
    },
    {
      "cell_type": "code",
      "metadata": {
        "id": "l6-F3D7TxUFb"
      },
      "source": [
        "def weight_func(x):\n",
        "  if x==-15:\n",
        "    return 80\n",
        "\n",
        "  if x==15:\n",
        "     return 5\n",
        "  \n",
        "  return 2\n",
        "\n",
        "\n",
        "\n",
        "weights1=val_df['Rewards'].copy()\n",
        "weights1=weights1.apply(weight_func)\n",
        "\n",
        "\n",
        "\n",
        "weights2=val_df['Rewards'].iloc[1:].copy()\n",
        "weights2=weights2.apply(lambda x: 5 if np.abs(x)==15 else 2)\n",
        "weights2=np.hstack([np.abs(weights2).values ,np.array([10])])\n",
        "\n",
        "\n",
        "\n",
        "weights3=val_df['Rewards'].iloc[5:].copy()\n",
        "weights3=weights3.apply(lambda x: 5 if np.abs(x)==15 else 2)\n",
        "weights3=np.hstack([np.abs(weights3).values ,np.array([2]*5)])\n",
        "\n",
        "weights=weights1+weights2+weights3\n",
        "\n",
        "sampler = torch.utils.data.sampler.WeightedRandomSampler(torch.DoubleTensor(weights),num_samples=len(weights))\n",
        "ds1=Discrete_RL_dataset(df=val_df)\n",
        "new_loader =DataLoader(ds1, batch_size=100,sampler=sampler)\n"
      ],
      "execution_count": null,
      "outputs": []
    },
    {
      "cell_type": "code",
      "metadata": {
        "id": "zTqVSJNhxqr4"
      },
      "source": [
        "model=dist_DQN(v_min=-18,v_max=18)\n",
        "for it in range(1,100):\n",
        "  model.train_epoch(new_loader,it)\n",
        "  torch.save({\n",
        "            'Q_state_dict': model.Q.state_dict(),\n",
        "             'Q_target_state_dict': model.Q_target.state_dict(),\n",
        "            \n",
        "                \n",
        "            },'dist_VAL{}.pt'.format(it))"
      ],
      "execution_count": null,
      "outputs": []
    },
    {
      "cell_type": "code",
      "metadata": {
        "id": "GKSEIV8s1EtF",
        "outputId": "c5d93528-a5c2-439c-c625-99856759d035",
        "colab": {
          "base_uri": "https://localhost:8080/"
        }
      },
      "source": [
        "len(new_loader)"
      ],
      "execution_count": null,
      "outputs": [
        {
          "output_type": "execute_result",
          "data": {
            "text/plain": [
              "1015"
            ]
          },
          "metadata": {
            "tags": []
          },
          "execution_count": 51
        }
      ]
    },
    {
      "cell_type": "code",
      "metadata": {
        "id": "0XE3ymd_-So5",
        "outputId": "6bacbca4-a534-483f-ed01-0b22ce612476",
        "colab": {
          "base_uri": "https://localhost:8080/"
        }
      },
      "source": [
        "val_df.shape"
      ],
      "execution_count": null,
      "outputs": [
        {
          "output_type": "execute_result",
          "data": {
            "text/plain": [
              "(101499, 48)"
            ]
          },
          "metadata": {
            "tags": []
          },
          "execution_count": 52
        }
      ]
    },
    {
      "cell_type": "code",
      "metadata": {
        "id": "Mb5AWZEZ-X1f"
      },
      "source": [
        ""
      ],
      "execution_count": null,
      "outputs": []
    }
  ]
}
