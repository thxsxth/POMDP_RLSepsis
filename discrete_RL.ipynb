{
  "nbformat": 4,
  "nbformat_minor": 0,
  "metadata": {
    "colab": {
      "name": "discrete RL",
      "provenance": [],
      "collapsed_sections": [],
      "include_colab_link": true
    },
    "kernelspec": {
      "name": "python3",
      "display_name": "Python 3"
    }
  },
  "cells": [
    {
      "cell_type": "markdown",
      "metadata": {
        "id": "view-in-github",
        "colab_type": "text"
      },
      "source": [
        "<a href=\"https://colab.research.google.com/github/thxsxth/POMDP_RLSepsis/blob/master/discrete_RL.ipynb\" target=\"_parent\"><img src=\"https://colab.research.google.com/assets/colab-badge.svg\" alt=\"Open In Colab\"/></a>"
      ]
    },
    {
      "cell_type": "code",
      "metadata": {
        "id": "7nol9qAnOTsH",
        "outputId": "e3b7ff0c-144d-4bac-fd1b-2386638f6371",
        "colab": {
          "base_uri": "https://localhost:8080/",
          "height": 34
        }
      },
      "source": [
        "cd 'drive/My Drive/sepsis3-cohort'"
      ],
      "execution_count": null,
      "outputs": [
        {
          "output_type": "stream",
          "text": [
            "/content/drive/My Drive/sepsis3-cohort\n"
          ],
          "name": "stdout"
        }
      ]
    },
    {
      "cell_type": "code",
      "metadata": {
        "id": "8zO18IDIOeOK"
      },
      "source": [
        "import torch\n",
        "import numpy as np\n",
        "import pandas as pd\n",
        "import datetime as dt\n",
        "import random\n",
        "import time\n",
        "import torch.nn as nn\n",
        "import torch.optim as optim\n",
        "from torch.utils.data import Dataset,DataLoader\n",
        "import torch.nn.functional as F\n",
        "import os\n",
        "import glob\n",
        "import copy\n",
        "\n",
        "device = torch.device(\"cuda\" if torch.cuda.is_available() else \"cpu\")\n",
        "device='cuda' if torch.cuda.is_available() else 'cpu'\n"
      ],
      "execution_count": null,
      "outputs": []
    },
    {
      "cell_type": "code",
      "metadata": {
        "id": "JO67COrXw5q9",
        "outputId": "88feb842-029e-4fb2-9dbf-8e6d300d8b02",
        "colab": {
          "base_uri": "https://localhost:8080/",
          "height": 34
        }
      },
      "source": [
        "from google.colab import drive\n",
        "drive.mount('/content/drive')"
      ],
      "execution_count": null,
      "outputs": [
        {
          "output_type": "stream",
          "text": [
            "Mounted at /content/drive\n"
          ],
          "name": "stdout"
        }
      ]
    },
    {
      "cell_type": "code",
      "metadata": {
        "id": "gEuv8TTPOgZt"
      },
      "source": [
        "df=pd.read_csv('RL_2.csv')\n",
        "df=df.iloc[:,1:]"
      ],
      "execution_count": null,
      "outputs": []
    },
    {
      "cell_type": "markdown",
      "metadata": {
        "id": "pf_sC6xCd_vp"
      },
      "source": [
        "## Discretizing Actions"
      ]
    },
    {
      "cell_type": "markdown",
      "metadata": {
        "id": "VLjfwISLCD-A"
      },
      "source": [
        "Get rid of the negative Volumes"
      ]
    },
    {
      "cell_type": "code",
      "metadata": {
        "id": "TQJ0DKy-AN04"
      },
      "source": [
        "df['42']=df['42'].apply(lambda x:max(x,0))"
      ],
      "execution_count": 7,
      "outputs": []
    },
    {
      "cell_type": "markdown",
      "metadata": {
        "id": "0tNo1MdDCNgo"
      },
      "source": [
        "First let's try to set up a column indicating if there has been a treatment or not, and then add this to the cuts"
      ]
    },
    {
      "cell_type": "code",
      "metadata": {
        "id": "R7oAWDV-Tc0I"
      },
      "source": [
        "df['Vaso_T/F']=(df['41']!=0.0).astype(int)\n",
        "df['Fluids_T/F']=(df['42']!=0.0).astype(int)"
      ],
      "execution_count": null,
      "outputs": []
    },
    {
      "cell_type": "markdown",
      "metadata": {
        "id": "rT7qSbuVewPo"
      },
      "source": [
        "#### Let's find quartiles of non zero Vaso rates and non zero Fluids and use it to bin the actions"
      ]
    },
    {
      "cell_type": "markdown",
      "metadata": {
        "id": "-ujkeG1YW88Q"
      },
      "source": [
        " Find non zero Vaso quartiles, and Fluid quartiles"
      ]
    },
    {
      "cell_type": "code",
      "metadata": {
        "id": "wNjaisxrW8D1",
        "outputId": "bd537b0a-e534-4e95-cca5-b8535087c4af",
        "colab": {
          "base_uri": "https://localhost:8080/"
        }
      },
      "source": [
        "df[df['41']!=0]['41'].describe()"
      ],
      "execution_count": null,
      "outputs": [
        {
          "output_type": "execute_result",
          "data": {
            "text/plain": [
              "count    454505.000000\n",
              "mean          3.294228\n",
              "std          12.740657\n",
              "min           0.000900\n",
              "25%           0.067500\n",
              "50%           0.142469\n",
              "75%           0.408000\n",
              "max        4287.142112\n",
              "Name: 41, dtype: float64"
            ]
          },
          "metadata": {
            "tags": []
          },
          "execution_count": 8
        }
      ]
    },
    {
      "cell_type": "markdown",
      "metadata": {
        "id": "xZz4osGZX7qs"
      },
      "source": [
        "Fluids"
      ]
    },
    {
      "cell_type": "code",
      "metadata": {
        "id": "_KB2n8cQX5Og",
        "outputId": "755f5666-0aa5-4002-9e78-5c22a98aeb2f",
        "colab": {
          "base_uri": "https://localhost:8080/"
        }
      },
      "source": [
        "df[df['42']!=0]['42'].describe()"
      ],
      "execution_count": null,
      "outputs": [
        {
          "output_type": "execute_result",
          "data": {
            "text/plain": [
              "count    2.033608e+06\n",
              "mean     1.771064e+02\n",
              "std      8.050111e+02\n",
              "min      6.000000e-03\n",
              "25%      1.000000e+01\n",
              "50%      5.000000e+01\n",
              "75%      2.107170e+02\n",
              "max      1.000150e+06\n",
              "Name: 42, dtype: float64"
            ]
          },
          "metadata": {
            "tags": []
          },
          "execution_count": 65
        }
      ]
    },
    {
      "cell_type": "code",
      "metadata": {
        "id": "lua9EvSsG8XD",
        "outputId": "11f84ff7-9d8d-4336-9ae9-6ad20b474d59",
        "colab": {
          "base_uri": "https://localhost:8080/"
        }
      },
      "source": [
        "df['Fluids_T/F'].value_counts(normalize=True)"
      ],
      "execution_count": null,
      "outputs": [
        {
          "output_type": "execute_result",
          "data": {
            "text/plain": [
              "0    0.581838\n",
              "1    0.418162\n",
              "Name: Fluids_T/F, dtype: float64"
            ]
          },
          "metadata": {
            "tags": []
          },
          "execution_count": 48
        }
      ]
    },
    {
      "cell_type": "markdown",
      "metadata": {
        "id": "BLRmEUYGaDXR"
      },
      "source": [
        "Let's bin based on quartiles"
      ]
    },
    {
      "cell_type": "code",
      "metadata": {
        "id": "ok5sDtknR7Xm"
      },
      "source": [
        "Vaso_cuts,vaso_bins=pd.cut(df['41'],bins=[-1e-6,0.000900/2,0.067500,0.142469,0.408000,np.inf],labels=False,retbins=True)"
      ],
      "execution_count": 8,
      "outputs": []
    },
    {
      "cell_type": "code",
      "metadata": {
        "id": "jdKxlofUarcg",
        "outputId": "b9ea9f20-1760-4671-9b60-cb9a1f2a255a",
        "colab": {
          "base_uri": "https://localhost:8080/"
        }
      },
      "source": [
        "vaso_bins"
      ],
      "execution_count": null,
      "outputs": [
        {
          "output_type": "execute_result",
          "data": {
            "text/plain": [
              "array([-1.00000e-06,  4.50000e-04,  6.75000e-02,  1.42469e-01,\n",
              "        4.08000e-01,          inf])"
            ]
          },
          "metadata": {
            "tags": []
          },
          "execution_count": 8
        }
      ]
    },
    {
      "cell_type": "code",
      "metadata": {
        "id": "-YdBxk3da9L1",
        "outputId": "f414562d-89cd-4bf0-e04a-fdf8fc60e66f",
        "colab": {
          "base_uri": "https://localhost:8080/",
          "height": 119
        }
      },
      "source": [
        "Vaso_cuts.value_counts(normalize=True)"
      ],
      "execution_count": 9,
      "outputs": [
        {
          "output_type": "execute_result",
          "data": {
            "text/plain": [
              "0    0.906542\n",
              "1    0.023898\n",
              "4    0.023369\n",
              "3    0.023357\n",
              "2    0.022834\n",
              "Name: 41, dtype: float64"
            ]
          },
          "metadata": {
            "tags": []
          },
          "execution_count": 9
        }
      ]
    },
    {
      "cell_type": "code",
      "metadata": {
        "id": "7Qr1zPnWPo8A"
      },
      "source": [
        "df['Vaso_cuts']=Vaso_cuts.values"
      ],
      "execution_count": 10,
      "outputs": []
    },
    {
      "cell_type": "code",
      "metadata": {
        "id": "mqpMnP04abRm"
      },
      "source": [
        "Fluids_cuts,fluid_bins=pd.cut(df['42'],bins=[-1e-6,6.000000e-03/2,1.000000e+01,5.000000e+01,2.107170e+02,np.inf],labels=False,retbins=True)"
      ],
      "execution_count": 11,
      "outputs": []
    },
    {
      "cell_type": "code",
      "metadata": {
        "id": "rqxTheueQIgl",
        "outputId": "e9079bb8-0df1-45ab-b4a0-3c5c9357a587",
        "colab": {
          "base_uri": "https://localhost:8080/",
          "height": 119
        }
      },
      "source": [
        "Fluids_cuts.value_counts(normalize=True)"
      ],
      "execution_count": null,
      "outputs": [
        {
          "output_type": "execute_result",
          "data": {
            "text/plain": [
              "0    0.581838\n",
              "1    0.113278\n",
              "4    0.104540\n",
              "2    0.102095\n",
              "3    0.098249\n",
              "Name: 42, dtype: float64"
            ]
          },
          "metadata": {
            "tags": []
          },
          "execution_count": 10
        }
      ]
    },
    {
      "cell_type": "code",
      "metadata": {
        "id": "jr91cN7VE63S",
        "outputId": "1eb174ee-7541-4d9a-de45-dd5cf023f7c9",
        "colab": {
          "base_uri": "https://localhost:8080/"
        }
      },
      "source": [
        "fluid_bins"
      ],
      "execution_count": null,
      "outputs": [
        {
          "output_type": "execute_result",
          "data": {
            "text/plain": [
              "array([-1.00000e-06,  3.00000e-03,  1.00000e+01,  5.00000e+01,\n",
              "        2.10717e+02,          inf])"
            ]
          },
          "metadata": {
            "tags": []
          },
          "execution_count": 105
        }
      ]
    },
    {
      "cell_type": "code",
      "metadata": {
        "id": "esrEqjufGp2j"
      },
      "source": [
        "df['Fluid_cuts']=Fluids_cuts.values"
      ],
      "execution_count": 12,
      "outputs": []
    },
    {
      "cell_type": "code",
      "metadata": {
        "id": "N9cKWM_mj3vn",
        "outputId": "753d2bc8-a08f-41ea-c0b9-ef01fb98f604",
        "colab": {
          "base_uri": "https://localhost:8080/",
          "height": 204
        }
      },
      "source": [
        "df['Fluid_cuts'].value_counts(normalize=True),df['Vaso_cuts'].value_counts(normalize=True)"
      ],
      "execution_count": 13,
      "outputs": [
        {
          "output_type": "execute_result",
          "data": {
            "text/plain": [
              "(0    0.581838\n",
              " 1    0.113278\n",
              " 4    0.104540\n",
              " 2    0.102095\n",
              " 3    0.098249\n",
              " Name: Fluid_cuts, dtype: float64, 0    0.906542\n",
              " 1    0.023898\n",
              " 4    0.023369\n",
              " 3    0.023357\n",
              " 2    0.022834\n",
              " Name: Vaso_cuts, dtype: float64)"
            ]
          },
          "metadata": {
            "tags": []
          },
          "execution_count": 13
        }
      ]
    },
    {
      "cell_type": "code",
      "metadata": {
        "id": "l-xwuCute_vV",
        "outputId": "8bc1436c-184c-4844-9986-458e6391cd5c",
        "colab": {
          "base_uri": "https://localhost:8080/",
          "height": 224
        }
      },
      "source": [
        "df.head()"
      ],
      "execution_count": null,
      "outputs": [
        {
          "output_type": "execute_result",
          "data": {
            "text/html": [
              "<div>\n",
              "<style scoped>\n",
              "    .dataframe tbody tr th:only-of-type {\n",
              "        vertical-align: middle;\n",
              "    }\n",
              "\n",
              "    .dataframe tbody tr th {\n",
              "        vertical-align: top;\n",
              "    }\n",
              "\n",
              "    .dataframe thead th {\n",
              "        text-align: right;\n",
              "    }\n",
              "</style>\n",
              "<table border=\"1\" class=\"dataframe\">\n",
              "  <thead>\n",
              "    <tr style=\"text-align: right;\">\n",
              "      <th></th>\n",
              "      <th>0</th>\n",
              "      <th>1</th>\n",
              "      <th>2</th>\n",
              "      <th>3</th>\n",
              "      <th>4</th>\n",
              "      <th>5</th>\n",
              "      <th>6</th>\n",
              "      <th>7</th>\n",
              "      <th>8</th>\n",
              "      <th>9</th>\n",
              "      <th>10</th>\n",
              "      <th>11</th>\n",
              "      <th>12</th>\n",
              "      <th>13</th>\n",
              "      <th>14</th>\n",
              "      <th>15</th>\n",
              "      <th>16</th>\n",
              "      <th>17</th>\n",
              "      <th>18</th>\n",
              "      <th>19</th>\n",
              "      <th>20</th>\n",
              "      <th>21</th>\n",
              "      <th>22</th>\n",
              "      <th>23</th>\n",
              "      <th>24</th>\n",
              "      <th>25</th>\n",
              "      <th>26</th>\n",
              "      <th>27</th>\n",
              "      <th>28</th>\n",
              "      <th>29</th>\n",
              "      <th>30</th>\n",
              "      <th>31</th>\n",
              "      <th>32</th>\n",
              "      <th>33</th>\n",
              "      <th>34</th>\n",
              "      <th>35</th>\n",
              "      <th>36</th>\n",
              "      <th>37</th>\n",
              "      <th>38</th>\n",
              "      <th>39</th>\n",
              "      <th>40</th>\n",
              "      <th>41</th>\n",
              "      <th>42</th>\n",
              "      <th>43</th>\n",
              "      <th>Vaso_cuts</th>\n",
              "      <th>Fluid_cuts</th>\n",
              "      <th>action</th>\n",
              "    </tr>\n",
              "  </thead>\n",
              "  <tbody>\n",
              "    <tr>\n",
              "      <th>0</th>\n",
              "      <td>46.0</td>\n",
              "      <td>118.0</td>\n",
              "      <td>62.0</td>\n",
              "      <td>26.0</td>\n",
              "      <td>0.0</td>\n",
              "      <td>94.0</td>\n",
              "      <td>109.0</td>\n",
              "      <td>36.388889</td>\n",
              "      <td>0.0</td>\n",
              "      <td>0.0</td>\n",
              "      <td>0.0</td>\n",
              "      <td>0.0</td>\n",
              "      <td>1.354087</td>\n",
              "      <td>-0.050696</td>\n",
              "      <td>0.226119</td>\n",
              "      <td>-0.273616</td>\n",
              "      <td>1.664569</td>\n",
              "      <td>0.619855</td>\n",
              "      <td>0.522458</td>\n",
              "      <td>0.450940</td>\n",
              "      <td>2.129651</td>\n",
              "      <td>0.279296</td>\n",
              "      <td>1.282761</td>\n",
              "      <td>-0.258103</td>\n",
              "      <td>-0.462475</td>\n",
              "      <td>-0.086368</td>\n",
              "      <td>0.014108</td>\n",
              "      <td>-0.474435</td>\n",
              "      <td>0.625043</td>\n",
              "      <td>0.389752</td>\n",
              "      <td>0.630310</td>\n",
              "      <td>0.071789</td>\n",
              "      <td>-0.213654</td>\n",
              "      <td>-0.500278</td>\n",
              "      <td>0.502859</td>\n",
              "      <td>1.030435</td>\n",
              "      <td>0.437960</td>\n",
              "      <td>65.957603</td>\n",
              "      <td>82.0</td>\n",
              "      <td>0.0</td>\n",
              "      <td>75.1</td>\n",
              "      <td>0.0</td>\n",
              "      <td>0.0</td>\n",
              "      <td>-0.250</td>\n",
              "      <td>0</td>\n",
              "      <td>0</td>\n",
              "      <td>0</td>\n",
              "    </tr>\n",
              "    <tr>\n",
              "      <th>1</th>\n",
              "      <td>41.0</td>\n",
              "      <td>111.0</td>\n",
              "      <td>58.0</td>\n",
              "      <td>23.0</td>\n",
              "      <td>2.0</td>\n",
              "      <td>95.0</td>\n",
              "      <td>109.0</td>\n",
              "      <td>36.388889</td>\n",
              "      <td>1.0</td>\n",
              "      <td>0.0</td>\n",
              "      <td>0.0</td>\n",
              "      <td>1.0</td>\n",
              "      <td>1.354087</td>\n",
              "      <td>-0.050696</td>\n",
              "      <td>0.226119</td>\n",
              "      <td>-0.273616</td>\n",
              "      <td>1.664569</td>\n",
              "      <td>0.619855</td>\n",
              "      <td>0.522458</td>\n",
              "      <td>0.450940</td>\n",
              "      <td>2.129651</td>\n",
              "      <td>0.279296</td>\n",
              "      <td>1.282761</td>\n",
              "      <td>-0.258103</td>\n",
              "      <td>-0.462475</td>\n",
              "      <td>-0.086368</td>\n",
              "      <td>0.014108</td>\n",
              "      <td>-0.474435</td>\n",
              "      <td>0.625043</td>\n",
              "      <td>0.389752</td>\n",
              "      <td>0.630310</td>\n",
              "      <td>0.071789</td>\n",
              "      <td>-0.213654</td>\n",
              "      <td>-0.500278</td>\n",
              "      <td>0.482850</td>\n",
              "      <td>0.995847</td>\n",
              "      <td>0.452339</td>\n",
              "      <td>66.413605</td>\n",
              "      <td>82.0</td>\n",
              "      <td>0.0</td>\n",
              "      <td>75.1</td>\n",
              "      <td>0.0</td>\n",
              "      <td>0.0</td>\n",
              "      <td>-0.375</td>\n",
              "      <td>0</td>\n",
              "      <td>0</td>\n",
              "      <td>0</td>\n",
              "    </tr>\n",
              "    <tr>\n",
              "      <th>2</th>\n",
              "      <td>44.0</td>\n",
              "      <td>108.0</td>\n",
              "      <td>62.0</td>\n",
              "      <td>19.0</td>\n",
              "      <td>5.0</td>\n",
              "      <td>98.0</td>\n",
              "      <td>118.0</td>\n",
              "      <td>36.388889</td>\n",
              "      <td>1.0</td>\n",
              "      <td>0.0</td>\n",
              "      <td>0.0</td>\n",
              "      <td>4.0</td>\n",
              "      <td>2.643402</td>\n",
              "      <td>-1.035373</td>\n",
              "      <td>0.226119</td>\n",
              "      <td>0.199762</td>\n",
              "      <td>0.582360</td>\n",
              "      <td>0.286389</td>\n",
              "      <td>-0.054658</td>\n",
              "      <td>0.476552</td>\n",
              "      <td>3.521104</td>\n",
              "      <td>0.664734</td>\n",
              "      <td>1.489631</td>\n",
              "      <td>0.661645</td>\n",
              "      <td>-0.696658</td>\n",
              "      <td>0.058330</td>\n",
              "      <td>-0.158973</td>\n",
              "      <td>-0.117952</td>\n",
              "      <td>0.737430</td>\n",
              "      <td>0.266840</td>\n",
              "      <td>0.538169</td>\n",
              "      <td>0.202432</td>\n",
              "      <td>-0.357259</td>\n",
              "      <td>-0.794549</td>\n",
              "      <td>0.521583</td>\n",
              "      <td>0.918802</td>\n",
              "      <td>0.458562</td>\n",
              "      <td>66.626884</td>\n",
              "      <td>82.0</td>\n",
              "      <td>0.0</td>\n",
              "      <td>75.1</td>\n",
              "      <td>0.0</td>\n",
              "      <td>0.0</td>\n",
              "      <td>-0.025</td>\n",
              "      <td>0</td>\n",
              "      <td>0</td>\n",
              "      <td>0</td>\n",
              "    </tr>\n",
              "    <tr>\n",
              "      <th>3</th>\n",
              "      <td>41.0</td>\n",
              "      <td>96.0</td>\n",
              "      <td>60.0</td>\n",
              "      <td>20.0</td>\n",
              "      <td>5.0</td>\n",
              "      <td>96.0</td>\n",
              "      <td>118.0</td>\n",
              "      <td>36.388889</td>\n",
              "      <td>1.0</td>\n",
              "      <td>0.0</td>\n",
              "      <td>0.0</td>\n",
              "      <td>4.0</td>\n",
              "      <td>2.643402</td>\n",
              "      <td>-1.035373</td>\n",
              "      <td>0.226119</td>\n",
              "      <td>0.199762</td>\n",
              "      <td>0.582360</td>\n",
              "      <td>0.286389</td>\n",
              "      <td>-0.054658</td>\n",
              "      <td>0.476552</td>\n",
              "      <td>3.521104</td>\n",
              "      <td>0.664734</td>\n",
              "      <td>1.489631</td>\n",
              "      <td>0.661645</td>\n",
              "      <td>-0.696658</td>\n",
              "      <td>0.058330</td>\n",
              "      <td>-0.158973</td>\n",
              "      <td>-0.117952</td>\n",
              "      <td>0.737430</td>\n",
              "      <td>0.266840</td>\n",
              "      <td>0.538169</td>\n",
              "      <td>0.202432</td>\n",
              "      <td>-0.357259</td>\n",
              "      <td>-0.794549</td>\n",
              "      <td>0.565697</td>\n",
              "      <td>0.881036</td>\n",
              "      <td>0.521476</td>\n",
              "      <td>67.943565</td>\n",
              "      <td>82.0</td>\n",
              "      <td>0.0</td>\n",
              "      <td>75.1</td>\n",
              "      <td>0.0</td>\n",
              "      <td>0.0</td>\n",
              "      <td>-0.025</td>\n",
              "      <td>0</td>\n",
              "      <td>0</td>\n",
              "      <td>0</td>\n",
              "    </tr>\n",
              "    <tr>\n",
              "      <th>4</th>\n",
              "      <td>46.0</td>\n",
              "      <td>95.0</td>\n",
              "      <td>65.0</td>\n",
              "      <td>20.0</td>\n",
              "      <td>5.0</td>\n",
              "      <td>93.0</td>\n",
              "      <td>124.0</td>\n",
              "      <td>36.388889</td>\n",
              "      <td>1.0</td>\n",
              "      <td>0.0</td>\n",
              "      <td>0.0</td>\n",
              "      <td>4.0</td>\n",
              "      <td>2.643402</td>\n",
              "      <td>-1.035373</td>\n",
              "      <td>0.226119</td>\n",
              "      <td>0.199762</td>\n",
              "      <td>0.582360</td>\n",
              "      <td>0.286389</td>\n",
              "      <td>-0.054658</td>\n",
              "      <td>0.476552</td>\n",
              "      <td>3.521104</td>\n",
              "      <td>0.664734</td>\n",
              "      <td>1.489631</td>\n",
              "      <td>0.661645</td>\n",
              "      <td>-0.696658</td>\n",
              "      <td>0.058330</td>\n",
              "      <td>-0.158973</td>\n",
              "      <td>-0.117952</td>\n",
              "      <td>0.737430</td>\n",
              "      <td>0.266840</td>\n",
              "      <td>0.538169</td>\n",
              "      <td>0.202432</td>\n",
              "      <td>-0.357259</td>\n",
              "      <td>-0.794549</td>\n",
              "      <td>0.604537</td>\n",
              "      <td>0.859168</td>\n",
              "      <td>0.516133</td>\n",
              "      <td>67.920723</td>\n",
              "      <td>82.0</td>\n",
              "      <td>0.0</td>\n",
              "      <td>75.1</td>\n",
              "      <td>0.0</td>\n",
              "      <td>0.0</td>\n",
              "      <td>-0.025</td>\n",
              "      <td>0</td>\n",
              "      <td>0</td>\n",
              "      <td>0</td>\n",
              "    </tr>\n",
              "  </tbody>\n",
              "</table>\n",
              "</div>"
            ],
            "text/plain": [
              "      0      1     2     3    4  ...   42     43  Vaso_cuts  Fluid_cuts  action\n",
              "0  46.0  118.0  62.0  26.0  0.0  ...  0.0 -0.250          0           0       0\n",
              "1  41.0  111.0  58.0  23.0  2.0  ...  0.0 -0.375          0           0       0\n",
              "2  44.0  108.0  62.0  19.0  5.0  ...  0.0 -0.025          0           0       0\n",
              "3  41.0   96.0  60.0  20.0  5.0  ...  0.0 -0.025          0           0       0\n",
              "4  46.0   95.0  65.0  20.0  5.0  ...  0.0 -0.025          0           0       0\n",
              "\n",
              "[5 rows x 47 columns]"
            ]
          },
          "metadata": {
            "tags": []
          },
          "execution_count": 47
        }
      ]
    },
    {
      "cell_type": "markdown",
      "metadata": {
        "id": "Ll0yECQkfD4p"
      },
      "source": [
        "#### Final 25 element discrete action set:"
      ]
    },
    {
      "cell_type": "code",
      "metadata": {
        "id": "Wy2r4d1nfBo6"
      },
      "source": [
        "all_acts=np.arange(25).reshape(5,5)"
      ],
      "execution_count": 14,
      "outputs": []
    },
    {
      "cell_type": "code",
      "metadata": {
        "id": "nZI-YZuojBe_",
        "outputId": "dfc3554e-eb11-4bac-9e80-b94b1bb14b9d",
        "colab": {
          "base_uri": "https://localhost:8080/"
        }
      },
      "source": [
        "all_acts\n"
      ],
      "execution_count": null,
      "outputs": [
        {
          "output_type": "execute_result",
          "data": {
            "text/plain": [
              "array([[ 0,  1,  2,  3,  4],\n",
              "       [ 5,  6,  7,  8,  9],\n",
              "       [10, 11, 12, 13, 14],\n",
              "       [15, 16, 17, 18, 19],\n",
              "       [20, 21, 22, 23, 24]])"
            ]
          },
          "metadata": {
            "tags": []
          },
          "execution_count": 13
        }
      ]
    },
    {
      "cell_type": "code",
      "metadata": {
        "id": "lVg9LwWwjNNQ"
      },
      "source": [
        "df['action']=all_acts[df.Vaso_cuts,df.Fluid_cuts]"
      ],
      "execution_count": 15,
      "outputs": []
    },
    {
      "cell_type": "code",
      "metadata": {
        "id": "1ypDtM84kWEn",
        "outputId": "c0709828-685c-4434-dcec-a67587d37efd",
        "colab": {
          "base_uri": "https://localhost:8080/",
          "height": 459
        }
      },
      "source": [
        "df['action'].value_counts(normalize=True)"
      ],
      "execution_count": 16,
      "outputs": [
        {
          "output_type": "execute_result",
          "data": {
            "text/plain": [
              "0     0.551102\n",
              "1     0.095689\n",
              "4     0.092879\n",
              "3     0.085614\n",
              "2     0.081257\n",
              "5     0.008484\n",
              "10    0.008193\n",
              "15    0.007280\n",
              "20    0.006778\n",
              "22    0.006035\n",
              "6     0.005731\n",
              "17    0.005174\n",
              "7     0.004983\n",
              "12    0.004646\n",
              "11    0.004206\n",
              "16    0.004031\n",
              "21    0.003621\n",
              "18    0.003531\n",
              "24    0.003531\n",
              "23    0.003404\n",
              "19    0.003341\n",
              "13    0.003092\n",
              "14    0.002698\n",
              "8     0.002609\n",
              "9     0.002091\n",
              "Name: action, dtype: float64"
            ]
          },
          "metadata": {
            "tags": []
          },
          "execution_count": 16
        }
      ]
    },
    {
      "cell_type": "code",
      "metadata": {
        "id": "e5tUqh5nlbcZ",
        "outputId": "ad41262f-b162-46b8-8132-d411563bc714",
        "colab": {
          "base_uri": "https://localhost:8080/"
        }
      },
      "source": [
        "df.columns"
      ],
      "execution_count": null,
      "outputs": [
        {
          "output_type": "execute_result",
          "data": {
            "text/plain": [
              "Index(['0', '1', '2', '3', '4', '5', '6', '7', '8', '9', '10', '11', '12',\n",
              "       '13', '14', '15', '16', '17', '18', '19', '20', '21', '22', '23', '24',\n",
              "       '25', '26', '27', '28', '29', '30', '31', '32', '33', '34', '35', '36',\n",
              "       '37', '38', '39', '40', '41', '42', '43', 'No_vaso', 'No_Fluids',\n",
              "       'Vaso_T/F', 'Fluids_T/F', 'Vaso_cuts', 'Fluid_cuts', 'action'],\n",
              "      dtype='object')"
            ]
          },
          "metadata": {
            "tags": []
          },
          "execution_count": 125
        }
      ]
    },
    {
      "cell_type": "markdown",
      "metadata": {
        "id": "KJiGcaQmd53o"
      },
      "source": [
        "### Normalize some columns"
      ]
    },
    {
      "cell_type": "code",
      "metadata": {
        "id": "EmsSqvAMOjZB"
      },
      "source": [
        "temp=df.describe()\n",
        "means=temp.loc['mean'].values\n",
        "stds=temp.loc['std'].values\n",
        "\n",
        "cols=[0,1,2,3,4,5,6,7,11,38,40]\n",
        "\n",
        "df.iloc[:,cols]=(df.iloc[:,cols]-means[cols])/stds[cols]"
      ],
      "execution_count": 17,
      "outputs": []
    },
    {
      "cell_type": "code",
      "metadata": {
        "id": "Xox3_csmSNLL",
        "outputId": "ebf44008-3304-47dc-de9b-5a29753044cd",
        "colab": {
          "base_uri": "https://localhost:8080/",
          "height": 204
        }
      },
      "source": [
        "means"
      ],
      "execution_count": null,
      "outputs": [
        {
          "output_type": "execute_result",
          "data": {
            "text/plain": [
              "array([ 6.10516501e+01,  8.58273762e+01,  7.92426131e+01,  2.04898922e+01,\n",
              "        5.01451572e+00,  9.69608508e+01,  1.22969488e+02,  3.68584679e+01,\n",
              "        9.81975564e-01,  1.46565705e+00,  3.55564596e-01,  1.11590816e+00,\n",
              "       -1.81130535e-01,  1.44406739e-01, -2.60957833e-02,  2.73962882e-02,\n",
              "       -8.49182310e-02, -1.21395924e-01, -1.95291586e-01,  1.17347470e-01,\n",
              "       -6.53730051e-02,  4.81292435e-02,  1.83998721e-02, -8.83261583e-03,\n",
              "        1.66786174e-01,  1.53489572e-01, -4.13890258e-01,  1.44375674e-01,\n",
              "        9.74360039e-02, -5.18692390e-01, -4.22981059e-02,  2.25997100e-01,\n",
              "        1.50821006e-01, -1.43958070e-02,  8.30747706e-01,  1.22739589e+00,\n",
              "        6.55076381e-01,  6.86925131e+01,  6.45461807e+01,  5.79334730e-01,\n",
              "        8.28079896e+01,  2.87738281e-01,  7.31972110e+01,  2.31048253e-02])"
            ]
          },
          "metadata": {
            "tags": []
          },
          "execution_count": 25
        }
      ]
    },
    {
      "cell_type": "code",
      "metadata": {
        "id": "9ohBIa4pUK47",
        "outputId": "73b2990e-ca7f-48e5-b08d-b50257e084e3",
        "colab": {
          "base_uri": "https://localhost:8080/",
          "height": 204
        }
      },
      "source": [
        "stds"
      ],
      "execution_count": null,
      "outputs": [
        {
          "output_type": "execute_result",
          "data": {
            "text/plain": [
              "array([1.43773336e+01, 1.62935055e+01, 1.55328782e+01, 5.68626569e+00,\n",
              "       3.63318264e+00, 2.98583709e+00, 2.15652101e+01, 7.25869497e-01,\n",
              "       9.40552482e-01, 1.37994811e+00, 9.15302747e-01, 1.43479946e+00,\n",
              "       8.83415344e-01, 9.49437179e-01, 9.32259612e-01, 9.25629998e-01,\n",
              "       7.24986223e-01, 7.92938237e-01, 7.84110025e-01, 1.05471056e+00,\n",
              "       8.18574593e-01, 8.90501291e-01, 9.66663700e-01, 7.26903595e-01,\n",
              "       4.20460721e-01, 4.07409584e-01, 3.37655265e-01, 3.63527999e-01,\n",
              "       3.64973140e-01, 3.48002144e-01, 3.52433500e-01, 3.65747372e-01,\n",
              "       4.12381825e-01, 3.53033810e-01, 2.01268080e-01, 4.51708516e-01,\n",
              "       1.33722613e-01, 1.50245920e+00, 1.59252179e+01, 4.93665930e-01,\n",
              "       2.50102486e+01, 2.64738699e+00, 2.16311372e+02, 9.30323750e-01])"
            ]
          },
          "metadata": {
            "tags": []
          },
          "execution_count": 23
        }
      ]
    },
    {
      "cell_type": "code",
      "metadata": {
        "id": "LtZPzXi5dCxB",
        "outputId": "83bd2afc-49a6-4f94-cd20-d7aaf14532b8",
        "colab": {
          "base_uri": "https://localhost:8080/",
          "height": 224
        }
      },
      "source": [
        "df.head()"
      ],
      "execution_count": null,
      "outputs": [
        {
          "output_type": "execute_result",
          "data": {
            "text/html": [
              "<div>\n",
              "<style scoped>\n",
              "    .dataframe tbody tr th:only-of-type {\n",
              "        vertical-align: middle;\n",
              "    }\n",
              "\n",
              "    .dataframe tbody tr th {\n",
              "        vertical-align: top;\n",
              "    }\n",
              "\n",
              "    .dataframe thead th {\n",
              "        text-align: right;\n",
              "    }\n",
              "</style>\n",
              "<table border=\"1\" class=\"dataframe\">\n",
              "  <thead>\n",
              "    <tr style=\"text-align: right;\">\n",
              "      <th></th>\n",
              "      <th>0</th>\n",
              "      <th>1</th>\n",
              "      <th>2</th>\n",
              "      <th>3</th>\n",
              "      <th>4</th>\n",
              "      <th>5</th>\n",
              "      <th>6</th>\n",
              "      <th>7</th>\n",
              "      <th>8</th>\n",
              "      <th>9</th>\n",
              "      <th>10</th>\n",
              "      <th>11</th>\n",
              "      <th>12</th>\n",
              "      <th>13</th>\n",
              "      <th>14</th>\n",
              "      <th>15</th>\n",
              "      <th>16</th>\n",
              "      <th>17</th>\n",
              "      <th>18</th>\n",
              "      <th>19</th>\n",
              "      <th>20</th>\n",
              "      <th>21</th>\n",
              "      <th>22</th>\n",
              "      <th>23</th>\n",
              "      <th>24</th>\n",
              "      <th>25</th>\n",
              "      <th>26</th>\n",
              "      <th>27</th>\n",
              "      <th>28</th>\n",
              "      <th>29</th>\n",
              "      <th>30</th>\n",
              "      <th>31</th>\n",
              "      <th>32</th>\n",
              "      <th>33</th>\n",
              "      <th>34</th>\n",
              "      <th>35</th>\n",
              "      <th>36</th>\n",
              "      <th>37</th>\n",
              "      <th>38</th>\n",
              "      <th>39</th>\n",
              "      <th>40</th>\n",
              "      <th>41</th>\n",
              "      <th>42</th>\n",
              "      <th>43</th>\n",
              "      <th>No_vaso</th>\n",
              "      <th>No_Fluids</th>\n",
              "      <th>Vaso_T/F</th>\n",
              "      <th>Fluids_T/F</th>\n",
              "      <th>Vaso_cuts</th>\n",
              "      <th>Fluid_cuts</th>\n",
              "    </tr>\n",
              "  </thead>\n",
              "  <tbody>\n",
              "    <tr>\n",
              "      <th>0</th>\n",
              "      <td>-1.046870</td>\n",
              "      <td>1.974396</td>\n",
              "      <td>-1.110013</td>\n",
              "      <td>0.969004</td>\n",
              "      <td>-1.378317</td>\n",
              "      <td>-0.991096</td>\n",
              "      <td>-0.647660</td>\n",
              "      <td>-0.646901</td>\n",
              "      <td>0.0</td>\n",
              "      <td>0.0</td>\n",
              "      <td>0.0</td>\n",
              "      <td>-0.777651</td>\n",
              "      <td>1.354087</td>\n",
              "      <td>-0.050696</td>\n",
              "      <td>0.226119</td>\n",
              "      <td>-0.273616</td>\n",
              "      <td>1.664569</td>\n",
              "      <td>0.619855</td>\n",
              "      <td>0.522458</td>\n",
              "      <td>0.450940</td>\n",
              "      <td>2.129651</td>\n",
              "      <td>0.279296</td>\n",
              "      <td>1.282761</td>\n",
              "      <td>-0.258103</td>\n",
              "      <td>-0.462475</td>\n",
              "      <td>-0.086368</td>\n",
              "      <td>0.014108</td>\n",
              "      <td>-0.474435</td>\n",
              "      <td>0.625043</td>\n",
              "      <td>0.389752</td>\n",
              "      <td>0.630310</td>\n",
              "      <td>0.071789</td>\n",
              "      <td>-0.213654</td>\n",
              "      <td>-0.500278</td>\n",
              "      <td>0.502859</td>\n",
              "      <td>1.030435</td>\n",
              "      <td>0.437960</td>\n",
              "      <td>65.957603</td>\n",
              "      <td>1.096018</td>\n",
              "      <td>0.0</td>\n",
              "      <td>-0.308252</td>\n",
              "      <td>0.0</td>\n",
              "      <td>0.0</td>\n",
              "      <td>-0.250</td>\n",
              "      <td>1</td>\n",
              "      <td>1</td>\n",
              "      <td>0</td>\n",
              "      <td>0</td>\n",
              "      <td>0</td>\n",
              "      <td>0</td>\n",
              "    </tr>\n",
              "    <tr>\n",
              "      <th>1</th>\n",
              "      <td>-1.394644</td>\n",
              "      <td>1.544799</td>\n",
              "      <td>-1.367532</td>\n",
              "      <td>0.441438</td>\n",
              "      <td>-0.828779</td>\n",
              "      <td>-0.656335</td>\n",
              "      <td>-0.647660</td>\n",
              "      <td>-0.646901</td>\n",
              "      <td>1.0</td>\n",
              "      <td>0.0</td>\n",
              "      <td>0.0</td>\n",
              "      <td>-0.080965</td>\n",
              "      <td>1.354087</td>\n",
              "      <td>-0.050696</td>\n",
              "      <td>0.226119</td>\n",
              "      <td>-0.273616</td>\n",
              "      <td>1.664569</td>\n",
              "      <td>0.619855</td>\n",
              "      <td>0.522458</td>\n",
              "      <td>0.450940</td>\n",
              "      <td>2.129651</td>\n",
              "      <td>0.279296</td>\n",
              "      <td>1.282761</td>\n",
              "      <td>-0.258103</td>\n",
              "      <td>-0.462475</td>\n",
              "      <td>-0.086368</td>\n",
              "      <td>0.014108</td>\n",
              "      <td>-0.474435</td>\n",
              "      <td>0.625043</td>\n",
              "      <td>0.389752</td>\n",
              "      <td>0.630310</td>\n",
              "      <td>0.071789</td>\n",
              "      <td>-0.213654</td>\n",
              "      <td>-0.500278</td>\n",
              "      <td>0.482850</td>\n",
              "      <td>0.995847</td>\n",
              "      <td>0.452339</td>\n",
              "      <td>66.413605</td>\n",
              "      <td>1.096018</td>\n",
              "      <td>0.0</td>\n",
              "      <td>-0.308252</td>\n",
              "      <td>0.0</td>\n",
              "      <td>0.0</td>\n",
              "      <td>-0.375</td>\n",
              "      <td>1</td>\n",
              "      <td>1</td>\n",
              "      <td>0</td>\n",
              "      <td>0</td>\n",
              "      <td>0</td>\n",
              "      <td>0</td>\n",
              "    </tr>\n",
              "    <tr>\n",
              "      <th>2</th>\n",
              "      <td>-1.185979</td>\n",
              "      <td>1.360686</td>\n",
              "      <td>-1.110013</td>\n",
              "      <td>-0.261983</td>\n",
              "      <td>-0.004472</td>\n",
              "      <td>0.347947</td>\n",
              "      <td>-0.230333</td>\n",
              "      <td>-0.646901</td>\n",
              "      <td>1.0</td>\n",
              "      <td>0.0</td>\n",
              "      <td>0.0</td>\n",
              "      <td>2.009094</td>\n",
              "      <td>2.643402</td>\n",
              "      <td>-1.035373</td>\n",
              "      <td>0.226119</td>\n",
              "      <td>0.199762</td>\n",
              "      <td>0.582360</td>\n",
              "      <td>0.286389</td>\n",
              "      <td>-0.054658</td>\n",
              "      <td>0.476552</td>\n",
              "      <td>3.521104</td>\n",
              "      <td>0.664734</td>\n",
              "      <td>1.489631</td>\n",
              "      <td>0.661645</td>\n",
              "      <td>-0.696658</td>\n",
              "      <td>0.058330</td>\n",
              "      <td>-0.158973</td>\n",
              "      <td>-0.117952</td>\n",
              "      <td>0.737430</td>\n",
              "      <td>0.266840</td>\n",
              "      <td>0.538169</td>\n",
              "      <td>0.202432</td>\n",
              "      <td>-0.357259</td>\n",
              "      <td>-0.794549</td>\n",
              "      <td>0.521583</td>\n",
              "      <td>0.918802</td>\n",
              "      <td>0.458562</td>\n",
              "      <td>66.626884</td>\n",
              "      <td>1.096018</td>\n",
              "      <td>0.0</td>\n",
              "      <td>-0.308252</td>\n",
              "      <td>0.0</td>\n",
              "      <td>0.0</td>\n",
              "      <td>-0.025</td>\n",
              "      <td>1</td>\n",
              "      <td>1</td>\n",
              "      <td>0</td>\n",
              "      <td>0</td>\n",
              "      <td>0</td>\n",
              "      <td>0</td>\n",
              "    </tr>\n",
              "    <tr>\n",
              "      <th>3</th>\n",
              "      <td>-1.394644</td>\n",
              "      <td>0.624235</td>\n",
              "      <td>-1.238772</td>\n",
              "      <td>-0.086127</td>\n",
              "      <td>-0.004472</td>\n",
              "      <td>-0.321574</td>\n",
              "      <td>-0.230333</td>\n",
              "      <td>-0.646901</td>\n",
              "      <td>1.0</td>\n",
              "      <td>0.0</td>\n",
              "      <td>0.0</td>\n",
              "      <td>2.009094</td>\n",
              "      <td>2.643402</td>\n",
              "      <td>-1.035373</td>\n",
              "      <td>0.226119</td>\n",
              "      <td>0.199762</td>\n",
              "      <td>0.582360</td>\n",
              "      <td>0.286389</td>\n",
              "      <td>-0.054658</td>\n",
              "      <td>0.476552</td>\n",
              "      <td>3.521104</td>\n",
              "      <td>0.664734</td>\n",
              "      <td>1.489631</td>\n",
              "      <td>0.661645</td>\n",
              "      <td>-0.696658</td>\n",
              "      <td>0.058330</td>\n",
              "      <td>-0.158973</td>\n",
              "      <td>-0.117952</td>\n",
              "      <td>0.737430</td>\n",
              "      <td>0.266840</td>\n",
              "      <td>0.538169</td>\n",
              "      <td>0.202432</td>\n",
              "      <td>-0.357259</td>\n",
              "      <td>-0.794549</td>\n",
              "      <td>0.565697</td>\n",
              "      <td>0.881036</td>\n",
              "      <td>0.521476</td>\n",
              "      <td>67.943565</td>\n",
              "      <td>1.096018</td>\n",
              "      <td>0.0</td>\n",
              "      <td>-0.308252</td>\n",
              "      <td>0.0</td>\n",
              "      <td>0.0</td>\n",
              "      <td>-0.025</td>\n",
              "      <td>1</td>\n",
              "      <td>1</td>\n",
              "      <td>0</td>\n",
              "      <td>0</td>\n",
              "      <td>0</td>\n",
              "      <td>0</td>\n",
              "    </tr>\n",
              "    <tr>\n",
              "      <th>4</th>\n",
              "      <td>-1.046870</td>\n",
              "      <td>0.562864</td>\n",
              "      <td>-0.916875</td>\n",
              "      <td>-0.086127</td>\n",
              "      <td>-0.004472</td>\n",
              "      <td>-1.325856</td>\n",
              "      <td>0.047884</td>\n",
              "      <td>-0.646901</td>\n",
              "      <td>1.0</td>\n",
              "      <td>0.0</td>\n",
              "      <td>0.0</td>\n",
              "      <td>2.009094</td>\n",
              "      <td>2.643402</td>\n",
              "      <td>-1.035373</td>\n",
              "      <td>0.226119</td>\n",
              "      <td>0.199762</td>\n",
              "      <td>0.582360</td>\n",
              "      <td>0.286389</td>\n",
              "      <td>-0.054658</td>\n",
              "      <td>0.476552</td>\n",
              "      <td>3.521104</td>\n",
              "      <td>0.664734</td>\n",
              "      <td>1.489631</td>\n",
              "      <td>0.661645</td>\n",
              "      <td>-0.696658</td>\n",
              "      <td>0.058330</td>\n",
              "      <td>-0.158973</td>\n",
              "      <td>-0.117952</td>\n",
              "      <td>0.737430</td>\n",
              "      <td>0.266840</td>\n",
              "      <td>0.538169</td>\n",
              "      <td>0.202432</td>\n",
              "      <td>-0.357259</td>\n",
              "      <td>-0.794549</td>\n",
              "      <td>0.604537</td>\n",
              "      <td>0.859168</td>\n",
              "      <td>0.516133</td>\n",
              "      <td>67.920723</td>\n",
              "      <td>1.096018</td>\n",
              "      <td>0.0</td>\n",
              "      <td>-0.308252</td>\n",
              "      <td>0.0</td>\n",
              "      <td>0.0</td>\n",
              "      <td>-0.025</td>\n",
              "      <td>1</td>\n",
              "      <td>1</td>\n",
              "      <td>0</td>\n",
              "      <td>0</td>\n",
              "      <td>0</td>\n",
              "      <td>0</td>\n",
              "    </tr>\n",
              "  </tbody>\n",
              "</table>\n",
              "</div>"
            ],
            "text/plain": [
              "          0         1         2  ...  Fluids_T/F  Vaso_cuts  Fluid_cuts\n",
              "0 -1.046870  1.974396 -1.110013  ...           0          0           0\n",
              "1 -1.394644  1.544799 -1.367532  ...           0          0           0\n",
              "2 -1.185979  1.360686 -1.110013  ...           0          0           0\n",
              "3 -1.394644  0.624235 -1.238772  ...           0          0           0\n",
              "4 -1.046870  0.562864 -0.916875  ...           0          0           0\n",
              "\n",
              "[5 rows x 50 columns]"
            ]
          },
          "metadata": {
            "tags": []
          },
          "execution_count": 102
        }
      ]
    },
    {
      "cell_type": "markdown",
      "metadata": {
        "id": "3b6qwNc6xPyU"
      },
      "source": [
        "### Data set class for Discrete RL"
      ]
    },
    {
      "cell_type": "code",
      "metadata": {
        "id": "QjhgYgWxs3jt"
      },
      "source": [
        "class Discrete_RL_dataset(Dataset):\n",
        "  \"\"\"\n",
        "   Need the df Ready and scaled\n",
        "   Normalization is Done before\n",
        "\n",
        "  \"\"\"\n",
        "\n",
        "  def __init__(self,scale_rewards=False,df=df):\n",
        "    self.scale_rewards=scale_rewards\n",
        "    self.df=df\n",
        "\n",
        "  def __len__(self):\n",
        "    return df.shape[0]\n",
        "\n",
        "  def __getitem__(self,idx):\n",
        "    temp=self.df.iloc[idx,:]\n",
        "    # Rewards is always +- 15 at the terminal step and \n",
        "    done=int(np.abs(temp['43'])==15)\n",
        "    states=torch.FloatTensor(temp.iloc[:41].values).to(device)\n",
        "    assert states.shape==(41,)\n",
        "    if done:\n",
        "      next_states=torch.zeros_like(states).to(device)\n",
        "    else:\n",
        "      next_states=torch.FloatTensor(self.df.iloc[idx+1,:].values[:41]).to(device)\n",
        "\n",
        "    assert next_states.shape==(41,)\n",
        "\n",
        "    reward=temp['43']\n",
        "    if self.scale_rewards:\n",
        "      reward=(rewards-2.313230e-02)/9.304778e-01\n",
        "    \n",
        "    action=int(temp.action)\n",
        "\n",
        "    # assert actions.shape==(2,)\n",
        "\n",
        "    return states,next_states,action,reward,done\n",
        "    "
      ],
      "execution_count": 18,
      "outputs": []
    },
    {
      "cell_type": "code",
      "metadata": {
        "id": "CVjHKl2zQnd1"
      },
      "source": [
        "ds=Discrete_RL_dataset()\n",
        "loader=DataLoader(ds,batch_size=64*2,shuffle=True)"
      ],
      "execution_count": 19,
      "outputs": []
    },
    {
      "cell_type": "code",
      "metadata": {
        "id": "Q1keoB58lzyQ",
        "outputId": "fa4f1aaa-331c-431b-d117-a9a8caeba43a",
        "colab": {
          "base_uri": "https://localhost:8080/"
        }
      },
      "source": [
        "ds[980]"
      ],
      "execution_count": null,
      "outputs": [
        {
          "output_type": "execute_result",
          "data": {
            "text/plain": [
              "(tensor([ 6.6008e-02, -9.7141e-01, -4.0184e-01, -8.6127e-02, -8.2878e-01,\n",
              "          6.8271e-01, -7.8677e-01, -1.3357e+00,  1.0000e+00,  1.0000e+00,\n",
              "          0.0000e+00, -7.7765e-01, -1.4824e+00,  3.1003e+00, -4.7004e-01,\n",
              "         -2.1671e+00, -6.9930e-02,  2.7027e-02, -4.2191e-01,  1.3858e+00,\n",
              "         -8.0786e-01, -6.8430e-01, -3.7220e-01, -9.5795e-02,  7.0819e-01,\n",
              "          8.4326e-01, -6.2902e-01, -5.6409e-01, -8.9073e-01, -5.4102e-01,\n",
              "         -2.3203e-01,  5.2767e-01,  6.9346e-01, -2.7490e-01,  9.0433e-01,\n",
              "          1.5054e+00,  7.7138e-01,  7.0097e+01,  3.4248e-01,  1.0000e+00,\n",
              "          3.7781e+00]),\n",
              " tensor([-1.6729e+00, -1.0942e+00, -1.6894e+00, -7.8955e-01, -8.2878e-01,\n",
              "          6.8271e-01, -1.0650e+00, -1.3357e+00,  1.0000e+00,  1.0000e+00,\n",
              "          0.0000e+00, -7.7765e-01, -1.4824e+00,  3.1003e+00, -4.7004e-01,\n",
              "         -2.1671e+00, -6.9930e-02,  2.7027e-02, -4.2191e-01,  1.3858e+00,\n",
              "         -8.0786e-01, -6.8430e-01, -3.7220e-01, -9.5795e-02,  7.0819e-01,\n",
              "          8.4326e-01, -6.2902e-01, -5.6409e-01, -8.9073e-01, -5.4102e-01,\n",
              "         -2.3203e-01,  5.2767e-01,  6.9346e-01, -2.7490e-01,  6.7987e-01,\n",
              "          1.1381e+00,  7.6055e-01,  7.0303e+01,  3.4248e-01,  1.0000e+00,\n",
              "          3.7781e+00]),\n",
              " 0,\n",
              " -0.025,\n",
              " 0)"
            ]
          },
          "metadata": {
            "tags": []
          },
          "execution_count": 48
        }
      ]
    },
    {
      "cell_type": "markdown",
      "metadata": {
        "id": "NmnJe60kxUia"
      },
      "source": [
        "### BCQ Moduels"
      ]
    },
    {
      "cell_type": "code",
      "metadata": {
        "id": "3Osso-n2mMz3"
      },
      "source": [
        "import copy\n",
        "import numpy as np\n",
        "import torch\n",
        "import torch.nn as nn\n",
        "import torch.nn.functional as F\n"
      ],
      "execution_count": 20,
      "outputs": []
    },
    {
      "cell_type": "code",
      "metadata": {
        "id": "kIuK-yDRmU9J"
      },
      "source": [
        "class FC_Q(nn.Module):\n",
        "\tdef __init__(self, state_dim, num_actions,q_layers=4,i_layers=4):\n",
        "\t\tsuper(FC_Q, self).__init__()\n",
        "\t\tself.q1 = nn.Linear(state_dim, 512)\n",
        "\t\tself.q2 = nn.Linear(512, 512)\n",
        "\t\tself.q3 = nn.Linear(512, num_actions)\n",
        "    \n",
        "\t\tself.i1 = nn.Linear(state_dim,512)\n",
        "\t\tself.i2 = nn.Linear(512, 512)\n",
        "\t\tself.i3 = nn.Linear(512, num_actions)\t\t\n",
        "\n",
        "\n",
        "\tdef forward(self, state):\n",
        "\t\tq = F.relu(self.q1(state))\n",
        "\t\tq = F.relu(self.q2(q))\n",
        "\n",
        "\t\ti = F.relu(self.i1(state))\n",
        "\t\ti = F.relu(self.i2(i))\n",
        "\t\ti = F.relu(self.i3(i))\n",
        "\t\treturn self.q3(q), F.log_softmax(i, dim=1), i"
      ],
      "execution_count": 21,
      "outputs": []
    },
    {
      "cell_type": "code",
      "metadata": {
        "id": "OxaO0AZ0mZoT"
      },
      "source": [
        "class discrete_BCQ(object):\n",
        "  def __init__(\n",
        "\t\tself, \n",
        "\t\tis_atari,\n",
        "\t\tnum_actions,\n",
        "\t\tstate_dim,\n",
        "\t\tdevice,\n",
        "\t\tBCQ_threshold=0.3,\n",
        "\t\tdiscount=0.99,\n",
        "\t\toptimizer=\"Adam\",\n",
        "\t\toptimizer_parameters={},\n",
        "\t\tpolyak_target_update=False,\n",
        "\t\ttarget_update_frequency=8e3,\n",
        "\t\ttau=0.005,\n",
        "\t\tinitial_eps = 1,\n",
        "\t\tend_eps = 0.001,\n",
        "\t\teps_decay_period = 25e4,\n",
        "\t\teval_eps=0.001,\n",
        "\t):\n",
        "\t\n",
        "\t\t  self.device = device\n",
        "\n",
        "\t\t  # Determine network type\n",
        "\t\t  self.Q = FC_Q(state_dim, num_actions).to(self.device)\n",
        "\t\t  self.Q_target = copy.deepcopy(self.Q)\n",
        "\t\t  self.Q_optimizer = getattr(torch.optim, optimizer)(self.Q.parameters(), **optimizer_parameters)\n",
        "\n",
        "\t\t  self.discount = discount\n",
        "\n",
        "\t\t  # Target update rule\n",
        "\t\t  self.maybe_update_target = self.polyak_target_update if polyak_target_update else self.copy_target_update\n",
        "\t\t  self.target_update_frequency = target_update_frequency\n",
        "\t\t  self.tau = tau\n",
        "\n",
        "\t\t  # Decay for eps\n",
        "\t\t  self.initial_eps = initial_eps\n",
        "\t\t  self.end_eps = end_eps\n",
        "\t\t  self.slope = (self.end_eps - self.initial_eps) / eps_decay_period\n",
        "\n",
        "\t\t  # Evaluation hyper-parameters\n",
        "\t\t  self.state_shape =(-1, state_dim)\n",
        "\t\t  self.eval_eps = eval_eps\n",
        "\t\t  self.num_actions = num_actions\n",
        "\n",
        "\t\t  # Threshold for \"unlikely\" actions\n",
        "\t\t  self.threshold = BCQ_threshold\n",
        "\n",
        "\t\t  # Number of training iterations\n",
        "\t\t  self.iterations = 0\n",
        "\n",
        "\n",
        "  def select_action(self, state, eval=False):\n",
        "\t\t# Select action according to policy with probability (1-eps)\n",
        "\t\t# otherwise, select random action\n",
        "\t\t  if np.random.uniform(0,1) > self.eval_eps:\n",
        "\t\t\t  with torch.no_grad():\n",
        "\t\t\t\t  state = torch.FloatTensor(state).reshape(self.state_shape).to(self.device)\n",
        "\t\t\t\t  q, imt, i = self.Q(state)\n",
        "\t\t\t\t  imt = imt.exp()\n",
        "\t\t\t\t  imt = (imt/imt.max(1, keepdim=True)[0] > self.threshold).float()\n",
        "\t\t\t\t  # Use large negative number to mask actions from argmax\n",
        "\t\t\t\t  return ((imt * q + (1. - imt) * -1e8).argmax(1))  #int((imt * q + (1. - imt) * -1e8).argmax(1))\n",
        "\t\t\t\t\t\n",
        "\t\t  else:\n",
        "\t\t\t  return np.random.randint(self.num_actions)\n",
        "   \n",
        "  def train_epoch(self,data_loader,it=0):\n",
        "    sum_q_loss=0\n",
        "    sum_i_loss=0\n",
        "    for batch,(state,next_state,action,reward,done) in enumerate(data_loader):\n",
        "       # Compute the target Q value\n",
        "      \n",
        "      with torch.no_grad():\n",
        "          batch_size=state.shape[0]\n",
        "          action=torch.LongTensor(action.reshape(batch_size,1)).to(device)\n",
        "          reward=torch.FloatTensor(reward.reshape(batch_size,1).cpu().numpy()).to(device)\n",
        "          done=done.reshape(batch_size,1).to(device)\n",
        "          \n",
        "          \n",
        "          q, imt, i = self.Q(next_state)\n",
        "          imt = imt.exp()\n",
        "          imt = (imt/imt.max(1, keepdim=True)[0] > self.threshold).float()\n",
        "\n",
        "          # Use large negative number to mask actions from argmax\n",
        "          next_action = (imt * q + (1 - imt) * -1e8).argmax(1, keepdim=True)\n",
        "\n",
        "          q, imt, i = self.Q_target(next_state)\n",
        "          target_Q = reward + done * self.discount * q.gather(1, next_action).reshape(-1, 1)\n",
        "\n",
        "      current_Q, imt, i = self.Q(state)\n",
        "      current_Q = current_Q.gather(1, action)\n",
        "\n",
        "      # Compute Q loss\n",
        "      q_loss = F.smooth_l1_loss(current_Q, target_Q)\n",
        "      i_loss = F.nll_loss(imt, action.reshape(-1))\n",
        "\n",
        "      Q_loss = q_loss + i_loss + 1e-2 * i.pow(2).mean()\n",
        "      sum_q_loss+=q_loss.item()\n",
        "      sum_i_loss+=i_loss.item()\n",
        "\t \n",
        "      if batch%25==0:\n",
        "        print('Epoch :',it,'Batch :', batch,'Average q Loss :',sum_q_loss/(batch+1))\n",
        "        print('Epoch :',it,'Batch :', batch,'Average i Loss :',sum_i_loss/(batch+1))\n",
        "\n",
        "\n",
        "      # Optimize the Q\n",
        "      self.Q_optimizer.zero_grad()\n",
        "      Q_loss.backward()\n",
        "      self.Q_optimizer.step()\n",
        "\n",
        "\t\t  # Update target network by polyak or full copy every X iterations.\n",
        "      self.iterations += 1\n",
        "      self.maybe_update_target()\n",
        "\n",
        "  def polyak_target_update(self):\n",
        "      for param, target_param in zip(self.Q.parameters(), self.Q_target.parameters()):\n",
        "        target_param.data.copy_(self.tau * param.data + (1 - self.tau) * target_param.data)\n",
        "\t\t    \n",
        "\n",
        "\n",
        "  def copy_target_update(self):\n",
        "        if self.iterations % self.target_update_frequency == 0:\n",
        "          self.Q_target.load_state_dict(self.Q.state_dict())\n",
        "\t\t\t    "
      ],
      "execution_count": 22,
      "outputs": []
    },
    {
      "cell_type": "code",
      "metadata": {
        "id": "U4Y703_xnwo8"
      },
      "source": [
        "dBCQ=discrete_BCQ(\n",
        "    is_atari=False,\n",
        "\t\tnum_actions=25,\n",
        "\t\tstate_dim=41,\n",
        "\t\tdevice=device,\n",
        "\t\tBCQ_threshold=0.3,\n",
        "\t\tdiscount=0.99,\n",
        "\t\toptimizer=\"Adam\",\n",
        "\t\toptimizer_parameters={},\n",
        "\t\tpolyak_target_update=True,\n",
        "\t\ttarget_update_frequency=8e3,\n",
        "\t\ttau=0.005,\n",
        "\t\tinitial_eps = 1,\n",
        "\t\tend_eps = 0.001,\n",
        "\t\teps_decay_period = 25e4,\n",
        "\t\teval_eps=0,\n",
        "\t)"
      ],
      "execution_count": null,
      "outputs": []
    },
    {
      "cell_type": "code",
      "metadata": {
        "id": "GTcO36Iar0k6",
        "outputId": "52bfa3ab-cf04-4aa5-ffe3-dbbbb6619de0",
        "colab": {
          "base_uri": "https://localhost:8080/"
        }
      },
      "source": [
        "cd dBCQ/"
      ],
      "execution_count": null,
      "outputs": [
        {
          "output_type": "stream",
          "text": [
            "/content/drive/My Drive/sepsis3-cohort/dBCQ\n"
          ],
          "name": "stdout"
        }
      ]
    },
    {
      "cell_type": "code",
      "metadata": {
        "id": "zVV5Pk-O6ZHV",
        "outputId": "2d9f9ddf-61f7-43e6-c4a4-a76e8ac35d85",
        "colab": {
          "base_uri": "https://localhost:8080/"
        }
      },
      "source": [
        "ls"
      ],
      "execution_count": null,
      "outputs": [
        {
          "output_type": "stream",
          "text": [
            "dBCQ_0.pt   dBCQ_13.pt  dBCQ__20.pt  dBCQ_4.pt  dBCQ_8.pt\n",
            "dBCQ_10.pt  dBCQ_15.pt  dBCQ__21.pt  dBCQ_5.pt  dBCQ_9.pt\n",
            "dBCQ_11.pt  dBCQ_16.pt  dBCQ_2.pt    dBCQ_6.pt  dBCQ_w_1.pt\n",
            "dBCQ_12.pt  dBCQ_1.pt   dBCQ_3.pt    dBCQ_7.pt\n"
          ],
          "name": "stdout"
        }
      ]
    },
    {
      "cell_type": "code",
      "metadata": {
        "id": "FkkVrEv7i7-E",
        "outputId": "37b6cc09-fc4f-468a-a57e-42eac82b1c85",
        "colab": {
          "base_uri": "https://localhost:8080/"
        }
      },
      "source": [
        "checkpoint=torch.load('dBCQ_16.pt', map_location=torch.device('cpu'))\n",
        "dBCQ.Q.load_state_dict(checkpoint['dBCQ_state_dict'])\n",
        "dBCQ.Q_target.load_state_dict(checkpoint['dBCQ_target_state_dict'])"
      ],
      "execution_count": null,
      "outputs": [
        {
          "output_type": "execute_result",
          "data": {
            "text/plain": [
              "<All keys matched successfully>"
            ]
          },
          "metadata": {
            "tags": []
          },
          "execution_count": 71
        }
      ]
    },
    {
      "cell_type": "code",
      "metadata": {
        "id": "b0qo8Y108DJs"
      },
      "source": [
        ""
      ],
      "execution_count": null,
      "outputs": []
    },
    {
      "cell_type": "code",
      "metadata": {
        "id": "q7Y-8CHEjaei"
      },
      "source": [
        "for i in range(1,1000):\n",
        "  dBCQ.train_epoch(loader,i)\n",
        "  torch.save({\n",
        "            'dBCQ_state_dict': dBCQ.Q.state_dict(),\n",
        "             'dBCQ_target_state_dict': dBCQ.Q_target.state_dict(),\n",
        "                \n",
        "            }, 'dBCQ_{}.pt'.format(i))"
      ],
      "execution_count": null,
      "outputs": []
    },
    {
      "cell_type": "markdown",
      "metadata": {
        "id": "Tr4cPHyF4ek3"
      },
      "source": [
        "##### Weighted Loader"
      ]
    },
    {
      "cell_type": "code",
      "metadata": {
        "id": "pWVtj5cE4ifm",
        "outputId": "244dae5e-5164-42db-8124-62bdeee6ffa2",
        "colab": {
          "base_uri": "https://localhost:8080/",
          "height": 224
        }
      },
      "source": [
        "df.head()"
      ],
      "execution_count": null,
      "outputs": [
        {
          "output_type": "execute_result",
          "data": {
            "text/html": [
              "<div>\n",
              "<style scoped>\n",
              "    .dataframe tbody tr th:only-of-type {\n",
              "        vertical-align: middle;\n",
              "    }\n",
              "\n",
              "    .dataframe tbody tr th {\n",
              "        vertical-align: top;\n",
              "    }\n",
              "\n",
              "    .dataframe thead th {\n",
              "        text-align: right;\n",
              "    }\n",
              "</style>\n",
              "<table border=\"1\" class=\"dataframe\">\n",
              "  <thead>\n",
              "    <tr style=\"text-align: right;\">\n",
              "      <th></th>\n",
              "      <th>0</th>\n",
              "      <th>1</th>\n",
              "      <th>2</th>\n",
              "      <th>3</th>\n",
              "      <th>4</th>\n",
              "      <th>5</th>\n",
              "      <th>6</th>\n",
              "      <th>7</th>\n",
              "      <th>8</th>\n",
              "      <th>9</th>\n",
              "      <th>10</th>\n",
              "      <th>11</th>\n",
              "      <th>12</th>\n",
              "      <th>13</th>\n",
              "      <th>14</th>\n",
              "      <th>15</th>\n",
              "      <th>16</th>\n",
              "      <th>17</th>\n",
              "      <th>18</th>\n",
              "      <th>19</th>\n",
              "      <th>20</th>\n",
              "      <th>21</th>\n",
              "      <th>22</th>\n",
              "      <th>23</th>\n",
              "      <th>24</th>\n",
              "      <th>25</th>\n",
              "      <th>26</th>\n",
              "      <th>27</th>\n",
              "      <th>28</th>\n",
              "      <th>29</th>\n",
              "      <th>30</th>\n",
              "      <th>31</th>\n",
              "      <th>32</th>\n",
              "      <th>33</th>\n",
              "      <th>34</th>\n",
              "      <th>35</th>\n",
              "      <th>36</th>\n",
              "      <th>37</th>\n",
              "      <th>38</th>\n",
              "      <th>39</th>\n",
              "      <th>40</th>\n",
              "      <th>41</th>\n",
              "      <th>42</th>\n",
              "      <th>43</th>\n",
              "      <th>Vaso_cuts</th>\n",
              "      <th>Fluid_cuts</th>\n",
              "      <th>action</th>\n",
              "    </tr>\n",
              "  </thead>\n",
              "  <tbody>\n",
              "    <tr>\n",
              "      <th>0</th>\n",
              "      <td>-1.046870</td>\n",
              "      <td>1.974396</td>\n",
              "      <td>-1.110013</td>\n",
              "      <td>0.969004</td>\n",
              "      <td>-1.378317</td>\n",
              "      <td>-0.991096</td>\n",
              "      <td>-0.647660</td>\n",
              "      <td>-0.646901</td>\n",
              "      <td>0.0</td>\n",
              "      <td>0.0</td>\n",
              "      <td>0.0</td>\n",
              "      <td>-0.777651</td>\n",
              "      <td>1.354087</td>\n",
              "      <td>-0.050696</td>\n",
              "      <td>0.226119</td>\n",
              "      <td>-0.273616</td>\n",
              "      <td>1.664569</td>\n",
              "      <td>0.619855</td>\n",
              "      <td>0.522458</td>\n",
              "      <td>0.450940</td>\n",
              "      <td>2.129651</td>\n",
              "      <td>0.279296</td>\n",
              "      <td>1.282761</td>\n",
              "      <td>-0.258103</td>\n",
              "      <td>-0.462475</td>\n",
              "      <td>-0.086368</td>\n",
              "      <td>0.014108</td>\n",
              "      <td>-0.474435</td>\n",
              "      <td>0.625043</td>\n",
              "      <td>0.389752</td>\n",
              "      <td>0.630310</td>\n",
              "      <td>0.071789</td>\n",
              "      <td>-0.213654</td>\n",
              "      <td>-0.500278</td>\n",
              "      <td>0.502859</td>\n",
              "      <td>1.030435</td>\n",
              "      <td>0.437960</td>\n",
              "      <td>65.957603</td>\n",
              "      <td>1.096018</td>\n",
              "      <td>0.0</td>\n",
              "      <td>-0.308252</td>\n",
              "      <td>0.0</td>\n",
              "      <td>0.0</td>\n",
              "      <td>-0.250</td>\n",
              "      <td>0</td>\n",
              "      <td>0</td>\n",
              "      <td>0</td>\n",
              "    </tr>\n",
              "    <tr>\n",
              "      <th>1</th>\n",
              "      <td>-1.394644</td>\n",
              "      <td>1.544799</td>\n",
              "      <td>-1.367532</td>\n",
              "      <td>0.441438</td>\n",
              "      <td>-0.828779</td>\n",
              "      <td>-0.656335</td>\n",
              "      <td>-0.647660</td>\n",
              "      <td>-0.646901</td>\n",
              "      <td>1.0</td>\n",
              "      <td>0.0</td>\n",
              "      <td>0.0</td>\n",
              "      <td>-0.080965</td>\n",
              "      <td>1.354087</td>\n",
              "      <td>-0.050696</td>\n",
              "      <td>0.226119</td>\n",
              "      <td>-0.273616</td>\n",
              "      <td>1.664569</td>\n",
              "      <td>0.619855</td>\n",
              "      <td>0.522458</td>\n",
              "      <td>0.450940</td>\n",
              "      <td>2.129651</td>\n",
              "      <td>0.279296</td>\n",
              "      <td>1.282761</td>\n",
              "      <td>-0.258103</td>\n",
              "      <td>-0.462475</td>\n",
              "      <td>-0.086368</td>\n",
              "      <td>0.014108</td>\n",
              "      <td>-0.474435</td>\n",
              "      <td>0.625043</td>\n",
              "      <td>0.389752</td>\n",
              "      <td>0.630310</td>\n",
              "      <td>0.071789</td>\n",
              "      <td>-0.213654</td>\n",
              "      <td>-0.500278</td>\n",
              "      <td>0.482850</td>\n",
              "      <td>0.995847</td>\n",
              "      <td>0.452339</td>\n",
              "      <td>66.413605</td>\n",
              "      <td>1.096018</td>\n",
              "      <td>0.0</td>\n",
              "      <td>-0.308252</td>\n",
              "      <td>0.0</td>\n",
              "      <td>0.0</td>\n",
              "      <td>-0.375</td>\n",
              "      <td>0</td>\n",
              "      <td>0</td>\n",
              "      <td>0</td>\n",
              "    </tr>\n",
              "    <tr>\n",
              "      <th>2</th>\n",
              "      <td>-1.185979</td>\n",
              "      <td>1.360686</td>\n",
              "      <td>-1.110013</td>\n",
              "      <td>-0.261983</td>\n",
              "      <td>-0.004472</td>\n",
              "      <td>0.347947</td>\n",
              "      <td>-0.230333</td>\n",
              "      <td>-0.646901</td>\n",
              "      <td>1.0</td>\n",
              "      <td>0.0</td>\n",
              "      <td>0.0</td>\n",
              "      <td>2.009094</td>\n",
              "      <td>2.643402</td>\n",
              "      <td>-1.035373</td>\n",
              "      <td>0.226119</td>\n",
              "      <td>0.199762</td>\n",
              "      <td>0.582360</td>\n",
              "      <td>0.286389</td>\n",
              "      <td>-0.054658</td>\n",
              "      <td>0.476552</td>\n",
              "      <td>3.521104</td>\n",
              "      <td>0.664734</td>\n",
              "      <td>1.489631</td>\n",
              "      <td>0.661645</td>\n",
              "      <td>-0.696658</td>\n",
              "      <td>0.058330</td>\n",
              "      <td>-0.158973</td>\n",
              "      <td>-0.117952</td>\n",
              "      <td>0.737430</td>\n",
              "      <td>0.266840</td>\n",
              "      <td>0.538169</td>\n",
              "      <td>0.202432</td>\n",
              "      <td>-0.357259</td>\n",
              "      <td>-0.794549</td>\n",
              "      <td>0.521583</td>\n",
              "      <td>0.918802</td>\n",
              "      <td>0.458562</td>\n",
              "      <td>66.626884</td>\n",
              "      <td>1.096018</td>\n",
              "      <td>0.0</td>\n",
              "      <td>-0.308252</td>\n",
              "      <td>0.0</td>\n",
              "      <td>0.0</td>\n",
              "      <td>-0.025</td>\n",
              "      <td>0</td>\n",
              "      <td>0</td>\n",
              "      <td>0</td>\n",
              "    </tr>\n",
              "    <tr>\n",
              "      <th>3</th>\n",
              "      <td>-1.394644</td>\n",
              "      <td>0.624235</td>\n",
              "      <td>-1.238772</td>\n",
              "      <td>-0.086127</td>\n",
              "      <td>-0.004472</td>\n",
              "      <td>-0.321574</td>\n",
              "      <td>-0.230333</td>\n",
              "      <td>-0.646901</td>\n",
              "      <td>1.0</td>\n",
              "      <td>0.0</td>\n",
              "      <td>0.0</td>\n",
              "      <td>2.009094</td>\n",
              "      <td>2.643402</td>\n",
              "      <td>-1.035373</td>\n",
              "      <td>0.226119</td>\n",
              "      <td>0.199762</td>\n",
              "      <td>0.582360</td>\n",
              "      <td>0.286389</td>\n",
              "      <td>-0.054658</td>\n",
              "      <td>0.476552</td>\n",
              "      <td>3.521104</td>\n",
              "      <td>0.664734</td>\n",
              "      <td>1.489631</td>\n",
              "      <td>0.661645</td>\n",
              "      <td>-0.696658</td>\n",
              "      <td>0.058330</td>\n",
              "      <td>-0.158973</td>\n",
              "      <td>-0.117952</td>\n",
              "      <td>0.737430</td>\n",
              "      <td>0.266840</td>\n",
              "      <td>0.538169</td>\n",
              "      <td>0.202432</td>\n",
              "      <td>-0.357259</td>\n",
              "      <td>-0.794549</td>\n",
              "      <td>0.565697</td>\n",
              "      <td>0.881036</td>\n",
              "      <td>0.521476</td>\n",
              "      <td>67.943565</td>\n",
              "      <td>1.096018</td>\n",
              "      <td>0.0</td>\n",
              "      <td>-0.308252</td>\n",
              "      <td>0.0</td>\n",
              "      <td>0.0</td>\n",
              "      <td>-0.025</td>\n",
              "      <td>0</td>\n",
              "      <td>0</td>\n",
              "      <td>0</td>\n",
              "    </tr>\n",
              "    <tr>\n",
              "      <th>4</th>\n",
              "      <td>-1.046870</td>\n",
              "      <td>0.562864</td>\n",
              "      <td>-0.916875</td>\n",
              "      <td>-0.086127</td>\n",
              "      <td>-0.004472</td>\n",
              "      <td>-1.325856</td>\n",
              "      <td>0.047884</td>\n",
              "      <td>-0.646901</td>\n",
              "      <td>1.0</td>\n",
              "      <td>0.0</td>\n",
              "      <td>0.0</td>\n",
              "      <td>2.009094</td>\n",
              "      <td>2.643402</td>\n",
              "      <td>-1.035373</td>\n",
              "      <td>0.226119</td>\n",
              "      <td>0.199762</td>\n",
              "      <td>0.582360</td>\n",
              "      <td>0.286389</td>\n",
              "      <td>-0.054658</td>\n",
              "      <td>0.476552</td>\n",
              "      <td>3.521104</td>\n",
              "      <td>0.664734</td>\n",
              "      <td>1.489631</td>\n",
              "      <td>0.661645</td>\n",
              "      <td>-0.696658</td>\n",
              "      <td>0.058330</td>\n",
              "      <td>-0.158973</td>\n",
              "      <td>-0.117952</td>\n",
              "      <td>0.737430</td>\n",
              "      <td>0.266840</td>\n",
              "      <td>0.538169</td>\n",
              "      <td>0.202432</td>\n",
              "      <td>-0.357259</td>\n",
              "      <td>-0.794549</td>\n",
              "      <td>0.604537</td>\n",
              "      <td>0.859168</td>\n",
              "      <td>0.516133</td>\n",
              "      <td>67.920723</td>\n",
              "      <td>1.096018</td>\n",
              "      <td>0.0</td>\n",
              "      <td>-0.308252</td>\n",
              "      <td>0.0</td>\n",
              "      <td>0.0</td>\n",
              "      <td>-0.025</td>\n",
              "      <td>0</td>\n",
              "      <td>0</td>\n",
              "      <td>0</td>\n",
              "    </tr>\n",
              "  </tbody>\n",
              "</table>\n",
              "</div>"
            ],
            "text/plain": [
              "          0         1         2         3  ...     43  Vaso_cuts  Fluid_cuts  action\n",
              "0 -1.046870  1.974396 -1.110013  0.969004  ... -0.250          0           0       0\n",
              "1 -1.394644  1.544799 -1.367532  0.441438  ... -0.375          0           0       0\n",
              "2 -1.185979  1.360686 -1.110013 -0.261983  ... -0.025          0           0       0\n",
              "3 -1.394644  0.624235 -1.238772 -0.086127  ... -0.025          0           0       0\n",
              "4 -1.046870  0.562864 -0.916875 -0.086127  ... -0.025          0           0       0\n",
              "\n",
              "[5 rows x 47 columns]"
            ]
          },
          "metadata": {
            "tags": []
          },
          "execution_count": 27
        }
      ]
    },
    {
      "cell_type": "code",
      "metadata": {
        "id": "PtIquY0yjm8r"
      },
      "source": [
        "weights=df.Vaso_cuts+df.Fluid_cuts+0.5\n",
        "weights=weights.values\n",
        "sampler = torch.utils.data.sampler.WeightedRandomSampler(torch.DoubleTensor(weights),num_samples=len(weights))\n",
        "new_loader =DataLoader(ds, batch_size=100,sampler=sampler)"
      ],
      "execution_count": null,
      "outputs": []
    },
    {
      "cell_type": "code",
      "metadata": {
        "id": "KCn6mGqy47gC"
      },
      "source": [
        "dBCQ.Q_optimizer.lr=1e-5"
      ],
      "execution_count": null,
      "outputs": []
    },
    {
      "cell_type": "code",
      "metadata": {
        "id": "17n8lwJ04tBB"
      },
      "source": [
        "for i in range(1,1000):\n",
        "   dBCQ.train_epoch(new_loader,i)\n",
        "   torch.save({\n",
        "            'dBCQ_state_dict': dBCQ.Q.state_dict(),\n",
        "             'dBCQ_target_state_dict': dBCQ.Q_target.state_dict(),\n",
        "                \n",
        "            }, 'dBCQ_w_{}.pt'.format(i))\n"
      ],
      "execution_count": null,
      "outputs": []
    },
    {
      "cell_type": "markdown",
      "metadata": {
        "id": "-rCeNkec8MW0"
      },
      "source": [
        "### Action Selection"
      ]
    },
    {
      "cell_type": "code",
      "metadata": {
        "id": "LfZ6VbnkxsdZ"
      },
      "source": [
        "def get_actions(model):\n",
        "  test_loader=DataLoader(ds,batch_size=256,shuffle=False)\n",
        "  actions=[]\n",
        "  for batch,(state,next_state,action,reward,done) in enumerate(test_loader):\n",
        "    action=model.select_action(state)\n",
        "    print(100*(batch+1)/(len(test_loader)),' % Done')\n",
        "    actions.append(action.cpu().numpy())\n",
        "    return actions"
      ],
      "execution_count": 45,
      "outputs": []
    },
    {
      "cell_type": "code",
      "metadata": {
        "id": "5lf8TPKu9MVA"
      },
      "source": [
        "dBCQ_actions=np.hstack(actions)"
      ],
      "execution_count": null,
      "outputs": []
    },
    {
      "cell_type": "code",
      "metadata": {
        "id": "G2XLzuhMHXlo"
      },
      "source": [
        "df['dBCQ']=dBCQ_actions"
      ],
      "execution_count": null,
      "outputs": []
    },
    {
      "cell_type": "code",
      "metadata": {
        "id": "-EVYSY4wHbvf",
        "outputId": "4df2899e-4ca1-411a-d7e7-b7c10e5f2aa0",
        "colab": {
          "base_uri": "https://localhost:8080/"
        }
      },
      "source": [
        "df['dBCQ'].value_counts(normalize=True)"
      ],
      "execution_count": null,
      "outputs": [
        {
          "output_type": "execute_result",
          "data": {
            "text/plain": [
              "0     0.762639\n",
              "4     0.065889\n",
              "23    0.059713\n",
              "3     0.048758\n",
              "1     0.037147\n",
              "2     0.025808\n",
              "19    0.000046\n",
              "Name: dBCQ, dtype: float64"
            ]
          },
          "metadata": {
            "tags": []
          },
          "execution_count": 83
        }
      ]
    },
    {
      "cell_type": "code",
      "metadata": {
        "id": "kEGuaYNUH9pd"
      },
      "source": [
        "# df['dBCQ'].to_csv('dBCQ.csv')"
      ],
      "execution_count": null,
      "outputs": []
    },
    {
      "cell_type": "code",
      "metadata": {
        "id": "YCYn4sQoPbYr",
        "outputId": "d504955f-0db7-49fe-8bde-ae3efec9dd23",
        "colab": {
          "base_uri": "https://localhost:8080/",
          "height": 34
        }
      },
      "source": [
        "cd dBCQ/"
      ],
      "execution_count": null,
      "outputs": [
        {
          "output_type": "stream",
          "text": [
            "/content/drive/My Drive/sepsis3-cohort/dBCQ\n"
          ],
          "name": "stdout"
        }
      ]
    },
    {
      "cell_type": "code",
      "metadata": {
        "id": "lG0uGNSVPVGV"
      },
      "source": [
        "dBCQ=pd.read_csv('dBCQ.csv')"
      ],
      "execution_count": null,
      "outputs": []
    },
    {
      "cell_type": "code",
      "metadata": {
        "id": "Wx91fva2TEle"
      },
      "source": [
        "dBCQ=dBCQ.iloc[:,1]"
      ],
      "execution_count": null,
      "outputs": []
    },
    {
      "cell_type": "code",
      "metadata": {
        "id": "t7xgcIuOTSv6",
        "outputId": "166f17a5-5886-4d8b-94c2-8eecc049e85e",
        "colab": {
          "base_uri": "https://localhost:8080/",
          "height": 153
        }
      },
      "source": [
        "dBCQ.value_counts(normalize=True)"
      ],
      "execution_count": null,
      "outputs": [
        {
          "output_type": "execute_result",
          "data": {
            "text/plain": [
              "0     0.762639\n",
              "4     0.065889\n",
              "23    0.059713\n",
              "3     0.048758\n",
              "1     0.037147\n",
              "2     0.025808\n",
              "19    0.000046\n",
              "Name: dBCQ, dtype: float64"
            ]
          },
          "metadata": {
            "tags": []
          },
          "execution_count": 25
        }
      ]
    },
    {
      "cell_type": "code",
      "metadata": {
        "id": "9DawnZ_xJN1N"
      },
      "source": [
        "acts=[]\n",
        "for i,val in enumerate(dBCQ.values):\n",
        "  print(i*100/df.shape[0])\n",
        "  acts.append(np.argwhere(all_acts==val))\n"
      ],
      "execution_count": null,
      "outputs": []
    },
    {
      "cell_type": "code",
      "metadata": {
        "id": "DSEm975fPm7p"
      },
      "source": [
        "acts__=np.vstack(acts)"
      ],
      "execution_count": null,
      "outputs": []
    },
    {
      "cell_type": "code",
      "metadata": {
        "id": "eO5MInfVWXl_"
      },
      "source": [
        "# dBCQ_.to_csv('dBCQ.csv',index=False)"
      ],
      "execution_count": null,
      "outputs": []
    },
    {
      "cell_type": "code",
      "metadata": {
        "id": "yY6-uX40WoYA"
      },
      "source": [
        "dBCQ_=pd.DataFrame(acts__)"
      ],
      "execution_count": null,
      "outputs": []
    },
    {
      "cell_type": "code",
      "metadata": {
        "id": "bJuQEqBKWp9_",
        "outputId": "2fd90a27-5a13-4dd6-97b0-96db074ea843",
        "colab": {
          "base_uri": "https://localhost:8080/",
          "height": 170
        }
      },
      "source": [
        "dBCQ_.value_counts(normalize=True)"
      ],
      "execution_count": null,
      "outputs": [
        {
          "output_type": "execute_result",
          "data": {
            "text/plain": [
              "Vaso  Fluids\n",
              "0     0         0.762639\n",
              "      4         0.065889\n",
              "4     3         0.059713\n",
              "0     3         0.048758\n",
              "      1         0.037147\n",
              "      2         0.025808\n",
              "3     4         0.000046\n",
              "dtype: float64"
            ]
          },
          "metadata": {
            "tags": []
          },
          "execution_count": 39
        }
      ]
    },
    {
      "cell_type": "code",
      "metadata": {
        "id": "BT1NvfyWW9Al",
        "outputId": "b5c11be2-2455-4d6a-a8d2-a2b31106973d",
        "colab": {
          "base_uri": "https://localhost:8080/",
          "height": 224
        }
      },
      "source": [
        "df.head()"
      ],
      "execution_count": null,
      "outputs": [
        {
          "output_type": "execute_result",
          "data": {
            "text/html": [
              "<div>\n",
              "<style scoped>\n",
              "    .dataframe tbody tr th:only-of-type {\n",
              "        vertical-align: middle;\n",
              "    }\n",
              "\n",
              "    .dataframe tbody tr th {\n",
              "        vertical-align: top;\n",
              "    }\n",
              "\n",
              "    .dataframe thead th {\n",
              "        text-align: right;\n",
              "    }\n",
              "</style>\n",
              "<table border=\"1\" class=\"dataframe\">\n",
              "  <thead>\n",
              "    <tr style=\"text-align: right;\">\n",
              "      <th></th>\n",
              "      <th>0</th>\n",
              "      <th>1</th>\n",
              "      <th>2</th>\n",
              "      <th>3</th>\n",
              "      <th>4</th>\n",
              "      <th>5</th>\n",
              "      <th>6</th>\n",
              "      <th>7</th>\n",
              "      <th>8</th>\n",
              "      <th>9</th>\n",
              "      <th>10</th>\n",
              "      <th>11</th>\n",
              "      <th>12</th>\n",
              "      <th>13</th>\n",
              "      <th>14</th>\n",
              "      <th>15</th>\n",
              "      <th>16</th>\n",
              "      <th>17</th>\n",
              "      <th>18</th>\n",
              "      <th>19</th>\n",
              "      <th>20</th>\n",
              "      <th>21</th>\n",
              "      <th>22</th>\n",
              "      <th>23</th>\n",
              "      <th>24</th>\n",
              "      <th>25</th>\n",
              "      <th>26</th>\n",
              "      <th>27</th>\n",
              "      <th>28</th>\n",
              "      <th>29</th>\n",
              "      <th>30</th>\n",
              "      <th>31</th>\n",
              "      <th>32</th>\n",
              "      <th>33</th>\n",
              "      <th>34</th>\n",
              "      <th>35</th>\n",
              "      <th>36</th>\n",
              "      <th>37</th>\n",
              "      <th>38</th>\n",
              "      <th>39</th>\n",
              "      <th>40</th>\n",
              "      <th>41</th>\n",
              "      <th>42</th>\n",
              "      <th>43</th>\n",
              "      <th>Vaso_cuts</th>\n",
              "      <th>Fluid_cuts</th>\n",
              "      <th>action</th>\n",
              "    </tr>\n",
              "  </thead>\n",
              "  <tbody>\n",
              "    <tr>\n",
              "      <th>0</th>\n",
              "      <td>46.0</td>\n",
              "      <td>118.0</td>\n",
              "      <td>62.0</td>\n",
              "      <td>26.0</td>\n",
              "      <td>0.0</td>\n",
              "      <td>94.0</td>\n",
              "      <td>109.0</td>\n",
              "      <td>36.388889</td>\n",
              "      <td>0.0</td>\n",
              "      <td>0.0</td>\n",
              "      <td>0.0</td>\n",
              "      <td>0.0</td>\n",
              "      <td>1.354087</td>\n",
              "      <td>-0.050696</td>\n",
              "      <td>0.226119</td>\n",
              "      <td>-0.273616</td>\n",
              "      <td>1.664569</td>\n",
              "      <td>0.619855</td>\n",
              "      <td>0.522458</td>\n",
              "      <td>0.450940</td>\n",
              "      <td>2.129651</td>\n",
              "      <td>0.279296</td>\n",
              "      <td>1.282761</td>\n",
              "      <td>-0.258103</td>\n",
              "      <td>-0.462475</td>\n",
              "      <td>-0.086368</td>\n",
              "      <td>0.014108</td>\n",
              "      <td>-0.474435</td>\n",
              "      <td>0.625043</td>\n",
              "      <td>0.389752</td>\n",
              "      <td>0.630310</td>\n",
              "      <td>0.071789</td>\n",
              "      <td>-0.213654</td>\n",
              "      <td>-0.500278</td>\n",
              "      <td>0.502859</td>\n",
              "      <td>1.030435</td>\n",
              "      <td>0.437960</td>\n",
              "      <td>65.957603</td>\n",
              "      <td>82.0</td>\n",
              "      <td>0.0</td>\n",
              "      <td>75.1</td>\n",
              "      <td>0.0</td>\n",
              "      <td>0.0</td>\n",
              "      <td>-0.250</td>\n",
              "      <td>0</td>\n",
              "      <td>0</td>\n",
              "      <td>0</td>\n",
              "    </tr>\n",
              "    <tr>\n",
              "      <th>1</th>\n",
              "      <td>41.0</td>\n",
              "      <td>111.0</td>\n",
              "      <td>58.0</td>\n",
              "      <td>23.0</td>\n",
              "      <td>2.0</td>\n",
              "      <td>95.0</td>\n",
              "      <td>109.0</td>\n",
              "      <td>36.388889</td>\n",
              "      <td>1.0</td>\n",
              "      <td>0.0</td>\n",
              "      <td>0.0</td>\n",
              "      <td>1.0</td>\n",
              "      <td>1.354087</td>\n",
              "      <td>-0.050696</td>\n",
              "      <td>0.226119</td>\n",
              "      <td>-0.273616</td>\n",
              "      <td>1.664569</td>\n",
              "      <td>0.619855</td>\n",
              "      <td>0.522458</td>\n",
              "      <td>0.450940</td>\n",
              "      <td>2.129651</td>\n",
              "      <td>0.279296</td>\n",
              "      <td>1.282761</td>\n",
              "      <td>-0.258103</td>\n",
              "      <td>-0.462475</td>\n",
              "      <td>-0.086368</td>\n",
              "      <td>0.014108</td>\n",
              "      <td>-0.474435</td>\n",
              "      <td>0.625043</td>\n",
              "      <td>0.389752</td>\n",
              "      <td>0.630310</td>\n",
              "      <td>0.071789</td>\n",
              "      <td>-0.213654</td>\n",
              "      <td>-0.500278</td>\n",
              "      <td>0.482850</td>\n",
              "      <td>0.995847</td>\n",
              "      <td>0.452339</td>\n",
              "      <td>66.413605</td>\n",
              "      <td>82.0</td>\n",
              "      <td>0.0</td>\n",
              "      <td>75.1</td>\n",
              "      <td>0.0</td>\n",
              "      <td>0.0</td>\n",
              "      <td>-0.375</td>\n",
              "      <td>0</td>\n",
              "      <td>0</td>\n",
              "      <td>0</td>\n",
              "    </tr>\n",
              "    <tr>\n",
              "      <th>2</th>\n",
              "      <td>44.0</td>\n",
              "      <td>108.0</td>\n",
              "      <td>62.0</td>\n",
              "      <td>19.0</td>\n",
              "      <td>5.0</td>\n",
              "      <td>98.0</td>\n",
              "      <td>118.0</td>\n",
              "      <td>36.388889</td>\n",
              "      <td>1.0</td>\n",
              "      <td>0.0</td>\n",
              "      <td>0.0</td>\n",
              "      <td>4.0</td>\n",
              "      <td>2.643402</td>\n",
              "      <td>-1.035373</td>\n",
              "      <td>0.226119</td>\n",
              "      <td>0.199762</td>\n",
              "      <td>0.582360</td>\n",
              "      <td>0.286389</td>\n",
              "      <td>-0.054658</td>\n",
              "      <td>0.476552</td>\n",
              "      <td>3.521104</td>\n",
              "      <td>0.664734</td>\n",
              "      <td>1.489631</td>\n",
              "      <td>0.661645</td>\n",
              "      <td>-0.696658</td>\n",
              "      <td>0.058330</td>\n",
              "      <td>-0.158973</td>\n",
              "      <td>-0.117952</td>\n",
              "      <td>0.737430</td>\n",
              "      <td>0.266840</td>\n",
              "      <td>0.538169</td>\n",
              "      <td>0.202432</td>\n",
              "      <td>-0.357259</td>\n",
              "      <td>-0.794549</td>\n",
              "      <td>0.521583</td>\n",
              "      <td>0.918802</td>\n",
              "      <td>0.458562</td>\n",
              "      <td>66.626884</td>\n",
              "      <td>82.0</td>\n",
              "      <td>0.0</td>\n",
              "      <td>75.1</td>\n",
              "      <td>0.0</td>\n",
              "      <td>0.0</td>\n",
              "      <td>-0.025</td>\n",
              "      <td>0</td>\n",
              "      <td>0</td>\n",
              "      <td>0</td>\n",
              "    </tr>\n",
              "    <tr>\n",
              "      <th>3</th>\n",
              "      <td>41.0</td>\n",
              "      <td>96.0</td>\n",
              "      <td>60.0</td>\n",
              "      <td>20.0</td>\n",
              "      <td>5.0</td>\n",
              "      <td>96.0</td>\n",
              "      <td>118.0</td>\n",
              "      <td>36.388889</td>\n",
              "      <td>1.0</td>\n",
              "      <td>0.0</td>\n",
              "      <td>0.0</td>\n",
              "      <td>4.0</td>\n",
              "      <td>2.643402</td>\n",
              "      <td>-1.035373</td>\n",
              "      <td>0.226119</td>\n",
              "      <td>0.199762</td>\n",
              "      <td>0.582360</td>\n",
              "      <td>0.286389</td>\n",
              "      <td>-0.054658</td>\n",
              "      <td>0.476552</td>\n",
              "      <td>3.521104</td>\n",
              "      <td>0.664734</td>\n",
              "      <td>1.489631</td>\n",
              "      <td>0.661645</td>\n",
              "      <td>-0.696658</td>\n",
              "      <td>0.058330</td>\n",
              "      <td>-0.158973</td>\n",
              "      <td>-0.117952</td>\n",
              "      <td>0.737430</td>\n",
              "      <td>0.266840</td>\n",
              "      <td>0.538169</td>\n",
              "      <td>0.202432</td>\n",
              "      <td>-0.357259</td>\n",
              "      <td>-0.794549</td>\n",
              "      <td>0.565697</td>\n",
              "      <td>0.881036</td>\n",
              "      <td>0.521476</td>\n",
              "      <td>67.943565</td>\n",
              "      <td>82.0</td>\n",
              "      <td>0.0</td>\n",
              "      <td>75.1</td>\n",
              "      <td>0.0</td>\n",
              "      <td>0.0</td>\n",
              "      <td>-0.025</td>\n",
              "      <td>0</td>\n",
              "      <td>0</td>\n",
              "      <td>0</td>\n",
              "    </tr>\n",
              "    <tr>\n",
              "      <th>4</th>\n",
              "      <td>46.0</td>\n",
              "      <td>95.0</td>\n",
              "      <td>65.0</td>\n",
              "      <td>20.0</td>\n",
              "      <td>5.0</td>\n",
              "      <td>93.0</td>\n",
              "      <td>124.0</td>\n",
              "      <td>36.388889</td>\n",
              "      <td>1.0</td>\n",
              "      <td>0.0</td>\n",
              "      <td>0.0</td>\n",
              "      <td>4.0</td>\n",
              "      <td>2.643402</td>\n",
              "      <td>-1.035373</td>\n",
              "      <td>0.226119</td>\n",
              "      <td>0.199762</td>\n",
              "      <td>0.582360</td>\n",
              "      <td>0.286389</td>\n",
              "      <td>-0.054658</td>\n",
              "      <td>0.476552</td>\n",
              "      <td>3.521104</td>\n",
              "      <td>0.664734</td>\n",
              "      <td>1.489631</td>\n",
              "      <td>0.661645</td>\n",
              "      <td>-0.696658</td>\n",
              "      <td>0.058330</td>\n",
              "      <td>-0.158973</td>\n",
              "      <td>-0.117952</td>\n",
              "      <td>0.737430</td>\n",
              "      <td>0.266840</td>\n",
              "      <td>0.538169</td>\n",
              "      <td>0.202432</td>\n",
              "      <td>-0.357259</td>\n",
              "      <td>-0.794549</td>\n",
              "      <td>0.604537</td>\n",
              "      <td>0.859168</td>\n",
              "      <td>0.516133</td>\n",
              "      <td>67.920723</td>\n",
              "      <td>82.0</td>\n",
              "      <td>0.0</td>\n",
              "      <td>75.1</td>\n",
              "      <td>0.0</td>\n",
              "      <td>0.0</td>\n",
              "      <td>-0.025</td>\n",
              "      <td>0</td>\n",
              "      <td>0</td>\n",
              "      <td>0</td>\n",
              "    </tr>\n",
              "  </tbody>\n",
              "</table>\n",
              "</div>"
            ],
            "text/plain": [
              "      0      1     2     3    4  ...   42     43  Vaso_cuts  Fluid_cuts  action\n",
              "0  46.0  118.0  62.0  26.0  0.0  ...  0.0 -0.250          0           0       0\n",
              "1  41.0  111.0  58.0  23.0  2.0  ...  0.0 -0.375          0           0       0\n",
              "2  44.0  108.0  62.0  19.0  5.0  ...  0.0 -0.025          0           0       0\n",
              "3  41.0   96.0  60.0  20.0  5.0  ...  0.0 -0.025          0           0       0\n",
              "4  46.0   95.0  65.0  20.0  5.0  ...  0.0 -0.025          0           0       0\n",
              "\n",
              "[5 rows x 47 columns]"
            ]
          },
          "metadata": {
            "tags": []
          },
          "execution_count": 40
        }
      ]
    },
    {
      "cell_type": "code",
      "metadata": {
        "id": "snTTRrx7XuO4"
      },
      "source": [
        "dBCQ_['Clinician_Vaso_cuts']=df['Vaso_cuts']\n",
        "dBCQ_['Clinician_Fluids_cuts']=df['Fluid_cuts']\n",
        "\n"
      ],
      "execution_count": null,
      "outputs": []
    },
    {
      "cell_type": "code",
      "metadata": {
        "id": "NbKSu-JSX7ud",
        "outputId": "9588d083-79ee-4c26-fbd7-b14dd502884f",
        "colab": {
          "base_uri": "https://localhost:8080/",
          "height": 204
        }
      },
      "source": [
        "dBCQ_.head()"
      ],
      "execution_count": null,
      "outputs": [
        {
          "output_type": "execute_result",
          "data": {
            "text/html": [
              "<div>\n",
              "<style scoped>\n",
              "    .dataframe tbody tr th:only-of-type {\n",
              "        vertical-align: middle;\n",
              "    }\n",
              "\n",
              "    .dataframe tbody tr th {\n",
              "        vertical-align: top;\n",
              "    }\n",
              "\n",
              "    .dataframe thead th {\n",
              "        text-align: right;\n",
              "    }\n",
              "</style>\n",
              "<table border=\"1\" class=\"dataframe\">\n",
              "  <thead>\n",
              "    <tr style=\"text-align: right;\">\n",
              "      <th></th>\n",
              "      <th>Vaso</th>\n",
              "      <th>Fluids</th>\n",
              "      <th>Clinician_Vaso</th>\n",
              "      <th>Clinician_Fluids</th>\n",
              "      <th>Clinician_Vaso_cuts</th>\n",
              "      <th>Clinician_Fluids_cuts</th>\n",
              "    </tr>\n",
              "  </thead>\n",
              "  <tbody>\n",
              "    <tr>\n",
              "      <th>0</th>\n",
              "      <td>0</td>\n",
              "      <td>0</td>\n",
              "      <td>0.0</td>\n",
              "      <td>0.0</td>\n",
              "      <td>0</td>\n",
              "      <td>0</td>\n",
              "    </tr>\n",
              "    <tr>\n",
              "      <th>1</th>\n",
              "      <td>0</td>\n",
              "      <td>0</td>\n",
              "      <td>0.0</td>\n",
              "      <td>0.0</td>\n",
              "      <td>0</td>\n",
              "      <td>0</td>\n",
              "    </tr>\n",
              "    <tr>\n",
              "      <th>2</th>\n",
              "      <td>0</td>\n",
              "      <td>0</td>\n",
              "      <td>0.0</td>\n",
              "      <td>0.0</td>\n",
              "      <td>0</td>\n",
              "      <td>0</td>\n",
              "    </tr>\n",
              "    <tr>\n",
              "      <th>3</th>\n",
              "      <td>0</td>\n",
              "      <td>0</td>\n",
              "      <td>0.0</td>\n",
              "      <td>0.0</td>\n",
              "      <td>0</td>\n",
              "      <td>0</td>\n",
              "    </tr>\n",
              "    <tr>\n",
              "      <th>4</th>\n",
              "      <td>0</td>\n",
              "      <td>0</td>\n",
              "      <td>0.0</td>\n",
              "      <td>0.0</td>\n",
              "      <td>0</td>\n",
              "      <td>0</td>\n",
              "    </tr>\n",
              "  </tbody>\n",
              "</table>\n",
              "</div>"
            ],
            "text/plain": [
              "   Vaso  Fluids  ...  Clinician_Vaso_cuts  Clinician_Fluids_cuts\n",
              "0     0       0  ...                    0                      0\n",
              "1     0       0  ...                    0                      0\n",
              "2     0       0  ...                    0                      0\n",
              "3     0       0  ...                    0                      0\n",
              "4     0       0  ...                    0                      0\n",
              "\n",
              "[5 rows x 6 columns]"
            ]
          },
          "metadata": {
            "tags": []
          },
          "execution_count": 43
        }
      ]
    },
    {
      "cell_type": "code",
      "metadata": {
        "id": "LtjgRrzfYGBe",
        "outputId": "ed07667d-4537-4b56-ba84-9d81b5fa80cd",
        "colab": {
          "base_uri": "https://localhost:8080/",
          "height": 306
        }
      },
      "source": [
        "dBCQ_[['Vaso','Clinician_Vaso_cuts']].value_counts(normalize=True)"
      ],
      "execution_count": null,
      "outputs": [
        {
          "output_type": "execute_result",
          "data": {
            "text/plain": [
              "Vaso  Clinician_Vaso_cuts\n",
              "0     0                      0.896952\n",
              "4     4                      0.017019\n",
              "0     1                      0.015444\n",
              "4     3                      0.013740\n",
              "0     2                      0.011909\n",
              "4     2                      0.010920\n",
              "0     3                      0.009589\n",
              "4     0                      0.009583\n",
              "      1                      0.008452\n",
              "0     4                      0.006346\n",
              "3     3                      0.000028\n",
              "      0                      0.000007\n",
              "      2                      0.000005\n",
              "      4                      0.000003\n",
              "      1                      0.000003\n",
              "dtype: float64"
            ]
          },
          "metadata": {
            "tags": []
          },
          "execution_count": 45
        }
      ]
    },
    {
      "cell_type": "code",
      "metadata": {
        "id": "qVdcZLiCYdKo",
        "outputId": "042a067b-d5e4-43c4-cc4a-01c1b81e61b6",
        "colab": {
          "base_uri": "https://localhost:8080/",
          "height": 476
        }
      },
      "source": [
        "dBCQ_[['Fluids','Clinician_Fluids_cuts']].value_counts(normalize=True)"
      ],
      "execution_count": null,
      "outputs": [
        {
          "output_type": "execute_result",
          "data": {
            "text/plain": [
              "Fluids  Clinician_Fluids_cuts\n",
              "0       0                        0.557811\n",
              "        1                        0.070571\n",
              "4       4                        0.064258\n",
              "0       2                        0.059357\n",
              "3       3                        0.053904\n",
              "0       3                        0.043470\n",
              "        4                        0.031430\n",
              "1       1                        0.030727\n",
              "2       2                        0.023781\n",
              "3       0                        0.019632\n",
              "        2                        0.015247\n",
              "        1                        0.011239\n",
              "        4                        0.008449\n",
              "1       2                        0.003502\n",
              "        0                        0.002247\n",
              "4       0                        0.001189\n",
              "2       0                        0.000960\n",
              "        1                        0.000558\n",
              "1       3                        0.000408\n",
              "2       3                        0.000370\n",
              "1       4                        0.000264\n",
              "4       2                        0.000208\n",
              "        1                        0.000182\n",
              "2       4                        0.000139\n",
              "4       3                        0.000098\n",
              "dtype: float64"
            ]
          },
          "metadata": {
            "tags": []
          },
          "execution_count": 46
        }
      ]
    },
    {
      "cell_type": "code",
      "metadata": {
        "id": "qMhDVa_dYoJk"
      },
      "source": [
        ""
      ],
      "execution_count": null,
      "outputs": []
    },
    {
      "cell_type": "markdown",
      "metadata": {
        "id": "Ki087T1Tetw5"
      },
      "source": [
        "## DDQN"
      ]
    },
    {
      "cell_type": "code",
      "metadata": {
        "id": "E3ZEWIATevgE"
      },
      "source": [
        "dBCQ=discrete_BCQ(\n",
        "    is_atari=False,\n",
        "\t\tnum_actions=25,\n",
        "\t\tstate_dim=41,\n",
        "\t\tdevice=device,\n",
        "\t\tBCQ_threshold=0.008,\n",
        "\t\tdiscount=0.99,\n",
        "\t\toptimizer=\"Adam\",\n",
        "\t\toptimizer_parameters={},\n",
        "\t\tpolyak_target_update=True,\n",
        "\t\ttarget_update_frequency=8e3,\n",
        "\t\ttau=0.005,\n",
        "\t\tinitial_eps = 1,\n",
        "\t\tend_eps = 0.001,\n",
        "\t\teps_decay_period = 25e4,\n",
        "\t\teval_eps=0,\n",
        "\t)"
      ],
      "execution_count": 23,
      "outputs": []
    },
    {
      "cell_type": "code",
      "metadata": {
        "id": "k78dVJqrhEKg",
        "outputId": "8096e9d3-37a5-4099-ffa3-0f65b64dce92",
        "colab": {
          "base_uri": "https://localhost:8080/",
          "height": 85
        }
      },
      "source": [
        "ls"
      ],
      "execution_count": 25,
      "outputs": [
        {
          "output_type": "stream",
          "text": [
            "dBCQ_0.pt   dBCQ_13.pt  dBCQ__20.pt  dBCQ_4.pt  dBCQ_8.pt    ddqn.pt\n",
            "dBCQ_10.pt  dBCQ_15.pt  dBCQ__21.pt  dBCQ_5.pt  dBCQ_9.pt\n",
            "dBCQ_11.pt  dBCQ_16.pt  dBCQ_2.pt    dBCQ_6.pt  dBCQ.csv\n",
            "dBCQ_12.pt  dBCQ_1.pt   dBCQ_3.pt    dBCQ_7.pt  dBCQ_w_1.pt\n"
          ],
          "name": "stdout"
        }
      ]
    },
    {
      "cell_type": "code",
      "metadata": {
        "id": "oaiia-HeewBo",
        "outputId": "9c61c706-cfce-4c3d-e5af-9e24a0df8ca5",
        "colab": {
          "base_uri": "https://localhost:8080/",
          "height": 34
        }
      },
      "source": [
        "checkpoint=torch.load('ddqn.pt', map_location=torch.device('cpu'))\n",
        "dBCQ.Q.load_state_dict(checkpoint['dBCQ_state_dict'])\n",
        "dBCQ.Q_target.load_state_dict(checkpoint['dBCQ_target_state_dict'])"
      ],
      "execution_count": 26,
      "outputs": [
        {
          "output_type": "execute_result",
          "data": {
            "text/plain": [
              "<All keys matched successfully>"
            ]
          },
          "metadata": {
            "tags": []
          },
          "execution_count": 26
        }
      ]
    },
    {
      "cell_type": "code",
      "metadata": {
        "id": "sQ0N7nDue1Fl"
      },
      "source": [
        "for i in range(1,1000):\n",
        "  dBCQ.train_epoch(loader,i)\n",
        "  torch.save({\n",
        "            'dBCQ_state_dict': dBCQ.Q.state_dict(),\n",
        "             'dBCQ_target_state_dict': dBCQ.Q_target.state_dict(),\n",
        "                \n",
        "            }, 'ddqn.pt'.format(i))"
      ],
      "execution_count": null,
      "outputs": []
    },
    {
      "cell_type": "code",
      "metadata": {
        "id": "ArIZMLD9fJ4W"
      },
      "source": [
        "actions=get_actions(dBCQ)\n",
        "ddQN_actions=np.hstack(actions)\n",
        "print(ddQN_actions.shape)"
      ],
      "execution_count": null,
      "outputs": []
    },
    {
      "cell_type": "code",
      "metadata": {
        "id": "NKtSavNMonYN"
      },
      "source": [
        "acts=[]\n",
        "for i,val in enumerate(ddQN_actions):\n",
        "  print(i*100/df.shape[0])\n",
        "  acts.append(np.argwhere(all_acts==val))\n",
        "actions_=np.vstack(acts)\n",
        "assert actions_.shape[1]==2"
      ],
      "execution_count": null,
      "outputs": []
    },
    {
      "cell_type": "code",
      "metadata": {
        "id": "uYgra-lPvqzX",
        "outputId": "85809991-1b22-4791-d51d-b1bd3edad2f7",
        "colab": {
          "base_uri": "https://localhost:8080/",
          "height": 204
        }
      },
      "source": [
        "dBCQ.head()"
      ],
      "execution_count": 46,
      "outputs": [
        {
          "output_type": "execute_result",
          "data": {
            "text/html": [
              "<div>\n",
              "<style scoped>\n",
              "    .dataframe tbody tr th:only-of-type {\n",
              "        vertical-align: middle;\n",
              "    }\n",
              "\n",
              "    .dataframe tbody tr th {\n",
              "        vertical-align: top;\n",
              "    }\n",
              "\n",
              "    .dataframe thead th {\n",
              "        text-align: right;\n",
              "    }\n",
              "</style>\n",
              "<table border=\"1\" class=\"dataframe\">\n",
              "  <thead>\n",
              "    <tr style=\"text-align: right;\">\n",
              "      <th></th>\n",
              "      <th>Vaso</th>\n",
              "      <th>Fluids</th>\n",
              "      <th>Clinician_Vaso</th>\n",
              "      <th>Clinician_Fluids</th>\n",
              "      <th>Clinician_Vaso_cuts</th>\n",
              "      <th>Clinician_Fluids_cuts</th>\n",
              "      <th>DDQN_Vaso</th>\n",
              "      <th>DDQN_Fluids</th>\n",
              "    </tr>\n",
              "  </thead>\n",
              "  <tbody>\n",
              "    <tr>\n",
              "      <th>0</th>\n",
              "      <td>0</td>\n",
              "      <td>0</td>\n",
              "      <td>0.0</td>\n",
              "      <td>0.0</td>\n",
              "      <td>0</td>\n",
              "      <td>0</td>\n",
              "      <td>0</td>\n",
              "      <td>0</td>\n",
              "    </tr>\n",
              "    <tr>\n",
              "      <th>1</th>\n",
              "      <td>0</td>\n",
              "      <td>0</td>\n",
              "      <td>0.0</td>\n",
              "      <td>0.0</td>\n",
              "      <td>0</td>\n",
              "      <td>0</td>\n",
              "      <td>0</td>\n",
              "      <td>0</td>\n",
              "    </tr>\n",
              "    <tr>\n",
              "      <th>2</th>\n",
              "      <td>0</td>\n",
              "      <td>0</td>\n",
              "      <td>0.0</td>\n",
              "      <td>0.0</td>\n",
              "      <td>0</td>\n",
              "      <td>0</td>\n",
              "      <td>0</td>\n",
              "      <td>0</td>\n",
              "    </tr>\n",
              "    <tr>\n",
              "      <th>3</th>\n",
              "      <td>0</td>\n",
              "      <td>0</td>\n",
              "      <td>0.0</td>\n",
              "      <td>0.0</td>\n",
              "      <td>0</td>\n",
              "      <td>0</td>\n",
              "      <td>0</td>\n",
              "      <td>0</td>\n",
              "    </tr>\n",
              "    <tr>\n",
              "      <th>4</th>\n",
              "      <td>0</td>\n",
              "      <td>0</td>\n",
              "      <td>0.0</td>\n",
              "      <td>0.0</td>\n",
              "      <td>0</td>\n",
              "      <td>0</td>\n",
              "      <td>0</td>\n",
              "      <td>0</td>\n",
              "    </tr>\n",
              "  </tbody>\n",
              "</table>\n",
              "</div>"
            ],
            "text/plain": [
              "   Vaso  Fluids  Clinician_Vaso  ...  Clinician_Fluids_cuts  DDQN_Vaso  DDQN_Fluids\n",
              "0     0       0             0.0  ...                      0          0            0\n",
              "1     0       0             0.0  ...                      0          0            0\n",
              "2     0       0             0.0  ...                      0          0            0\n",
              "3     0       0             0.0  ...                      0          0            0\n",
              "4     0       0             0.0  ...                      0          0            0\n",
              "\n",
              "[5 rows x 8 columns]"
            ]
          },
          "metadata": {
            "tags": []
          },
          "execution_count": 46
        }
      ]
    },
    {
      "cell_type": "code",
      "metadata": {
        "id": "8RQkfZB4wQu-"
      },
      "source": [
        "dBCQ['DDQN_Vaso']=actions_[:,0]\n",
        "dBCQ['DDQN_Fluids']=actions_[:,1]"
      ],
      "execution_count": 39,
      "outputs": []
    },
    {
      "cell_type": "code",
      "metadata": {
        "id": "lvDP5ifowZUM",
        "outputId": "b4341e4c-965b-4edf-cd8a-e32763a9e11d",
        "colab": {
          "base_uri": "https://localhost:8080/",
          "height": 119
        }
      },
      "source": [
        "dBCQ[['DDQN_Vaso','DDQN_Fluids']].value_counts(normalize=True)"
      ],
      "execution_count": 41,
      "outputs": [
        {
          "output_type": "execute_result",
          "data": {
            "text/plain": [
              "DDQN_Vaso  DDQN_Fluids\n",
              "2          3              0.558070\n",
              "0          0              0.403433\n",
              "           4              0.027655\n",
              "           2              0.010842\n",
              "dtype: float64"
            ]
          },
          "metadata": {
            "tags": []
          },
          "execution_count": 41
        }
      ]
    },
    {
      "cell_type": "code",
      "metadata": {
        "id": "ZSuerOFWw2c3",
        "outputId": "180c97f2-1649-4416-a677-b3aaf18aff6f",
        "colab": {
          "base_uri": "https://localhost:8080/",
          "height": 34
        }
      },
      "source": [
        "dBCQ.to_csv('All_actions.csv')\n",
        "print('done')"
      ],
      "execution_count": 43,
      "outputs": [
        {
          "output_type": "stream",
          "text": [
            "done\n"
          ],
          "name": "stdout"
        }
      ]
    },
    {
      "cell_type": "code",
      "metadata": {
        "id": "PtmKhcE_w7FU",
        "outputId": "8aa3d85f-ef3d-4214-bdc7-156e45016579",
        "colab": {
          "base_uri": "https://localhost:8080/",
          "height": 391
        }
      },
      "source": [
        "dBCQ[['Clinician_Fluids_cuts','DDQN_Fluids']].value_counts(normalize=True)"
      ],
      "execution_count": 50,
      "outputs": [
        {
          "output_type": "execute_result",
          "data": {
            "text/plain": [
              "Clinician_Fluids_cuts  DDQN_Fluids\n",
              "0                      0              0.340140\n",
              "                       3              0.241587\n",
              "1                      3              0.106546\n",
              "3                      3              0.094330\n",
              "2                      3              0.079587\n",
              "4                      0              0.040184\n",
              "                       3              0.036021\n",
              "                       4              0.027572\n",
              "2                      0              0.012490\n",
              "                       2              0.010015\n",
              "1                      0              0.006708\n",
              "3                      0              0.003910\n",
              "4                      2              0.000763\n",
              "0                      4              0.000073\n",
              "                       2              0.000038\n",
              "1                      2              0.000020\n",
              "3                      2              0.000006\n",
              "1                      4              0.000004\n",
              "3                      4              0.000003\n",
              "2                      4              0.000003\n",
              "dtype: float64"
            ]
          },
          "metadata": {
            "tags": []
          },
          "execution_count": 50
        }
      ]
    },
    {
      "cell_type": "code",
      "metadata": {
        "id": "3s5NmY2_yXpr"
      },
      "source": [
        ""
      ],
      "execution_count": null,
      "outputs": []
    }
  ]
}